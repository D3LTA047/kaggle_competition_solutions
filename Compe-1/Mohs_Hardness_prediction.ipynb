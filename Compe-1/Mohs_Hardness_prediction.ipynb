{
  "nbformat": 4,
  "nbformat_minor": 0,
  "metadata": {
    "colab": {
      "provenance": []
    },
    "kernelspec": {
      "name": "python3",
      "display_name": "Python 3"
    },
    "language_info": {
      "name": "python"
    }
  },
  "cells": [
    {
      "cell_type": "code",
      "execution_count": 1,
      "metadata": {
        "id": "ElfAJR5XcpMR"
      },
      "outputs": [],
      "source": [
        "import numpy as np\n",
        "import pandas as pd\n",
        "import matplotlib.pyplot as plt\n",
        "import seaborn as sns\n",
        "import plotly.express as px\n",
        "from sklearn.preprocessing import StandardScaler, LabelEncoder\n",
        "from sklearn.model_selection import train_test_split\n",
        "from sklearn.linear_model import LinearRegression , Ridge , Lasso\n",
        "from sklearn.metrics import mean_squared_error,r2_score\n",
        "from sklearn.metrics import mean_absolute_error , r2_score\n",
        "from xgboost import XGBRegressor\n",
        "import warnings\n",
        "warnings.filterwarnings('ignore')"
      ]
    },
    {
      "cell_type": "markdown",
      "source": [
        "**EDA**"
      ],
      "metadata": {
        "id": "VioQRfwQc-JX"
      }
    },
    {
      "cell_type": "code",
      "source": [
        "df=pd.read_csv(\"/content/train.csv\")\n",
        "df.shape"
      ],
      "metadata": {
        "colab": {
          "base_uri": "https://localhost:8080/"
        },
        "id": "Q_UlBSYPdCVI",
        "outputId": "97bcb033-9293-49bf-a37e-094af452a25c"
      },
      "execution_count": 2,
      "outputs": [
        {
          "output_type": "execute_result",
          "data": {
            "text/plain": [
              "(10407, 13)"
            ]
          },
          "metadata": {},
          "execution_count": 2
        }
      ]
    },
    {
      "cell_type": "code",
      "source": [
        "df.head()"
      ],
      "metadata": {
        "colab": {
          "base_uri": "https://localhost:8080/",
          "height": 206
        },
        "id": "bFCCASIwdF31",
        "outputId": "fa219916-b944-4ef4-eee4-0d2c62e33637"
      },
      "execution_count": 3,
      "outputs": [
        {
          "output_type": "execute_result",
          "data": {
            "text/plain": [
              "   id  allelectrons_Total  density_Total  allelectrons_Average  val_e_Average  \\\n",
              "0   0               100.0       0.841611                  10.0            4.8   \n",
              "1   1               100.0       7.558488                  10.0            4.8   \n",
              "2   2                76.0       8.885992                  15.6            5.6   \n",
              "3   3               100.0       8.795296                  10.0            4.8   \n",
              "4   4               116.0       9.577996                  11.6            4.8   \n",
              "\n",
              "   atomicweight_Average  ionenergy_Average  el_neg_chi_Average  \\\n",
              "0             20.612526           11.08810               2.766   \n",
              "1             20.298893           12.04083               2.755   \n",
              "2             33.739258           12.08630               2.828   \n",
              "3             20.213349           10.94850               2.648   \n",
              "4             24.988133           11.82448               2.766   \n",
              "\n",
              "   R_vdw_element_Average  R_cov_element_Average  zaratio_Average  \\\n",
              "0                  1.732                  0.860         0.496070   \n",
              "1                  1.631                  0.910         0.492719   \n",
              "2                  1.788                  0.864         0.481478   \n",
              "3                  1.626                  0.936         0.489272   \n",
              "4                  1.682                  0.896         0.492736   \n",
              "\n",
              "   density_Average  Hardness  \n",
              "0          0.91457       6.0  \n",
              "1          0.71760       6.5  \n",
              "2          1.50633       2.5  \n",
              "3          0.78937       6.0  \n",
              "4          1.86481       6.0  "
            ],
            "text/html": [
              "\n",
              "  <div id=\"df-e733239d-b29f-415f-96fb-800b7ee3743d\" class=\"colab-df-container\">\n",
              "    <div>\n",
              "<style scoped>\n",
              "    .dataframe tbody tr th:only-of-type {\n",
              "        vertical-align: middle;\n",
              "    }\n",
              "\n",
              "    .dataframe tbody tr th {\n",
              "        vertical-align: top;\n",
              "    }\n",
              "\n",
              "    .dataframe thead th {\n",
              "        text-align: right;\n",
              "    }\n",
              "</style>\n",
              "<table border=\"1\" class=\"dataframe\">\n",
              "  <thead>\n",
              "    <tr style=\"text-align: right;\">\n",
              "      <th></th>\n",
              "      <th>id</th>\n",
              "      <th>allelectrons_Total</th>\n",
              "      <th>density_Total</th>\n",
              "      <th>allelectrons_Average</th>\n",
              "      <th>val_e_Average</th>\n",
              "      <th>atomicweight_Average</th>\n",
              "      <th>ionenergy_Average</th>\n",
              "      <th>el_neg_chi_Average</th>\n",
              "      <th>R_vdw_element_Average</th>\n",
              "      <th>R_cov_element_Average</th>\n",
              "      <th>zaratio_Average</th>\n",
              "      <th>density_Average</th>\n",
              "      <th>Hardness</th>\n",
              "    </tr>\n",
              "  </thead>\n",
              "  <tbody>\n",
              "    <tr>\n",
              "      <th>0</th>\n",
              "      <td>0</td>\n",
              "      <td>100.0</td>\n",
              "      <td>0.841611</td>\n",
              "      <td>10.0</td>\n",
              "      <td>4.8</td>\n",
              "      <td>20.612526</td>\n",
              "      <td>11.08810</td>\n",
              "      <td>2.766</td>\n",
              "      <td>1.732</td>\n",
              "      <td>0.860</td>\n",
              "      <td>0.496070</td>\n",
              "      <td>0.91457</td>\n",
              "      <td>6.0</td>\n",
              "    </tr>\n",
              "    <tr>\n",
              "      <th>1</th>\n",
              "      <td>1</td>\n",
              "      <td>100.0</td>\n",
              "      <td>7.558488</td>\n",
              "      <td>10.0</td>\n",
              "      <td>4.8</td>\n",
              "      <td>20.298893</td>\n",
              "      <td>12.04083</td>\n",
              "      <td>2.755</td>\n",
              "      <td>1.631</td>\n",
              "      <td>0.910</td>\n",
              "      <td>0.492719</td>\n",
              "      <td>0.71760</td>\n",
              "      <td>6.5</td>\n",
              "    </tr>\n",
              "    <tr>\n",
              "      <th>2</th>\n",
              "      <td>2</td>\n",
              "      <td>76.0</td>\n",
              "      <td>8.885992</td>\n",
              "      <td>15.6</td>\n",
              "      <td>5.6</td>\n",
              "      <td>33.739258</td>\n",
              "      <td>12.08630</td>\n",
              "      <td>2.828</td>\n",
              "      <td>1.788</td>\n",
              "      <td>0.864</td>\n",
              "      <td>0.481478</td>\n",
              "      <td>1.50633</td>\n",
              "      <td>2.5</td>\n",
              "    </tr>\n",
              "    <tr>\n",
              "      <th>3</th>\n",
              "      <td>3</td>\n",
              "      <td>100.0</td>\n",
              "      <td>8.795296</td>\n",
              "      <td>10.0</td>\n",
              "      <td>4.8</td>\n",
              "      <td>20.213349</td>\n",
              "      <td>10.94850</td>\n",
              "      <td>2.648</td>\n",
              "      <td>1.626</td>\n",
              "      <td>0.936</td>\n",
              "      <td>0.489272</td>\n",
              "      <td>0.78937</td>\n",
              "      <td>6.0</td>\n",
              "    </tr>\n",
              "    <tr>\n",
              "      <th>4</th>\n",
              "      <td>4</td>\n",
              "      <td>116.0</td>\n",
              "      <td>9.577996</td>\n",
              "      <td>11.6</td>\n",
              "      <td>4.8</td>\n",
              "      <td>24.988133</td>\n",
              "      <td>11.82448</td>\n",
              "      <td>2.766</td>\n",
              "      <td>1.682</td>\n",
              "      <td>0.896</td>\n",
              "      <td>0.492736</td>\n",
              "      <td>1.86481</td>\n",
              "      <td>6.0</td>\n",
              "    </tr>\n",
              "  </tbody>\n",
              "</table>\n",
              "</div>\n",
              "    <div class=\"colab-df-buttons\">\n",
              "\n",
              "  <div class=\"colab-df-container\">\n",
              "    <button class=\"colab-df-convert\" onclick=\"convertToInteractive('df-e733239d-b29f-415f-96fb-800b7ee3743d')\"\n",
              "            title=\"Convert this dataframe to an interactive table.\"\n",
              "            style=\"display:none;\">\n",
              "\n",
              "  <svg xmlns=\"http://www.w3.org/2000/svg\" height=\"24px\" viewBox=\"0 -960 960 960\">\n",
              "    <path d=\"M120-120v-720h720v720H120Zm60-500h600v-160H180v160Zm220 220h160v-160H400v160Zm0 220h160v-160H400v160ZM180-400h160v-160H180v160Zm440 0h160v-160H620v160ZM180-180h160v-160H180v160Zm440 0h160v-160H620v160Z\"/>\n",
              "  </svg>\n",
              "    </button>\n",
              "\n",
              "  <style>\n",
              "    .colab-df-container {\n",
              "      display:flex;\n",
              "      gap: 12px;\n",
              "    }\n",
              "\n",
              "    .colab-df-convert {\n",
              "      background-color: #E8F0FE;\n",
              "      border: none;\n",
              "      border-radius: 50%;\n",
              "      cursor: pointer;\n",
              "      display: none;\n",
              "      fill: #1967D2;\n",
              "      height: 32px;\n",
              "      padding: 0 0 0 0;\n",
              "      width: 32px;\n",
              "    }\n",
              "\n",
              "    .colab-df-convert:hover {\n",
              "      background-color: #E2EBFA;\n",
              "      box-shadow: 0px 1px 2px rgba(60, 64, 67, 0.3), 0px 1px 3px 1px rgba(60, 64, 67, 0.15);\n",
              "      fill: #174EA6;\n",
              "    }\n",
              "\n",
              "    .colab-df-buttons div {\n",
              "      margin-bottom: 4px;\n",
              "    }\n",
              "\n",
              "    [theme=dark] .colab-df-convert {\n",
              "      background-color: #3B4455;\n",
              "      fill: #D2E3FC;\n",
              "    }\n",
              "\n",
              "    [theme=dark] .colab-df-convert:hover {\n",
              "      background-color: #434B5C;\n",
              "      box-shadow: 0px 1px 3px 1px rgba(0, 0, 0, 0.15);\n",
              "      filter: drop-shadow(0px 1px 2px rgba(0, 0, 0, 0.3));\n",
              "      fill: #FFFFFF;\n",
              "    }\n",
              "  </style>\n",
              "\n",
              "    <script>\n",
              "      const buttonEl =\n",
              "        document.querySelector('#df-e733239d-b29f-415f-96fb-800b7ee3743d button.colab-df-convert');\n",
              "      buttonEl.style.display =\n",
              "        google.colab.kernel.accessAllowed ? 'block' : 'none';\n",
              "\n",
              "      async function convertToInteractive(key) {\n",
              "        const element = document.querySelector('#df-e733239d-b29f-415f-96fb-800b7ee3743d');\n",
              "        const dataTable =\n",
              "          await google.colab.kernel.invokeFunction('convertToInteractive',\n",
              "                                                    [key], {});\n",
              "        if (!dataTable) return;\n",
              "\n",
              "        const docLinkHtml = 'Like what you see? Visit the ' +\n",
              "          '<a target=\"_blank\" href=https://colab.research.google.com/notebooks/data_table.ipynb>data table notebook</a>'\n",
              "          + ' to learn more about interactive tables.';\n",
              "        element.innerHTML = '';\n",
              "        dataTable['output_type'] = 'display_data';\n",
              "        await google.colab.output.renderOutput(dataTable, element);\n",
              "        const docLink = document.createElement('div');\n",
              "        docLink.innerHTML = docLinkHtml;\n",
              "        element.appendChild(docLink);\n",
              "      }\n",
              "    </script>\n",
              "  </div>\n",
              "\n",
              "\n",
              "<div id=\"df-5cccaa29-f630-4b60-88a7-2476e33eaf42\">\n",
              "  <button class=\"colab-df-quickchart\" onclick=\"quickchart('df-5cccaa29-f630-4b60-88a7-2476e33eaf42')\"\n",
              "            title=\"Suggest charts\"\n",
              "            style=\"display:none;\">\n",
              "\n",
              "<svg xmlns=\"http://www.w3.org/2000/svg\" height=\"24px\"viewBox=\"0 0 24 24\"\n",
              "     width=\"24px\">\n",
              "    <g>\n",
              "        <path d=\"M19 3H5c-1.1 0-2 .9-2 2v14c0 1.1.9 2 2 2h14c1.1 0 2-.9 2-2V5c0-1.1-.9-2-2-2zM9 17H7v-7h2v7zm4 0h-2V7h2v10zm4 0h-2v-4h2v4z\"/>\n",
              "    </g>\n",
              "</svg>\n",
              "  </button>\n",
              "\n",
              "<style>\n",
              "  .colab-df-quickchart {\n",
              "      --bg-color: #E8F0FE;\n",
              "      --fill-color: #1967D2;\n",
              "      --hover-bg-color: #E2EBFA;\n",
              "      --hover-fill-color: #174EA6;\n",
              "      --disabled-fill-color: #AAA;\n",
              "      --disabled-bg-color: #DDD;\n",
              "  }\n",
              "\n",
              "  [theme=dark] .colab-df-quickchart {\n",
              "      --bg-color: #3B4455;\n",
              "      --fill-color: #D2E3FC;\n",
              "      --hover-bg-color: #434B5C;\n",
              "      --hover-fill-color: #FFFFFF;\n",
              "      --disabled-bg-color: #3B4455;\n",
              "      --disabled-fill-color: #666;\n",
              "  }\n",
              "\n",
              "  .colab-df-quickchart {\n",
              "    background-color: var(--bg-color);\n",
              "    border: none;\n",
              "    border-radius: 50%;\n",
              "    cursor: pointer;\n",
              "    display: none;\n",
              "    fill: var(--fill-color);\n",
              "    height: 32px;\n",
              "    padding: 0;\n",
              "    width: 32px;\n",
              "  }\n",
              "\n",
              "  .colab-df-quickchart:hover {\n",
              "    background-color: var(--hover-bg-color);\n",
              "    box-shadow: 0 1px 2px rgba(60, 64, 67, 0.3), 0 1px 3px 1px rgba(60, 64, 67, 0.15);\n",
              "    fill: var(--button-hover-fill-color);\n",
              "  }\n",
              "\n",
              "  .colab-df-quickchart-complete:disabled,\n",
              "  .colab-df-quickchart-complete:disabled:hover {\n",
              "    background-color: var(--disabled-bg-color);\n",
              "    fill: var(--disabled-fill-color);\n",
              "    box-shadow: none;\n",
              "  }\n",
              "\n",
              "  .colab-df-spinner {\n",
              "    border: 2px solid var(--fill-color);\n",
              "    border-color: transparent;\n",
              "    border-bottom-color: var(--fill-color);\n",
              "    animation:\n",
              "      spin 1s steps(1) infinite;\n",
              "  }\n",
              "\n",
              "  @keyframes spin {\n",
              "    0% {\n",
              "      border-color: transparent;\n",
              "      border-bottom-color: var(--fill-color);\n",
              "      border-left-color: var(--fill-color);\n",
              "    }\n",
              "    20% {\n",
              "      border-color: transparent;\n",
              "      border-left-color: var(--fill-color);\n",
              "      border-top-color: var(--fill-color);\n",
              "    }\n",
              "    30% {\n",
              "      border-color: transparent;\n",
              "      border-left-color: var(--fill-color);\n",
              "      border-top-color: var(--fill-color);\n",
              "      border-right-color: var(--fill-color);\n",
              "    }\n",
              "    40% {\n",
              "      border-color: transparent;\n",
              "      border-right-color: var(--fill-color);\n",
              "      border-top-color: var(--fill-color);\n",
              "    }\n",
              "    60% {\n",
              "      border-color: transparent;\n",
              "      border-right-color: var(--fill-color);\n",
              "    }\n",
              "    80% {\n",
              "      border-color: transparent;\n",
              "      border-right-color: var(--fill-color);\n",
              "      border-bottom-color: var(--fill-color);\n",
              "    }\n",
              "    90% {\n",
              "      border-color: transparent;\n",
              "      border-bottom-color: var(--fill-color);\n",
              "    }\n",
              "  }\n",
              "</style>\n",
              "\n",
              "  <script>\n",
              "    async function quickchart(key) {\n",
              "      const quickchartButtonEl =\n",
              "        document.querySelector('#' + key + ' button');\n",
              "      quickchartButtonEl.disabled = true;  // To prevent multiple clicks.\n",
              "      quickchartButtonEl.classList.add('colab-df-spinner');\n",
              "      try {\n",
              "        const charts = await google.colab.kernel.invokeFunction(\n",
              "            'suggestCharts', [key], {});\n",
              "      } catch (error) {\n",
              "        console.error('Error during call to suggestCharts:', error);\n",
              "      }\n",
              "      quickchartButtonEl.classList.remove('colab-df-spinner');\n",
              "      quickchartButtonEl.classList.add('colab-df-quickchart-complete');\n",
              "    }\n",
              "    (() => {\n",
              "      let quickchartButtonEl =\n",
              "        document.querySelector('#df-5cccaa29-f630-4b60-88a7-2476e33eaf42 button');\n",
              "      quickchartButtonEl.style.display =\n",
              "        google.colab.kernel.accessAllowed ? 'block' : 'none';\n",
              "    })();\n",
              "  </script>\n",
              "</div>\n",
              "    </div>\n",
              "  </div>\n"
            ]
          },
          "metadata": {},
          "execution_count": 3
        }
      ]
    },
    {
      "cell_type": "code",
      "source": [
        "df.tail()"
      ],
      "metadata": {
        "colab": {
          "base_uri": "https://localhost:8080/",
          "height": 226
        },
        "id": "9xzRf_TVdJq-",
        "outputId": "5566de25-0bfe-4249-8682-51b5105798e1"
      },
      "execution_count": 4,
      "outputs": [
        {
          "output_type": "execute_result",
          "data": {
            "text/plain": [
              "          id  allelectrons_Total  density_Total  allelectrons_Average  \\\n",
              "10402  10402               128.0       7.558488             12.000000   \n",
              "10403  10403                30.0       1.743160             10.000000   \n",
              "10404  10404               196.0      30.920000             24.500000   \n",
              "10405  10405                38.0       1.553160             12.666667   \n",
              "10406  10406               288.0      24.655328             11.142857   \n",
              "\n",
              "       val_e_Average  atomicweight_Average  ionenergy_Average  \\\n",
              "10402       4.000000             26.385218          11.330440   \n",
              "10403       5.333333             20.766935          14.163933   \n",
              "10404       5.500000             53.490297          10.074300   \n",
              "10405       4.666667             26.621687          11.290033   \n",
              "10406       4.571429             22.536126          10.960357   \n",
              "\n",
              "       el_neg_chi_Average  R_vdw_element_Average  R_cov_element_Average  \\\n",
              "10402            2.644000               1.631000               0.892000   \n",
              "10403            3.090000               1.556667               0.866667   \n",
              "10404            2.295000               1.545000               1.120000   \n",
              "10405            2.743333               1.756667               0.980000   \n",
              "10406            2.792143               1.772857               0.940000   \n",
              "\n",
              "       zaratio_Average  density_Average  Hardness  \n",
              "10402         0.496070          1.79607       4.0  \n",
              "10403         0.480390          0.81480       5.0  \n",
              "10404         0.469715          2.11540       1.8  \n",
              "10405         0.486507          0.77755       6.0  \n",
              "10406         0.493919          0.97737       6.5  "
            ],
            "text/html": [
              "\n",
              "  <div id=\"df-5921cbee-f433-4e87-b5a0-174cb7af725c\" class=\"colab-df-container\">\n",
              "    <div>\n",
              "<style scoped>\n",
              "    .dataframe tbody tr th:only-of-type {\n",
              "        vertical-align: middle;\n",
              "    }\n",
              "\n",
              "    .dataframe tbody tr th {\n",
              "        vertical-align: top;\n",
              "    }\n",
              "\n",
              "    .dataframe thead th {\n",
              "        text-align: right;\n",
              "    }\n",
              "</style>\n",
              "<table border=\"1\" class=\"dataframe\">\n",
              "  <thead>\n",
              "    <tr style=\"text-align: right;\">\n",
              "      <th></th>\n",
              "      <th>id</th>\n",
              "      <th>allelectrons_Total</th>\n",
              "      <th>density_Total</th>\n",
              "      <th>allelectrons_Average</th>\n",
              "      <th>val_e_Average</th>\n",
              "      <th>atomicweight_Average</th>\n",
              "      <th>ionenergy_Average</th>\n",
              "      <th>el_neg_chi_Average</th>\n",
              "      <th>R_vdw_element_Average</th>\n",
              "      <th>R_cov_element_Average</th>\n",
              "      <th>zaratio_Average</th>\n",
              "      <th>density_Average</th>\n",
              "      <th>Hardness</th>\n",
              "    </tr>\n",
              "  </thead>\n",
              "  <tbody>\n",
              "    <tr>\n",
              "      <th>10402</th>\n",
              "      <td>10402</td>\n",
              "      <td>128.0</td>\n",
              "      <td>7.558488</td>\n",
              "      <td>12.000000</td>\n",
              "      <td>4.000000</td>\n",
              "      <td>26.385218</td>\n",
              "      <td>11.330440</td>\n",
              "      <td>2.644000</td>\n",
              "      <td>1.631000</td>\n",
              "      <td>0.892000</td>\n",
              "      <td>0.496070</td>\n",
              "      <td>1.79607</td>\n",
              "      <td>4.0</td>\n",
              "    </tr>\n",
              "    <tr>\n",
              "      <th>10403</th>\n",
              "      <td>10403</td>\n",
              "      <td>30.0</td>\n",
              "      <td>1.743160</td>\n",
              "      <td>10.000000</td>\n",
              "      <td>5.333333</td>\n",
              "      <td>20.766935</td>\n",
              "      <td>14.163933</td>\n",
              "      <td>3.090000</td>\n",
              "      <td>1.556667</td>\n",
              "      <td>0.866667</td>\n",
              "      <td>0.480390</td>\n",
              "      <td>0.81480</td>\n",
              "      <td>5.0</td>\n",
              "    </tr>\n",
              "    <tr>\n",
              "      <th>10404</th>\n",
              "      <td>10404</td>\n",
              "      <td>196.0</td>\n",
              "      <td>30.920000</td>\n",
              "      <td>24.500000</td>\n",
              "      <td>5.500000</td>\n",
              "      <td>53.490297</td>\n",
              "      <td>10.074300</td>\n",
              "      <td>2.295000</td>\n",
              "      <td>1.545000</td>\n",
              "      <td>1.120000</td>\n",
              "      <td>0.469715</td>\n",
              "      <td>2.11540</td>\n",
              "      <td>1.8</td>\n",
              "    </tr>\n",
              "    <tr>\n",
              "      <th>10405</th>\n",
              "      <td>10405</td>\n",
              "      <td>38.0</td>\n",
              "      <td>1.553160</td>\n",
              "      <td>12.666667</td>\n",
              "      <td>4.666667</td>\n",
              "      <td>26.621687</td>\n",
              "      <td>11.290033</td>\n",
              "      <td>2.743333</td>\n",
              "      <td>1.756667</td>\n",
              "      <td>0.980000</td>\n",
              "      <td>0.486507</td>\n",
              "      <td>0.77755</td>\n",
              "      <td>6.0</td>\n",
              "    </tr>\n",
              "    <tr>\n",
              "      <th>10406</th>\n",
              "      <td>10406</td>\n",
              "      <td>288.0</td>\n",
              "      <td>24.655328</td>\n",
              "      <td>11.142857</td>\n",
              "      <td>4.571429</td>\n",
              "      <td>22.536126</td>\n",
              "      <td>10.960357</td>\n",
              "      <td>2.792143</td>\n",
              "      <td>1.772857</td>\n",
              "      <td>0.940000</td>\n",
              "      <td>0.493919</td>\n",
              "      <td>0.97737</td>\n",
              "      <td>6.5</td>\n",
              "    </tr>\n",
              "  </tbody>\n",
              "</table>\n",
              "</div>\n",
              "    <div class=\"colab-df-buttons\">\n",
              "\n",
              "  <div class=\"colab-df-container\">\n",
              "    <button class=\"colab-df-convert\" onclick=\"convertToInteractive('df-5921cbee-f433-4e87-b5a0-174cb7af725c')\"\n",
              "            title=\"Convert this dataframe to an interactive table.\"\n",
              "            style=\"display:none;\">\n",
              "\n",
              "  <svg xmlns=\"http://www.w3.org/2000/svg\" height=\"24px\" viewBox=\"0 -960 960 960\">\n",
              "    <path d=\"M120-120v-720h720v720H120Zm60-500h600v-160H180v160Zm220 220h160v-160H400v160Zm0 220h160v-160H400v160ZM180-400h160v-160H180v160Zm440 0h160v-160H620v160ZM180-180h160v-160H180v160Zm440 0h160v-160H620v160Z\"/>\n",
              "  </svg>\n",
              "    </button>\n",
              "\n",
              "  <style>\n",
              "    .colab-df-container {\n",
              "      display:flex;\n",
              "      gap: 12px;\n",
              "    }\n",
              "\n",
              "    .colab-df-convert {\n",
              "      background-color: #E8F0FE;\n",
              "      border: none;\n",
              "      border-radius: 50%;\n",
              "      cursor: pointer;\n",
              "      display: none;\n",
              "      fill: #1967D2;\n",
              "      height: 32px;\n",
              "      padding: 0 0 0 0;\n",
              "      width: 32px;\n",
              "    }\n",
              "\n",
              "    .colab-df-convert:hover {\n",
              "      background-color: #E2EBFA;\n",
              "      box-shadow: 0px 1px 2px rgba(60, 64, 67, 0.3), 0px 1px 3px 1px rgba(60, 64, 67, 0.15);\n",
              "      fill: #174EA6;\n",
              "    }\n",
              "\n",
              "    .colab-df-buttons div {\n",
              "      margin-bottom: 4px;\n",
              "    }\n",
              "\n",
              "    [theme=dark] .colab-df-convert {\n",
              "      background-color: #3B4455;\n",
              "      fill: #D2E3FC;\n",
              "    }\n",
              "\n",
              "    [theme=dark] .colab-df-convert:hover {\n",
              "      background-color: #434B5C;\n",
              "      box-shadow: 0px 1px 3px 1px rgba(0, 0, 0, 0.15);\n",
              "      filter: drop-shadow(0px 1px 2px rgba(0, 0, 0, 0.3));\n",
              "      fill: #FFFFFF;\n",
              "    }\n",
              "  </style>\n",
              "\n",
              "    <script>\n",
              "      const buttonEl =\n",
              "        document.querySelector('#df-5921cbee-f433-4e87-b5a0-174cb7af725c button.colab-df-convert');\n",
              "      buttonEl.style.display =\n",
              "        google.colab.kernel.accessAllowed ? 'block' : 'none';\n",
              "\n",
              "      async function convertToInteractive(key) {\n",
              "        const element = document.querySelector('#df-5921cbee-f433-4e87-b5a0-174cb7af725c');\n",
              "        const dataTable =\n",
              "          await google.colab.kernel.invokeFunction('convertToInteractive',\n",
              "                                                    [key], {});\n",
              "        if (!dataTable) return;\n",
              "\n",
              "        const docLinkHtml = 'Like what you see? Visit the ' +\n",
              "          '<a target=\"_blank\" href=https://colab.research.google.com/notebooks/data_table.ipynb>data table notebook</a>'\n",
              "          + ' to learn more about interactive tables.';\n",
              "        element.innerHTML = '';\n",
              "        dataTable['output_type'] = 'display_data';\n",
              "        await google.colab.output.renderOutput(dataTable, element);\n",
              "        const docLink = document.createElement('div');\n",
              "        docLink.innerHTML = docLinkHtml;\n",
              "        element.appendChild(docLink);\n",
              "      }\n",
              "    </script>\n",
              "  </div>\n",
              "\n",
              "\n",
              "<div id=\"df-0008d491-4952-4893-8161-e736fb56eb7a\">\n",
              "  <button class=\"colab-df-quickchart\" onclick=\"quickchart('df-0008d491-4952-4893-8161-e736fb56eb7a')\"\n",
              "            title=\"Suggest charts\"\n",
              "            style=\"display:none;\">\n",
              "\n",
              "<svg xmlns=\"http://www.w3.org/2000/svg\" height=\"24px\"viewBox=\"0 0 24 24\"\n",
              "     width=\"24px\">\n",
              "    <g>\n",
              "        <path d=\"M19 3H5c-1.1 0-2 .9-2 2v14c0 1.1.9 2 2 2h14c1.1 0 2-.9 2-2V5c0-1.1-.9-2-2-2zM9 17H7v-7h2v7zm4 0h-2V7h2v10zm4 0h-2v-4h2v4z\"/>\n",
              "    </g>\n",
              "</svg>\n",
              "  </button>\n",
              "\n",
              "<style>\n",
              "  .colab-df-quickchart {\n",
              "      --bg-color: #E8F0FE;\n",
              "      --fill-color: #1967D2;\n",
              "      --hover-bg-color: #E2EBFA;\n",
              "      --hover-fill-color: #174EA6;\n",
              "      --disabled-fill-color: #AAA;\n",
              "      --disabled-bg-color: #DDD;\n",
              "  }\n",
              "\n",
              "  [theme=dark] .colab-df-quickchart {\n",
              "      --bg-color: #3B4455;\n",
              "      --fill-color: #D2E3FC;\n",
              "      --hover-bg-color: #434B5C;\n",
              "      --hover-fill-color: #FFFFFF;\n",
              "      --disabled-bg-color: #3B4455;\n",
              "      --disabled-fill-color: #666;\n",
              "  }\n",
              "\n",
              "  .colab-df-quickchart {\n",
              "    background-color: var(--bg-color);\n",
              "    border: none;\n",
              "    border-radius: 50%;\n",
              "    cursor: pointer;\n",
              "    display: none;\n",
              "    fill: var(--fill-color);\n",
              "    height: 32px;\n",
              "    padding: 0;\n",
              "    width: 32px;\n",
              "  }\n",
              "\n",
              "  .colab-df-quickchart:hover {\n",
              "    background-color: var(--hover-bg-color);\n",
              "    box-shadow: 0 1px 2px rgba(60, 64, 67, 0.3), 0 1px 3px 1px rgba(60, 64, 67, 0.15);\n",
              "    fill: var(--button-hover-fill-color);\n",
              "  }\n",
              "\n",
              "  .colab-df-quickchart-complete:disabled,\n",
              "  .colab-df-quickchart-complete:disabled:hover {\n",
              "    background-color: var(--disabled-bg-color);\n",
              "    fill: var(--disabled-fill-color);\n",
              "    box-shadow: none;\n",
              "  }\n",
              "\n",
              "  .colab-df-spinner {\n",
              "    border: 2px solid var(--fill-color);\n",
              "    border-color: transparent;\n",
              "    border-bottom-color: var(--fill-color);\n",
              "    animation:\n",
              "      spin 1s steps(1) infinite;\n",
              "  }\n",
              "\n",
              "  @keyframes spin {\n",
              "    0% {\n",
              "      border-color: transparent;\n",
              "      border-bottom-color: var(--fill-color);\n",
              "      border-left-color: var(--fill-color);\n",
              "    }\n",
              "    20% {\n",
              "      border-color: transparent;\n",
              "      border-left-color: var(--fill-color);\n",
              "      border-top-color: var(--fill-color);\n",
              "    }\n",
              "    30% {\n",
              "      border-color: transparent;\n",
              "      border-left-color: var(--fill-color);\n",
              "      border-top-color: var(--fill-color);\n",
              "      border-right-color: var(--fill-color);\n",
              "    }\n",
              "    40% {\n",
              "      border-color: transparent;\n",
              "      border-right-color: var(--fill-color);\n",
              "      border-top-color: var(--fill-color);\n",
              "    }\n",
              "    60% {\n",
              "      border-color: transparent;\n",
              "      border-right-color: var(--fill-color);\n",
              "    }\n",
              "    80% {\n",
              "      border-color: transparent;\n",
              "      border-right-color: var(--fill-color);\n",
              "      border-bottom-color: var(--fill-color);\n",
              "    }\n",
              "    90% {\n",
              "      border-color: transparent;\n",
              "      border-bottom-color: var(--fill-color);\n",
              "    }\n",
              "  }\n",
              "</style>\n",
              "\n",
              "  <script>\n",
              "    async function quickchart(key) {\n",
              "      const quickchartButtonEl =\n",
              "        document.querySelector('#' + key + ' button');\n",
              "      quickchartButtonEl.disabled = true;  // To prevent multiple clicks.\n",
              "      quickchartButtonEl.classList.add('colab-df-spinner');\n",
              "      try {\n",
              "        const charts = await google.colab.kernel.invokeFunction(\n",
              "            'suggestCharts', [key], {});\n",
              "      } catch (error) {\n",
              "        console.error('Error during call to suggestCharts:', error);\n",
              "      }\n",
              "      quickchartButtonEl.classList.remove('colab-df-spinner');\n",
              "      quickchartButtonEl.classList.add('colab-df-quickchart-complete');\n",
              "    }\n",
              "    (() => {\n",
              "      let quickchartButtonEl =\n",
              "        document.querySelector('#df-0008d491-4952-4893-8161-e736fb56eb7a button');\n",
              "      quickchartButtonEl.style.display =\n",
              "        google.colab.kernel.accessAllowed ? 'block' : 'none';\n",
              "    })();\n",
              "  </script>\n",
              "</div>\n",
              "    </div>\n",
              "  </div>\n"
            ]
          },
          "metadata": {},
          "execution_count": 4
        }
      ]
    },
    {
      "cell_type": "code",
      "source": [
        "df.columns.to_list()"
      ],
      "metadata": {
        "colab": {
          "base_uri": "https://localhost:8080/"
        },
        "id": "pZtHHF6XdJty",
        "outputId": "bc1bc803-31fb-4703-b512-8054e47b5608"
      },
      "execution_count": 5,
      "outputs": [
        {
          "output_type": "execute_result",
          "data": {
            "text/plain": [
              "['id',\n",
              " 'allelectrons_Total',\n",
              " 'density_Total',\n",
              " 'allelectrons_Average',\n",
              " 'val_e_Average',\n",
              " 'atomicweight_Average',\n",
              " 'ionenergy_Average',\n",
              " 'el_neg_chi_Average',\n",
              " 'R_vdw_element_Average',\n",
              " 'R_cov_element_Average',\n",
              " 'zaratio_Average',\n",
              " 'density_Average',\n",
              " 'Hardness']"
            ]
          },
          "metadata": {},
          "execution_count": 5
        }
      ]
    },
    {
      "cell_type": "code",
      "source": [
        "df.info()"
      ],
      "metadata": {
        "colab": {
          "base_uri": "https://localhost:8080/"
        },
        "id": "Co_nKl73dJwz",
        "outputId": "dbfdfc9d-bbee-4cd7-8b3f-fa9485b97bfe"
      },
      "execution_count": 6,
      "outputs": [
        {
          "output_type": "stream",
          "name": "stdout",
          "text": [
            "<class 'pandas.core.frame.DataFrame'>\n",
            "RangeIndex: 10407 entries, 0 to 10406\n",
            "Data columns (total 13 columns):\n",
            " #   Column                 Non-Null Count  Dtype  \n",
            "---  ------                 --------------  -----  \n",
            " 0   id                     10407 non-null  int64  \n",
            " 1   allelectrons_Total     10407 non-null  float64\n",
            " 2   density_Total          10407 non-null  float64\n",
            " 3   allelectrons_Average   10407 non-null  float64\n",
            " 4   val_e_Average          10407 non-null  float64\n",
            " 5   atomicweight_Average   10407 non-null  float64\n",
            " 6   ionenergy_Average      10407 non-null  float64\n",
            " 7   el_neg_chi_Average     10407 non-null  float64\n",
            " 8   R_vdw_element_Average  10407 non-null  float64\n",
            " 9   R_cov_element_Average  10407 non-null  float64\n",
            " 10  zaratio_Average        10407 non-null  float64\n",
            " 11  density_Average        10407 non-null  float64\n",
            " 12  Hardness               10407 non-null  float64\n",
            "dtypes: float64(12), int64(1)\n",
            "memory usage: 1.0 MB\n"
          ]
        }
      ]
    },
    {
      "cell_type": "code",
      "source": [
        "df.isna().sum()"
      ],
      "metadata": {
        "colab": {
          "base_uri": "https://localhost:8080/"
        },
        "id": "ovDAv8zDdJzl",
        "outputId": "30c2b032-f55b-45b5-82a6-19e16cfa56cb"
      },
      "execution_count": 7,
      "outputs": [
        {
          "output_type": "execute_result",
          "data": {
            "text/plain": [
              "id                       0\n",
              "allelectrons_Total       0\n",
              "density_Total            0\n",
              "allelectrons_Average     0\n",
              "val_e_Average            0\n",
              "atomicweight_Average     0\n",
              "ionenergy_Average        0\n",
              "el_neg_chi_Average       0\n",
              "R_vdw_element_Average    0\n",
              "R_cov_element_Average    0\n",
              "zaratio_Average          0\n",
              "density_Average          0\n",
              "Hardness                 0\n",
              "dtype: int64"
            ]
          },
          "metadata": {},
          "execution_count": 7
        }
      ]
    },
    {
      "cell_type": "code",
      "source": [
        "df.duplicated().sum()"
      ],
      "metadata": {
        "colab": {
          "base_uri": "https://localhost:8080/"
        },
        "id": "bT9Wx9xddJ2M",
        "outputId": "ee980113-20f7-4bae-e304-33cf9029e2f9"
      },
      "execution_count": 8,
      "outputs": [
        {
          "output_type": "execute_result",
          "data": {
            "text/plain": [
              "0"
            ]
          },
          "metadata": {},
          "execution_count": 8
        }
      ]
    },
    {
      "cell_type": "code",
      "source": [
        "df.describe()"
      ],
      "metadata": {
        "colab": {
          "base_uri": "https://localhost:8080/",
          "height": 320
        },
        "id": "6U975IoRdJ5F",
        "outputId": "2a5b7a27-7618-406d-a592-19dae93406a8"
      },
      "execution_count": 9,
      "outputs": [
        {
          "output_type": "execute_result",
          "data": {
            "text/plain": [
              "                id  allelectrons_Total  density_Total  allelectrons_Average  \\\n",
              "count  10407.00000        10407.000000   10407.000000          10407.000000   \n",
              "mean    5203.00000          128.053516      14.491342             17.033222   \n",
              "std     3004.38646          224.123776      15.972877             10.468734   \n",
              "min        0.00000            0.000000       0.000000              0.000000   \n",
              "25%     2601.50000           68.000000       7.558488             10.000000   \n",
              "50%     5203.00000          100.000000      10.650000             12.600000   \n",
              "75%     7804.50000          131.000000      16.676996             22.000000   \n",
              "max    10406.00000        15300.000000     643.093804             67.000000   \n",
              "\n",
              "       val_e_Average  atomicweight_Average  ionenergy_Average  \\\n",
              "count   10407.000000          10407.000000       10407.000000   \n",
              "mean        4.546789             37.507703          10.938308   \n",
              "std         0.690864             26.012313           1.408276   \n",
              "min         0.000000              0.000000           0.000000   \n",
              "25%         4.000000             20.298893          10.590660   \n",
              "50%         4.714286             26.203827          11.202760   \n",
              "75%         4.800000             48.719500          11.670725   \n",
              "max         6.000000            167.400000          15.245810   \n",
              "\n",
              "       el_neg_chi_Average  R_vdw_element_Average  R_cov_element_Average  \\\n",
              "count        10407.000000           10407.000000           10407.000000   \n",
              "mean             2.607662               1.731330               0.944132   \n",
              "std              0.334906               0.192481               0.180017   \n",
              "min              0.000000               0.000000               0.000000   \n",
              "25%              2.530000               1.672500               0.864000   \n",
              "50%              2.706000               1.732727               0.915556   \n",
              "75%              2.805000               1.800000               0.981667   \n",
              "max              3.443000               2.250000               1.615840   \n",
              "\n",
              "       zaratio_Average  density_Average      Hardness  \n",
              "count     10407.000000     10407.000000  10407.000000  \n",
              "mean          0.493349         2.132984      4.647126  \n",
              "std           0.063080         1.936656      1.680525  \n",
              "min           0.000000         0.000000      1.000000  \n",
              "25%           0.476196         0.814800      3.000000  \n",
              "50%           0.488550         1.351550      5.500000  \n",
              "75%           0.496070         2.741550      6.000000  \n",
              "max           0.825990        10.970000     10.000000  "
            ],
            "text/html": [
              "\n",
              "  <div id=\"df-96bfb1b0-a8bc-4700-b282-04d3585aeb99\" class=\"colab-df-container\">\n",
              "    <div>\n",
              "<style scoped>\n",
              "    .dataframe tbody tr th:only-of-type {\n",
              "        vertical-align: middle;\n",
              "    }\n",
              "\n",
              "    .dataframe tbody tr th {\n",
              "        vertical-align: top;\n",
              "    }\n",
              "\n",
              "    .dataframe thead th {\n",
              "        text-align: right;\n",
              "    }\n",
              "</style>\n",
              "<table border=\"1\" class=\"dataframe\">\n",
              "  <thead>\n",
              "    <tr style=\"text-align: right;\">\n",
              "      <th></th>\n",
              "      <th>id</th>\n",
              "      <th>allelectrons_Total</th>\n",
              "      <th>density_Total</th>\n",
              "      <th>allelectrons_Average</th>\n",
              "      <th>val_e_Average</th>\n",
              "      <th>atomicweight_Average</th>\n",
              "      <th>ionenergy_Average</th>\n",
              "      <th>el_neg_chi_Average</th>\n",
              "      <th>R_vdw_element_Average</th>\n",
              "      <th>R_cov_element_Average</th>\n",
              "      <th>zaratio_Average</th>\n",
              "      <th>density_Average</th>\n",
              "      <th>Hardness</th>\n",
              "    </tr>\n",
              "  </thead>\n",
              "  <tbody>\n",
              "    <tr>\n",
              "      <th>count</th>\n",
              "      <td>10407.00000</td>\n",
              "      <td>10407.000000</td>\n",
              "      <td>10407.000000</td>\n",
              "      <td>10407.000000</td>\n",
              "      <td>10407.000000</td>\n",
              "      <td>10407.000000</td>\n",
              "      <td>10407.000000</td>\n",
              "      <td>10407.000000</td>\n",
              "      <td>10407.000000</td>\n",
              "      <td>10407.000000</td>\n",
              "      <td>10407.000000</td>\n",
              "      <td>10407.000000</td>\n",
              "      <td>10407.000000</td>\n",
              "    </tr>\n",
              "    <tr>\n",
              "      <th>mean</th>\n",
              "      <td>5203.00000</td>\n",
              "      <td>128.053516</td>\n",
              "      <td>14.491342</td>\n",
              "      <td>17.033222</td>\n",
              "      <td>4.546789</td>\n",
              "      <td>37.507703</td>\n",
              "      <td>10.938308</td>\n",
              "      <td>2.607662</td>\n",
              "      <td>1.731330</td>\n",
              "      <td>0.944132</td>\n",
              "      <td>0.493349</td>\n",
              "      <td>2.132984</td>\n",
              "      <td>4.647126</td>\n",
              "    </tr>\n",
              "    <tr>\n",
              "      <th>std</th>\n",
              "      <td>3004.38646</td>\n",
              "      <td>224.123776</td>\n",
              "      <td>15.972877</td>\n",
              "      <td>10.468734</td>\n",
              "      <td>0.690864</td>\n",
              "      <td>26.012313</td>\n",
              "      <td>1.408276</td>\n",
              "      <td>0.334906</td>\n",
              "      <td>0.192481</td>\n",
              "      <td>0.180017</td>\n",
              "      <td>0.063080</td>\n",
              "      <td>1.936656</td>\n",
              "      <td>1.680525</td>\n",
              "    </tr>\n",
              "    <tr>\n",
              "      <th>min</th>\n",
              "      <td>0.00000</td>\n",
              "      <td>0.000000</td>\n",
              "      <td>0.000000</td>\n",
              "      <td>0.000000</td>\n",
              "      <td>0.000000</td>\n",
              "      <td>0.000000</td>\n",
              "      <td>0.000000</td>\n",
              "      <td>0.000000</td>\n",
              "      <td>0.000000</td>\n",
              "      <td>0.000000</td>\n",
              "      <td>0.000000</td>\n",
              "      <td>0.000000</td>\n",
              "      <td>1.000000</td>\n",
              "    </tr>\n",
              "    <tr>\n",
              "      <th>25%</th>\n",
              "      <td>2601.50000</td>\n",
              "      <td>68.000000</td>\n",
              "      <td>7.558488</td>\n",
              "      <td>10.000000</td>\n",
              "      <td>4.000000</td>\n",
              "      <td>20.298893</td>\n",
              "      <td>10.590660</td>\n",
              "      <td>2.530000</td>\n",
              "      <td>1.672500</td>\n",
              "      <td>0.864000</td>\n",
              "      <td>0.476196</td>\n",
              "      <td>0.814800</td>\n",
              "      <td>3.000000</td>\n",
              "    </tr>\n",
              "    <tr>\n",
              "      <th>50%</th>\n",
              "      <td>5203.00000</td>\n",
              "      <td>100.000000</td>\n",
              "      <td>10.650000</td>\n",
              "      <td>12.600000</td>\n",
              "      <td>4.714286</td>\n",
              "      <td>26.203827</td>\n",
              "      <td>11.202760</td>\n",
              "      <td>2.706000</td>\n",
              "      <td>1.732727</td>\n",
              "      <td>0.915556</td>\n",
              "      <td>0.488550</td>\n",
              "      <td>1.351550</td>\n",
              "      <td>5.500000</td>\n",
              "    </tr>\n",
              "    <tr>\n",
              "      <th>75%</th>\n",
              "      <td>7804.50000</td>\n",
              "      <td>131.000000</td>\n",
              "      <td>16.676996</td>\n",
              "      <td>22.000000</td>\n",
              "      <td>4.800000</td>\n",
              "      <td>48.719500</td>\n",
              "      <td>11.670725</td>\n",
              "      <td>2.805000</td>\n",
              "      <td>1.800000</td>\n",
              "      <td>0.981667</td>\n",
              "      <td>0.496070</td>\n",
              "      <td>2.741550</td>\n",
              "      <td>6.000000</td>\n",
              "    </tr>\n",
              "    <tr>\n",
              "      <th>max</th>\n",
              "      <td>10406.00000</td>\n",
              "      <td>15300.000000</td>\n",
              "      <td>643.093804</td>\n",
              "      <td>67.000000</td>\n",
              "      <td>6.000000</td>\n",
              "      <td>167.400000</td>\n",
              "      <td>15.245810</td>\n",
              "      <td>3.443000</td>\n",
              "      <td>2.250000</td>\n",
              "      <td>1.615840</td>\n",
              "      <td>0.825990</td>\n",
              "      <td>10.970000</td>\n",
              "      <td>10.000000</td>\n",
              "    </tr>\n",
              "  </tbody>\n",
              "</table>\n",
              "</div>\n",
              "    <div class=\"colab-df-buttons\">\n",
              "\n",
              "  <div class=\"colab-df-container\">\n",
              "    <button class=\"colab-df-convert\" onclick=\"convertToInteractive('df-96bfb1b0-a8bc-4700-b282-04d3585aeb99')\"\n",
              "            title=\"Convert this dataframe to an interactive table.\"\n",
              "            style=\"display:none;\">\n",
              "\n",
              "  <svg xmlns=\"http://www.w3.org/2000/svg\" height=\"24px\" viewBox=\"0 -960 960 960\">\n",
              "    <path d=\"M120-120v-720h720v720H120Zm60-500h600v-160H180v160Zm220 220h160v-160H400v160Zm0 220h160v-160H400v160ZM180-400h160v-160H180v160Zm440 0h160v-160H620v160ZM180-180h160v-160H180v160Zm440 0h160v-160H620v160Z\"/>\n",
              "  </svg>\n",
              "    </button>\n",
              "\n",
              "  <style>\n",
              "    .colab-df-container {\n",
              "      display:flex;\n",
              "      gap: 12px;\n",
              "    }\n",
              "\n",
              "    .colab-df-convert {\n",
              "      background-color: #E8F0FE;\n",
              "      border: none;\n",
              "      border-radius: 50%;\n",
              "      cursor: pointer;\n",
              "      display: none;\n",
              "      fill: #1967D2;\n",
              "      height: 32px;\n",
              "      padding: 0 0 0 0;\n",
              "      width: 32px;\n",
              "    }\n",
              "\n",
              "    .colab-df-convert:hover {\n",
              "      background-color: #E2EBFA;\n",
              "      box-shadow: 0px 1px 2px rgba(60, 64, 67, 0.3), 0px 1px 3px 1px rgba(60, 64, 67, 0.15);\n",
              "      fill: #174EA6;\n",
              "    }\n",
              "\n",
              "    .colab-df-buttons div {\n",
              "      margin-bottom: 4px;\n",
              "    }\n",
              "\n",
              "    [theme=dark] .colab-df-convert {\n",
              "      background-color: #3B4455;\n",
              "      fill: #D2E3FC;\n",
              "    }\n",
              "\n",
              "    [theme=dark] .colab-df-convert:hover {\n",
              "      background-color: #434B5C;\n",
              "      box-shadow: 0px 1px 3px 1px rgba(0, 0, 0, 0.15);\n",
              "      filter: drop-shadow(0px 1px 2px rgba(0, 0, 0, 0.3));\n",
              "      fill: #FFFFFF;\n",
              "    }\n",
              "  </style>\n",
              "\n",
              "    <script>\n",
              "      const buttonEl =\n",
              "        document.querySelector('#df-96bfb1b0-a8bc-4700-b282-04d3585aeb99 button.colab-df-convert');\n",
              "      buttonEl.style.display =\n",
              "        google.colab.kernel.accessAllowed ? 'block' : 'none';\n",
              "\n",
              "      async function convertToInteractive(key) {\n",
              "        const element = document.querySelector('#df-96bfb1b0-a8bc-4700-b282-04d3585aeb99');\n",
              "        const dataTable =\n",
              "          await google.colab.kernel.invokeFunction('convertToInteractive',\n",
              "                                                    [key], {});\n",
              "        if (!dataTable) return;\n",
              "\n",
              "        const docLinkHtml = 'Like what you see? Visit the ' +\n",
              "          '<a target=\"_blank\" href=https://colab.research.google.com/notebooks/data_table.ipynb>data table notebook</a>'\n",
              "          + ' to learn more about interactive tables.';\n",
              "        element.innerHTML = '';\n",
              "        dataTable['output_type'] = 'display_data';\n",
              "        await google.colab.output.renderOutput(dataTable, element);\n",
              "        const docLink = document.createElement('div');\n",
              "        docLink.innerHTML = docLinkHtml;\n",
              "        element.appendChild(docLink);\n",
              "      }\n",
              "    </script>\n",
              "  </div>\n",
              "\n",
              "\n",
              "<div id=\"df-cf80a660-5f10-485d-ab90-b5cf5cad8dee\">\n",
              "  <button class=\"colab-df-quickchart\" onclick=\"quickchart('df-cf80a660-5f10-485d-ab90-b5cf5cad8dee')\"\n",
              "            title=\"Suggest charts\"\n",
              "            style=\"display:none;\">\n",
              "\n",
              "<svg xmlns=\"http://www.w3.org/2000/svg\" height=\"24px\"viewBox=\"0 0 24 24\"\n",
              "     width=\"24px\">\n",
              "    <g>\n",
              "        <path d=\"M19 3H5c-1.1 0-2 .9-2 2v14c0 1.1.9 2 2 2h14c1.1 0 2-.9 2-2V5c0-1.1-.9-2-2-2zM9 17H7v-7h2v7zm4 0h-2V7h2v10zm4 0h-2v-4h2v4z\"/>\n",
              "    </g>\n",
              "</svg>\n",
              "  </button>\n",
              "\n",
              "<style>\n",
              "  .colab-df-quickchart {\n",
              "      --bg-color: #E8F0FE;\n",
              "      --fill-color: #1967D2;\n",
              "      --hover-bg-color: #E2EBFA;\n",
              "      --hover-fill-color: #174EA6;\n",
              "      --disabled-fill-color: #AAA;\n",
              "      --disabled-bg-color: #DDD;\n",
              "  }\n",
              "\n",
              "  [theme=dark] .colab-df-quickchart {\n",
              "      --bg-color: #3B4455;\n",
              "      --fill-color: #D2E3FC;\n",
              "      --hover-bg-color: #434B5C;\n",
              "      --hover-fill-color: #FFFFFF;\n",
              "      --disabled-bg-color: #3B4455;\n",
              "      --disabled-fill-color: #666;\n",
              "  }\n",
              "\n",
              "  .colab-df-quickchart {\n",
              "    background-color: var(--bg-color);\n",
              "    border: none;\n",
              "    border-radius: 50%;\n",
              "    cursor: pointer;\n",
              "    display: none;\n",
              "    fill: var(--fill-color);\n",
              "    height: 32px;\n",
              "    padding: 0;\n",
              "    width: 32px;\n",
              "  }\n",
              "\n",
              "  .colab-df-quickchart:hover {\n",
              "    background-color: var(--hover-bg-color);\n",
              "    box-shadow: 0 1px 2px rgba(60, 64, 67, 0.3), 0 1px 3px 1px rgba(60, 64, 67, 0.15);\n",
              "    fill: var(--button-hover-fill-color);\n",
              "  }\n",
              "\n",
              "  .colab-df-quickchart-complete:disabled,\n",
              "  .colab-df-quickchart-complete:disabled:hover {\n",
              "    background-color: var(--disabled-bg-color);\n",
              "    fill: var(--disabled-fill-color);\n",
              "    box-shadow: none;\n",
              "  }\n",
              "\n",
              "  .colab-df-spinner {\n",
              "    border: 2px solid var(--fill-color);\n",
              "    border-color: transparent;\n",
              "    border-bottom-color: var(--fill-color);\n",
              "    animation:\n",
              "      spin 1s steps(1) infinite;\n",
              "  }\n",
              "\n",
              "  @keyframes spin {\n",
              "    0% {\n",
              "      border-color: transparent;\n",
              "      border-bottom-color: var(--fill-color);\n",
              "      border-left-color: var(--fill-color);\n",
              "    }\n",
              "    20% {\n",
              "      border-color: transparent;\n",
              "      border-left-color: var(--fill-color);\n",
              "      border-top-color: var(--fill-color);\n",
              "    }\n",
              "    30% {\n",
              "      border-color: transparent;\n",
              "      border-left-color: var(--fill-color);\n",
              "      border-top-color: var(--fill-color);\n",
              "      border-right-color: var(--fill-color);\n",
              "    }\n",
              "    40% {\n",
              "      border-color: transparent;\n",
              "      border-right-color: var(--fill-color);\n",
              "      border-top-color: var(--fill-color);\n",
              "    }\n",
              "    60% {\n",
              "      border-color: transparent;\n",
              "      border-right-color: var(--fill-color);\n",
              "    }\n",
              "    80% {\n",
              "      border-color: transparent;\n",
              "      border-right-color: var(--fill-color);\n",
              "      border-bottom-color: var(--fill-color);\n",
              "    }\n",
              "    90% {\n",
              "      border-color: transparent;\n",
              "      border-bottom-color: var(--fill-color);\n",
              "    }\n",
              "  }\n",
              "</style>\n",
              "\n",
              "  <script>\n",
              "    async function quickchart(key) {\n",
              "      const quickchartButtonEl =\n",
              "        document.querySelector('#' + key + ' button');\n",
              "      quickchartButtonEl.disabled = true;  // To prevent multiple clicks.\n",
              "      quickchartButtonEl.classList.add('colab-df-spinner');\n",
              "      try {\n",
              "        const charts = await google.colab.kernel.invokeFunction(\n",
              "            'suggestCharts', [key], {});\n",
              "      } catch (error) {\n",
              "        console.error('Error during call to suggestCharts:', error);\n",
              "      }\n",
              "      quickchartButtonEl.classList.remove('colab-df-spinner');\n",
              "      quickchartButtonEl.classList.add('colab-df-quickchart-complete');\n",
              "    }\n",
              "    (() => {\n",
              "      let quickchartButtonEl =\n",
              "        document.querySelector('#df-cf80a660-5f10-485d-ab90-b5cf5cad8dee button');\n",
              "      quickchartButtonEl.style.display =\n",
              "        google.colab.kernel.accessAllowed ? 'block' : 'none';\n",
              "    })();\n",
              "  </script>\n",
              "</div>\n",
              "    </div>\n",
              "  </div>\n"
            ]
          },
          "metadata": {},
          "execution_count": 9
        }
      ]
    },
    {
      "cell_type": "code",
      "source": [
        "df['allelectrons_Total'].hist()"
      ],
      "metadata": {
        "colab": {
          "base_uri": "https://localhost:8080/",
          "height": 447
        },
        "id": "bON81a6YdJ7x",
        "outputId": "4a5e55cb-9b08-4a9a-ff41-ef53aceb6b40"
      },
      "execution_count": 11,
      "outputs": [
        {
          "output_type": "execute_result",
          "data": {
            "text/plain": [
              "<Axes: >"
            ]
          },
          "metadata": {},
          "execution_count": 11
        },
        {
          "output_type": "display_data",
          "data": {
            "text/plain": [
              "<Figure size 640x480 with 1 Axes>"
            ],
            "image/png": "[encoded data removed]"
          },
          "metadata": {}
        }
      ]
    },
    {
      "cell_type": "code",
      "source": [
        "df['density_Total'].hist()"
      ],
      "metadata": {
        "colab": {
          "base_uri": "https://localhost:8080/",
          "height": 447
        },
        "id": "H9-wCJ7QdJ-Y",
        "outputId": "2061d55f-27cd-47fc-e778-90a5e102ee5b"
      },
      "execution_count": 12,
      "outputs": [
        {
          "output_type": "execute_result",
          "data": {
            "text/plain": [
              "<Axes: >"
            ]
          },
          "metadata": {},
          "execution_count": 12
        },
        {
          "output_type": "display_data",
          "data": {
            "text/plain": [
              "<Figure size 640x480 with 1 Axes>"
            ],
            "image/png": "[encoded data removed]"
          },
          "metadata": {}
        }
      ]
    },
    {
      "cell_type": "code",
      "source": [
        "df['allelectrons_Average'].hist()"
      ],
      "metadata": {
        "colab": {
          "base_uri": "https://localhost:8080/",
          "height": 447
        },
        "id": "vs9fkDR9dKBO",
        "outputId": "2faf7706-82b2-4084-b99c-116926144e7d"
      },
      "execution_count": 13,
      "outputs": [
        {
          "output_type": "execute_result",
          "data": {
            "text/plain": [
              "<Axes: >"
            ]
          },
          "metadata": {},
          "execution_count": 13
        },
        {
          "output_type": "display_data",
          "data": {
            "text/plain": [
              "<Figure size 640x480 with 1 Axes>"
            ],
            "image/png": "[encoded data removed]"
          },
          "metadata": {}
        }
      ]
    },
    {
      "cell_type": "code",
      "source": [
        "df['val_e_Average'].hist()"
      ],
      "metadata": {
        "colab": {
          "base_uri": "https://localhost:8080/",
          "height": 447
        },
        "id": "pxOIttKrdKD6",
        "outputId": "860f42c1-b6bd-477e-b496-d4ee195cd3fc"
      },
      "execution_count": 14,
      "outputs": [
        {
          "output_type": "execute_result",
          "data": {
            "text/plain": [
              "<Axes: >"
            ]
          },
          "metadata": {},
          "execution_count": 14
        },
        {
          "output_type": "display_data",
          "data": {
            "text/plain": [
              "<Figure size 640x480 with 1 Axes>"
            ],
            "image/png": "[encoded data removed]"
          },
          "metadata": {}
        }
      ]
    },
    {
      "cell_type": "code",
      "source": [
        "df['atomicweight_Average'].hist()"
      ],
      "metadata": {
        "colab": {
          "base_uri": "https://localhost:8080/",
          "height": 447
        },
        "id": "U1knNqpLdKGo",
        "outputId": "da524e61-d630-4297-cd7f-e346ab9ee951"
      },
      "execution_count": 15,
      "outputs": [
        {
          "output_type": "execute_result",
          "data": {
            "text/plain": [
              "<Axes: >"
            ]
          },
          "metadata": {},
          "execution_count": 15
        },
        {
          "output_type": "display_data",
          "data": {
            "text/plain": [
              "<Figure size 640x480 with 1 Axes>"
            ],
            "image/png": "[encoded data removed]"
          },
          "metadata": {}
        }
      ]
    },
    {
      "cell_type": "code",
      "source": [
        "df['ionenergy_Average'].hist()"
      ],
      "metadata": {
        "colab": {
          "base_uri": "https://localhost:8080/",
          "height": 447
        },
        "id": "-r3hJdZ2dKJq",
        "outputId": "031616bb-0d46-4c92-fd63-1339f039ac32"
      },
      "execution_count": 16,
      "outputs": [
        {
          "output_type": "execute_result",
          "data": {
            "text/plain": [
              "<Axes: >"
            ]
          },
          "metadata": {},
          "execution_count": 16
        },
        {
          "output_type": "display_data",
          "data": {
            "text/plain": [
              "<Figure size 640x480 with 1 Axes>"
            ],
            "image/png": "[encoded data removed]"
          },
          "metadata": {}
        }
      ]
    },
    {
      "cell_type": "code",
      "source": [
        "df['el_neg_chi_Average'].hist()"
      ],
      "metadata": {
        "colab": {
          "base_uri": "https://localhost:8080/",
          "height": 447
        },
        "id": "F_Al71PTdKM0",
        "outputId": "5bad108b-5086-4370-87d7-ca7edff9f5a1"
      },
      "execution_count": 17,
      "outputs": [
        {
          "output_type": "execute_result",
          "data": {
            "text/plain": [
              "<Axes: >"
            ]
          },
          "metadata": {},
          "execution_count": 17
        },
        {
          "output_type": "display_data",
          "data": {
            "text/plain": [
              "<Figure size 640x480 with 1 Axes>"
            ],
            "image/png": "[encoded data removed]"
          },
          "metadata": {}
        }
      ]
    },
    {
      "cell_type": "code",
      "source": [
        "df['R_vdw_element_Average'].hist()"
      ],
      "metadata": {
        "colab": {
          "base_uri": "https://localhost:8080/",
          "height": 447
        },
        "id": "AFyRPhfAdKRm",
        "outputId": "9cad56c8-5558-40ec-9810-2c4d861f7aaa"
      },
      "execution_count": 18,
      "outputs": [
        {
          "output_type": "execute_result",
          "data": {
            "text/plain": [
              "<Axes: >"
            ]
          },
          "metadata": {},
          "execution_count": 18
        },
        {
          "output_type": "display_data",
          "data": {
            "text/plain": [
              "<Figure size 640x480 with 1 Axes>"
            ],
            "image/png": "[encoded data removed]"
          },
          "metadata": {}
        }
      ]
    },
    {
      "cell_type": "code",
      "source": [
        "df['R_cov_element_Average'].hist()"
      ],
      "metadata": {
        "colab": {
          "base_uri": "https://localhost:8080/",
          "height": 447
        },
        "id": "JJlldbAvdKUh",
        "outputId": "130050f6-d7f5-4df6-b643-74cd41b1b494"
      },
      "execution_count": 19,
      "outputs": [
        {
          "output_type": "execute_result",
          "data": {
            "text/plain": [
              "<Axes: >"
            ]
          },
          "metadata": {},
          "execution_count": 19
        },
        {
          "output_type": "display_data",
          "data": {
            "text/plain": [
              "<Figure size 640x480 with 1 Axes>"
            ],
            "image/png": "[encoded data removed]"
          },
          "metadata": {}
        }
      ]
    },
    {
      "cell_type": "code",
      "source": [
        "df['zaratio_Average'].hist()"
      ],
      "metadata": {
        "colab": {
          "base_uri": "https://localhost:8080/",
          "height": 447
        },
        "id": "3_L6YrJhdKXV",
        "outputId": "62221d77-c8d3-4633-b713-c7c896bafc82"
      },
      "execution_count": 20,
      "outputs": [
        {
          "output_type": "execute_result",
          "data": {
            "text/plain": [
              "<Axes: >"
            ]
          },
          "metadata": {},
          "execution_count": 20
        },
        {
          "output_type": "display_data",
          "data": {
            "text/plain": [
              "<Figure size 640x480 with 1 Axes>"
            ],
            "image/png": "[encoded data removed]"
          },
          "metadata": {}
        }
      ]
    },
    {
      "cell_type": "code",
      "source": [
        "df['density_Average'].hist()"
      ],
      "metadata": {
        "colab": {
          "base_uri": "https://localhost:8080/",
          "height": 447
        },
        "id": "AS2YfgchdKaR",
        "outputId": "6027973e-2068-4a4e-a949-ab703f7d323f"
      },
      "execution_count": 21,
      "outputs": [
        {
          "output_type": "execute_result",
          "data": {
            "text/plain": [
              "<Axes: >"
            ]
          },
          "metadata": {},
          "execution_count": 21
        },
        {
          "output_type": "display_data",
          "data": {
            "text/plain": [
              "<Figure size 640x480 with 1 Axes>"
            ],
            "image/png": "[encoded data removed]"
          },
          "metadata": {}
        }
      ]
    },
    {
      "cell_type": "code",
      "source": [
        "df['Hardness'].hist()"
      ],
      "metadata": {
        "colab": {
          "base_uri": "https://localhost:8080/",
          "height": 447
        },
        "id": "rerVK6gedKdN",
        "outputId": "78b49ac7-ac1d-4220-82c0-2f334d4aef3f"
      },
      "execution_count": 22,
      "outputs": [
        {
          "output_type": "execute_result",
          "data": {
            "text/plain": [
              "<Axes: >"
            ]
          },
          "metadata": {},
          "execution_count": 22
        },
        {
          "output_type": "display_data",
          "data": {
            "text/plain": [
              "<Figure size 640x480 with 1 Axes>"
            ],
            "image/png": "[encoded data removed]"
          },
          "metadata": {}
        }
      ]
    },
    {
      "cell_type": "code",
      "source": [
        "plt.figure(figsize=(12, 8))\n",
        "for feature in df.columns.to_list():\n",
        "    plt.subplot(3, 5, df.columns.to_list().index(feature) + 1)\n",
        "    sns.boxplot(data=df[feature])\n",
        "    plt.title(feature)\n",
        "plt.tight_layout()\n",
        "plt.show()"
      ],
      "metadata": {
        "colab": {
          "base_uri": "https://localhost:8080/",
          "height": 807
        },
        "id": "QZCC2R6edKgJ",
        "outputId": "3a291e17-11a4-4878-e076-790b251b34ac"
      },
      "execution_count": 23,
      "outputs": [
        {
          "output_type": "display_data",
          "data": {
            "text/plain": [
              "<Figure size 1200x800 with 13 Axes>"
            ],
            "image/png": "[encoded data removed]"
          },
          "metadata": {}
        }
      ]
    },
    {
      "cell_type": "code",
      "source": [
        "correlation_matrix = df.drop(columns='Hardness').corr()\n",
        "plt.figure(figsize=(12, 10))\n",
        "sns.heatmap(correlation_matrix, annot=True, cmap='Blues')\n",
        "plt.title('Correlation Heatmap')\n",
        "plt.show()"
      ],
      "metadata": {
        "colab": {
          "base_uri": "https://localhost:8080/",
          "height": 1000
        },
        "id": "8R96orcvdKjH",
        "outputId": "829d73ad-410a-4e2c-9d83-db8d1d943cf0"
      },
      "execution_count": 24,
      "outputs": [
        {
          "output_type": "display_data",
          "data": {
            "text/plain": [
              "<Figure size 1200x1000 with 2 Axes>"
            ],
            "image/png": "[encoded data removed]"
          },
          "metadata": {}
        }
      ]
    },
    {
      "cell_type": "code",
      "source": [
        "df.columns.tolist()"
      ],
      "metadata": {
        "colab": {
          "base_uri": "https://localhost:8080/"
        },
        "id": "zoAkQaCSdKl4",
        "outputId": "08cfb453-deae-42ad-e027-42f66dd55446"
      },
      "execution_count": 25,
      "outputs": [
        {
          "output_type": "execute_result",
          "data": {
            "text/plain": [
              "['id',\n",
              " 'allelectrons_Total',\n",
              " 'density_Total',\n",
              " 'allelectrons_Average',\n",
              " 'val_e_Average',\n",
              " 'atomicweight_Average',\n",
              " 'ionenergy_Average',\n",
              " 'el_neg_chi_Average',\n",
              " 'R_vdw_element_Average',\n",
              " 'R_cov_element_Average',\n",
              " 'zaratio_Average',\n",
              " 'density_Average',\n",
              " 'Hardness']"
            ]
          },
          "metadata": {},
          "execution_count": 25
        }
      ]
    },
    {
      "cell_type": "code",
      "source": [
        "print(df['Hardness'].corr(df['atomicweight_Average']))\n",
        "\n",
        "print(df['Hardness'].corr(df['density_Average']))"
      ],
      "metadata": {
        "colab": {
          "base_uri": "https://localhost:8080/"
        },
        "id": "uaKgYecKdKou",
        "outputId": "d3c20190-b30f-4352-e31c-48a21e8afd4a"
      },
      "execution_count": 26,
      "outputs": [
        {
          "output_type": "stream",
          "name": "stdout",
          "text": [
            "-0.4029480903545386\n",
            "-0.36077994780940886\n"
          ]
        }
      ]
    },
    {
      "cell_type": "code",
      "source": [
        "print(df['Hardness'].corr(df['allelectrons_Average']))\n",
        "\n",
        "print(df['Hardness'].corr(df['density_Average']))"
      ],
      "metadata": {
        "colab": {
          "base_uri": "https://localhost:8080/"
        },
        "id": "ZNJjIK9ydKrQ",
        "outputId": "fca68a61-3e8c-49fa-81a8-af67b2ddf5ab"
      },
      "execution_count": 27,
      "outputs": [
        {
          "output_type": "stream",
          "name": "stdout",
          "text": [
            "-0.40049583707006514\n",
            "-0.36077994780940886\n"
          ]
        }
      ]
    },
    {
      "cell_type": "code",
      "source": [
        "print(df['Hardness'].corr(df['allelectrons_Average']))\n",
        "\n",
        "print(df['Hardness'].corr(df['atomicweight_Average']))"
      ],
      "metadata": {
        "colab": {
          "base_uri": "https://localhost:8080/"
        },
        "id": "oHDASNnfdKuk",
        "outputId": "e41e9edb-da13-42fd-9512-d38e69fb8faf"
      },
      "execution_count": 28,
      "outputs": [
        {
          "output_type": "stream",
          "name": "stdout",
          "text": [
            "-0.40049583707006514\n",
            "-0.4029480903545386\n"
          ]
        }
      ]
    },
    {
      "cell_type": "code",
      "source": [
        "print(df['Hardness'].corr(df['zaratio_Average']))\n",
        "\n",
        "print(df['Hardness'].corr(df['atomicweight_Average']))"
      ],
      "metadata": {
        "colab": {
          "base_uri": "https://localhost:8080/"
        },
        "id": "mUf2RMFGdKxL",
        "outputId": "9afc050f-da04-463d-9e3d-b34af0f2702f"
      },
      "execution_count": 29,
      "outputs": [
        {
          "output_type": "stream",
          "name": "stdout",
          "text": [
            "0.05524788101979068\n",
            "-0.4029480903545386\n"
          ]
        }
      ]
    },
    {
      "cell_type": "code",
      "source": [
        "print(df['Hardness'].corr(df['density_Average']))\n",
        "\n",
        "print(df['Hardness'].corr(df['atomicweight_Average']))"
      ],
      "metadata": {
        "colab": {
          "base_uri": "https://localhost:8080/"
        },
        "id": "5i9FFJcadK0P",
        "outputId": "c8f812a7-fb8a-4dee-9ad9-c2564826039a"
      },
      "execution_count": 30,
      "outputs": [
        {
          "output_type": "stream",
          "name": "stdout",
          "text": [
            "-0.36077994780940886\n",
            "-0.4029480903545386\n"
          ]
        }
      ]
    },
    {
      "cell_type": "code",
      "source": [
        "df.drop(columns= ['allelectrons_Average','density_Average'] , axis=1 , inplace= True)"
      ],
      "metadata": {
        "id": "H7AmRqg_eBRR"
      },
      "execution_count": 31,
      "outputs": []
    },
    {
      "cell_type": "markdown",
      "source": [
        "**scal data**"
      ],
      "metadata": {
        "id": "t6EYt93XeGkC"
      }
    },
    {
      "cell_type": "code",
      "source": [
        "X=df.drop('Hardness',axis=1)\n",
        "y=df['Hardness']"
      ],
      "metadata": {
        "id": "O4upO3VXeBUC"
      },
      "execution_count": 32,
      "outputs": []
    },
    {
      "cell_type": "code",
      "source": [
        "scaler = StandardScaler()\n",
        "\n",
        "# Fit the scaler to your data\n",
        "scaler.fit(X)\n",
        "\n",
        "# Transform your data\n",
        "X_scaled = scaler.transform(X)"
      ],
      "metadata": {
        "id": "RMm486f0eBW3"
      },
      "execution_count": 33,
      "outputs": []
    },
    {
      "cell_type": "markdown",
      "source": [
        "**spilt**"
      ],
      "metadata": {
        "id": "bsdK8z4leRhH"
      }
    },
    {
      "cell_type": "code",
      "source": [
        "X_train , X_test , y_train , y_test = train_test_split(X_scaled ,y ,test_size=0.2 , random_state=42 )\n",
        "print(\"X_train shape:\", X_train.shape)\n",
        "print(\"y_train shape:\", y_train.shape)\n",
        "print(\"X_test shape:\", X_test.shape)\n",
        "print(\"y_test shape:\", y_test.shape)"
      ],
      "metadata": {
        "colab": {
          "base_uri": "https://localhost:8080/"
        },
        "id": "vO2ihIVteBZy",
        "outputId": "1f785491-8c10-47f2-a579-05fb5b93d4e1"
      },
      "execution_count": 34,
      "outputs": [
        {
          "output_type": "stream",
          "name": "stdout",
          "text": [
            "X_train shape: (8325, 10)\n",
            "y_train shape: (8325,)\n",
            "X_test shape: (2082, 10)\n",
            "y_test shape: (2082,)\n"
          ]
        }
      ]
    },
    {
      "cell_type": "markdown",
      "source": [
        "**baseline**"
      ],
      "metadata": {
        "id": "UNomlF32eX0o"
      }
    },
    {
      "cell_type": "code",
      "source": [
        "y_mean = y_train.mean()\n",
        "y_pred_baseline= [y_mean] * len(y_train)\n",
        "print(\"Mean apt price:\", y_mean)\n",
        "\n",
        "print(\"Baseline MAE:\", mean_absolute_error(y_train,y_pred_baseline))"
      ],
      "metadata": {
        "colab": {
          "base_uri": "https://localhost:8080/"
        },
        "id": "UKOZVNy9eBcv",
        "outputId": "cca29bd6-b40c-43e9-aae9-fd2f6e6e179b"
      },
      "execution_count": 35,
      "outputs": [
        {
          "output_type": "stream",
          "name": "stdout",
          "text": [
            "Mean apt price: 4.65015015015015\n",
            "Baseline MAE: 1.4952898123348572\n"
          ]
        }
      ]
    },
    {
      "cell_type": "markdown",
      "source": [
        "**model**"
      ],
      "metadata": {
        "id": "96YqCy3NeeFx"
      }
    },
    {
      "cell_type": "code",
      "source": [
        "model = LinearRegression()\n",
        "model.fit(X_train, y_train)"
      ],
      "metadata": {
        "colab": {
          "base_uri": "https://localhost:8080/",
          "height": 75
        },
        "id": "P9c3vI8meBfj",
        "outputId": "06e7d576-5434-49c5-f5c0-6d8261c93576"
      },
      "execution_count": 38,
      "outputs": [
        {
          "output_type": "execute_result",
          "data": {
            "text/plain": [
              "LinearRegression()"
            ],
            "text/html": [
              "<style>#sk-container-id-2 {color: black;background-color: white;}#sk-container-id-2 pre{padding: 0;}#sk-container-id-2 div.sk-toggleable {background-color: white;}#sk-container-id-2 label.sk-toggleable__label {cursor: pointer;display: block;width: 100%;margin-bottom: 0;padding: 0.3em;box-sizing: border-box;text-align: center;}#sk-container-id-2 label.sk-toggleable__label-arrow:before {content: \"▸\";float: left;margin-right: 0.25em;color: #696969;}#sk-container-id-2 label.sk-toggleable__label-arrow:hover:before {color: black;}#sk-container-id-2 div.sk-estimator:hover label.sk-toggleable__label-arrow:before {color: black;}#sk-container-id-2 div.sk-toggleable__content {max-height: 0;max-width: 0;overflow: hidden;text-align: left;background-color: #f0f8ff;}#sk-container-id-2 div.sk-toggleable__content pre {margin: 0.2em;color: black;border-radius: 0.25em;background-color: #f0f8ff;}#sk-container-id-2 input.sk-toggleable__control:checked~div.sk-toggleable__content {max-height: 200px;max-width: 100%;overflow: auto;}#sk-container-id-2 input.sk-toggleable__control:checked~label.sk-toggleable__label-arrow:before {content: \"▾\";}#sk-container-id-2 div.sk-estimator input.sk-toggleable__control:checked~label.sk-toggleable__label {background-color: #d4ebff;}#sk-container-id-2 div.sk-label input.sk-toggleable__control:checked~label.sk-toggleable__label {background-color: #d4ebff;}#sk-container-id-2 input.sk-hidden--visually {border: 0;clip: rect(1px 1px 1px 1px);clip: rect(1px, 1px, 1px, 1px);height: 1px;margin: -1px;overflow: hidden;padding: 0;position: absolute;width: 1px;}#sk-container-id-2 div.sk-estimator {font-family: monospace;background-color: #f0f8ff;border: 1px dotted black;border-radius: 0.25em;box-sizing: border-box;margin-bottom: 0.5em;}#sk-container-id-2 div.sk-estimator:hover {background-color: #d4ebff;}#sk-container-id-2 div.sk-parallel-item::after {content: \"\";width: 100%;border-bottom: 1px solid gray;flex-grow: 1;}#sk-container-id-2 div.sk-label:hover label.sk-toggleable__label {background-color: #d4ebff;}#sk-container-id-2 div.sk-serial::before {content: \"\";position: absolute;border-left: 1px solid gray;box-sizing: border-box;top: 0;bottom: 0;left: 50%;z-index: 0;}#sk-container-id-2 div.sk-serial {display: flex;flex-direction: column;align-items: center;background-color: white;padding-right: 0.2em;padding-left: 0.2em;position: relative;}#sk-container-id-2 div.sk-item {position: relative;z-index: 1;}#sk-container-id-2 div.sk-parallel {display: flex;align-items: stretch;justify-content: center;background-color: white;position: relative;}#sk-container-id-2 div.sk-item::before, #sk-container-id-2 div.sk-parallel-item::before {content: \"\";position: absolute;border-left: 1px solid gray;box-sizing: border-box;top: 0;bottom: 0;left: 50%;z-index: -1;}#sk-container-id-2 div.sk-parallel-item {display: flex;flex-direction: column;z-index: 1;position: relative;background-color: white;}#sk-container-id-2 div.sk-parallel-item:first-child::after {align-self: flex-end;width: 50%;}#sk-container-id-2 div.sk-parallel-item:last-child::after {align-self: flex-start;width: 50%;}#sk-container-id-2 div.sk-parallel-item:only-child::after {width: 0;}#sk-container-id-2 div.sk-dashed-wrapped {border: 1px dashed gray;margin: 0 0.4em 0.5em 0.4em;box-sizing: border-box;padding-bottom: 0.4em;background-color: white;}#sk-container-id-2 div.sk-label label {font-family: monospace;font-weight: bold;display: inline-block;line-height: 1.2em;}#sk-container-id-2 div.sk-label-container {text-align: center;}#sk-container-id-2 div.sk-container {/* jupyter's `normalize.less` sets `[hidden] { display: none; }` but bootstrap.min.css set `[hidden] { display: none !important; }` so we also need the `!important` here to be able to override the default hidden behavior on the sphinx rendered scikit-learn.org. See: https://github.com/scikit-learn/scikit-learn/issues/21755 */display: inline-block !important;position: relative;}#sk-container-id-2 div.sk-text-repr-fallback {display: none;}</style><div id=\"sk-container-id-2\" class=\"sk-top-container\"><div class=\"sk-text-repr-fallback\"><pre>LinearRegression()</pre><b>In a Jupyter environment, please rerun this cell to show the HTML representation or trust the notebook. <br />On GitHub, the HTML representation is unable to render, please try loading this page with nbviewer.org.</b></div><div class=\"sk-container\" hidden><div class=\"sk-item\"><div class=\"sk-estimator sk-toggleable\"><input class=\"sk-toggleable__control sk-hidden--visually\" id=\"sk-estimator-id-2\" type=\"checkbox\" checked><label for=\"sk-estimator-id-2\" class=\"sk-toggleable__label sk-toggleable__label-arrow\">LinearRegression</label><div class=\"sk-toggleable__content\"><pre>LinearRegression()</pre></div></div></div></div></div>"
            ]
          },
          "metadata": {},
          "execution_count": 38
        }
      ]
    },
    {
      "cell_type": "code",
      "source": [
        "reg_y_pred_test = model.predict(X_test)\n",
        "y_pred_train=model.predict(X_train)\n",
        "reg_acc_train = r2_score(y_train , y_pred_train)\n",
        "reg_acc_test = r2_score(y_test , reg_y_pred_test)\n",
        "\n",
        "print(\"Training Accuracy:\", round(reg_acc_train, 4))\n",
        "print(\"Test Accuracy:\", round(reg_acc_test, 4))"
      ],
      "metadata": {
        "colab": {
          "base_uri": "https://localhost:8080/"
        },
        "id": "kNMjdT4VeBiP",
        "outputId": "606ed50e-a4a4-457c-e538-f4782828e0c5"
      },
      "execution_count": 39,
      "outputs": [
        {
          "output_type": "stream",
          "name": "stdout",
          "text": [
            "Training Accuracy: 0.2437\n",
            "Test Accuracy: 0.2238\n"
          ]
        }
      ]
    },
    {
      "cell_type": "code",
      "source": [
        "rge =Ridge()\n",
        "\n",
        "rge.fit(X_train , y_train)"
      ],
      "metadata": {
        "colab": {
          "base_uri": "https://localhost:8080/",
          "height": 75
        },
        "id": "_oveurAMeBk8",
        "outputId": "bd04b2dd-7c33-45ee-a916-c17bfbefa17c"
      },
      "execution_count": 40,
      "outputs": [
        {
          "output_type": "execute_result",
          "data": {
            "text/plain": [
              "Ridge()"
            ],
            "text/html": [
              "<style>#sk-container-id-3 {color: black;background-color: white;}#sk-container-id-3 pre{padding: 0;}#sk-container-id-3 div.sk-toggleable {background-color: white;}#sk-container-id-3 label.sk-toggleable__label {cursor: pointer;display: block;width: 100%;margin-bottom: 0;padding: 0.3em;box-sizing: border-box;text-align: center;}#sk-container-id-3 label.sk-toggleable__label-arrow:before {content: \"▸\";float: left;margin-right: 0.25em;color: #696969;}#sk-container-id-3 label.sk-toggleable__label-arrow:hover:before {color: black;}#sk-container-id-3 div.sk-estimator:hover label.sk-toggleable__label-arrow:before {color: black;}#sk-container-id-3 div.sk-toggleable__content {max-height: 0;max-width: 0;overflow: hidden;text-align: left;background-color: #f0f8ff;}#sk-container-id-3 div.sk-toggleable__content pre {margin: 0.2em;color: black;border-radius: 0.25em;background-color: #f0f8ff;}#sk-container-id-3 input.sk-toggleable__control:checked~div.sk-toggleable__content {max-height: 200px;max-width: 100%;overflow: auto;}#sk-container-id-3 input.sk-toggleable__control:checked~label.sk-toggleable__label-arrow:before {content: \"▾\";}#sk-container-id-3 div.sk-estimator input.sk-toggleable__control:checked~label.sk-toggleable__label {background-color: #d4ebff;}#sk-container-id-3 div.sk-label input.sk-toggleable__control:checked~label.sk-toggleable__label {background-color: #d4ebff;}#sk-container-id-3 input.sk-hidden--visually {border: 0;clip: rect(1px 1px 1px 1px);clip: rect(1px, 1px, 1px, 1px);height: 1px;margin: -1px;overflow: hidden;padding: 0;position: absolute;width: 1px;}#sk-container-id-3 div.sk-estimator {font-family: monospace;background-color: #f0f8ff;border: 1px dotted black;border-radius: 0.25em;box-sizing: border-box;margin-bottom: 0.5em;}#sk-container-id-3 div.sk-estimator:hover {background-color: #d4ebff;}#sk-container-id-3 div.sk-parallel-item::after {content: \"\";width: 100%;border-bottom: 1px solid gray;flex-grow: 1;}#sk-container-id-3 div.sk-label:hover label.sk-toggleable__label {background-color: #d4ebff;}#sk-container-id-3 div.sk-serial::before {content: \"\";position: absolute;border-left: 1px solid gray;box-sizing: border-box;top: 0;bottom: 0;left: 50%;z-index: 0;}#sk-container-id-3 div.sk-serial {display: flex;flex-direction: column;align-items: center;background-color: white;padding-right: 0.2em;padding-left: 0.2em;position: relative;}#sk-container-id-3 div.sk-item {position: relative;z-index: 1;}#sk-container-id-3 div.sk-parallel {display: flex;align-items: stretch;justify-content: center;background-color: white;position: relative;}#sk-container-id-3 div.sk-item::before, #sk-container-id-3 div.sk-parallel-item::before {content: \"\";position: absolute;border-left: 1px solid gray;box-sizing: border-box;top: 0;bottom: 0;left: 50%;z-index: -1;}#sk-container-id-3 div.sk-parallel-item {display: flex;flex-direction: column;z-index: 1;position: relative;background-color: white;}#sk-container-id-3 div.sk-parallel-item:first-child::after {align-self: flex-end;width: 50%;}#sk-container-id-3 div.sk-parallel-item:last-child::after {align-self: flex-start;width: 50%;}#sk-container-id-3 div.sk-parallel-item:only-child::after {width: 0;}#sk-container-id-3 div.sk-dashed-wrapped {border: 1px dashed gray;margin: 0 0.4em 0.5em 0.4em;box-sizing: border-box;padding-bottom: 0.4em;background-color: white;}#sk-container-id-3 div.sk-label label {font-family: monospace;font-weight: bold;display: inline-block;line-height: 1.2em;}#sk-container-id-3 div.sk-label-container {text-align: center;}#sk-container-id-3 div.sk-container {/* jupyter's `normalize.less` sets `[hidden] { display: none; }` but bootstrap.min.css set `[hidden] { display: none !important; }` so we also need the `!important` here to be able to override the default hidden behavior on the sphinx rendered scikit-learn.org. See: https://github.com/scikit-learn/scikit-learn/issues/21755 */display: inline-block !important;position: relative;}#sk-container-id-3 div.sk-text-repr-fallback {display: none;}</style><div id=\"sk-container-id-3\" class=\"sk-top-container\"><div class=\"sk-text-repr-fallback\"><pre>Ridge()</pre><b>In a Jupyter environment, please rerun this cell to show the HTML representation or trust the notebook. <br />On GitHub, the HTML representation is unable to render, please try loading this page with nbviewer.org.</b></div><div class=\"sk-container\" hidden><div class=\"sk-item\"><div class=\"sk-estimator sk-toggleable\"><input class=\"sk-toggleable__control sk-hidden--visually\" id=\"sk-estimator-id-3\" type=\"checkbox\" checked><label for=\"sk-estimator-id-3\" class=\"sk-toggleable__label sk-toggleable__label-arrow\">Ridge</label><div class=\"sk-toggleable__content\"><pre>Ridge()</pre></div></div></div></div></div>"
            ]
          },
          "metadata": {},
          "execution_count": 40
        }
      ]
    },
    {
      "cell_type": "code",
      "source": [
        "print(rge.score(X_train , y_train))\n",
        "print(rge.score(X_test , y_test))"
      ],
      "metadata": {
        "colab": {
          "base_uri": "https://localhost:8080/"
        },
        "id": "hdhdRpyzeBoB",
        "outputId": "c1698bf2-be91-4167-ff8e-aae2c15321aa"
      },
      "execution_count": 41,
      "outputs": [
        {
          "output_type": "stream",
          "name": "stdout",
          "text": [
            "0.24370076851565425\n",
            "0.22383992595806435\n"
          ]
        }
      ]
    },
    {
      "cell_type": "code",
      "source": [
        "xgb = XGBRegressor(n_estimators= 1000 , max_depth= 3 , learning_rate = 0.01)\n",
        "xgb.fit(X_train , y_train);"
      ],
      "metadata": {
        "id": "_RnyCt4feBq6"
      },
      "execution_count": 42,
      "outputs": []
    },
    {
      "cell_type": "code",
      "source": [
        "print (xgb.score(X_train , y_train))\n",
        "print (xgb.score(X_test , y_test))"
      ],
      "metadata": {
        "colab": {
          "base_uri": "https://localhost:8080/"
        },
        "id": "-XhsimzZeBtW",
        "outputId": "c7998635-7746-495c-961d-a871a6e30c5e"
      },
      "execution_count": 43,
      "outputs": [
        {
          "output_type": "stream",
          "name": "stdout",
          "text": [
            "0.49629772613292567\n",
            "0.4458401964892629\n"
          ]
        }
      ]
    },
    {
      "cell_type": "code",
      "source": [
        "test=pd.read_csv(\"/content/test.csv\")"
      ],
      "metadata": {
        "id": "OPOij8cLdK3C"
      },
      "execution_count": 44,
      "outputs": []
    },
    {
      "cell_type": "code",
      "source": [
        "test.shape"
      ],
      "metadata": {
        "colab": {
          "base_uri": "https://localhost:8080/"
        },
        "id": "oYLODoP4dK5w",
        "outputId": "e7fefc7d-fa3e-4a0b-abfc-2f8263892747"
      },
      "execution_count": 45,
      "outputs": [
        {
          "output_type": "execute_result",
          "data": {
            "text/plain": [
              "(6939, 12)"
            ]
          },
          "metadata": {},
          "execution_count": 45
        }
      ]
    },
    {
      "cell_type": "code",
      "source": [
        "test.info()"
      ],
      "metadata": {
        "colab": {
          "base_uri": "https://localhost:8080/"
        },
        "id": "CIv5UF3QdK8r",
        "outputId": "9cf481af-b9d9-4eb4-e83c-eca58a0e3880"
      },
      "execution_count": 46,
      "outputs": [
        {
          "output_type": "stream",
          "name": "stdout",
          "text": [
            "<class 'pandas.core.frame.DataFrame'>\n",
            "RangeIndex: 6939 entries, 0 to 6938\n",
            "Data columns (total 12 columns):\n",
            " #   Column                 Non-Null Count  Dtype  \n",
            "---  ------                 --------------  -----  \n",
            " 0   id                     6939 non-null   int64  \n",
            " 1   allelectrons_Total     6939 non-null   float64\n",
            " 2   density_Total          6939 non-null   float64\n",
            " 3   allelectrons_Average   6939 non-null   float64\n",
            " 4   val_e_Average          6939 non-null   float64\n",
            " 5   atomicweight_Average   6939 non-null   float64\n",
            " 6   ionenergy_Average      6939 non-null   float64\n",
            " 7   el_neg_chi_Average     6939 non-null   float64\n",
            " 8   R_vdw_element_Average  6939 non-null   float64\n",
            " 9   R_cov_element_Average  6939 non-null   float64\n",
            " 10  zaratio_Average        6939 non-null   float64\n",
            " 11  density_Average        6939 non-null   float64\n",
            "dtypes: float64(11), int64(1)\n",
            "memory usage: 650.7 KB\n"
          ]
        }
      ]
    },
    {
      "cell_type": "code",
      "source": [
        "scaler = StandardScaler()\n",
        "\n",
        "# Fit the scaler to your data\n",
        "scaler.fit(test)\n",
        "\n",
        "# Transform your data\n",
        "test_scaled = scaler.transform(test)"
      ],
      "metadata": {
        "id": "LAsIz4y-dK_h"
      },
      "execution_count": 47,
      "outputs": []
    },
    {
      "cell_type": "code",
      "source": [
        "test_encoded = pd.get_dummies(test)"
      ],
      "metadata": {
        "id": "0_DLH3nAhjSU"
      },
      "execution_count": 54,
      "outputs": []
    },
    {
      "cell_type": "code",
      "source": [
        "submisson =test[[\"id\"]]"
      ],
      "metadata": {
        "id": "6R0KntxiexSk"
      },
      "execution_count": 49,
      "outputs": []
    },
    {
      "cell_type": "code",
      "source": [
        "submisson.head()"
      ],
      "metadata": {
        "colab": {
          "base_uri": "https://localhost:8080/",
          "height": 636
        },
        "id": "CqZqQ7EeexYx",
        "outputId": "df959d12-2564-4a5e-d3ef-39a614a58a4d"
      },
      "execution_count": 51,
      "outputs": [
        {
          "output_type": "execute_result",
          "data": {
            "text/plain": [
              "      id\n",
              "0  10407\n",
              "1  10408\n",
              "2  10409\n",
              "3  10410\n",
              "4  10411"
            ],
            "text/html": [
              "\n",
              "  <div id=\"df-80f551eb-20db-44e7-9a58-1d005406ba90\" class=\"colab-df-container\">\n",
              "    <div>\n",
              "<style scoped>\n",
              "    .dataframe tbody tr th:only-of-type {\n",
              "        vertical-align: middle;\n",
              "    }\n",
              "\n",
              "    .dataframe tbody tr th {\n",
              "        vertical-align: top;\n",
              "    }\n",
              "\n",
              "    .dataframe thead th {\n",
              "        text-align: right;\n",
              "    }\n",
              "</style>\n",
              "<table border=\"1\" class=\"dataframe\">\n",
              "  <thead>\n",
              "    <tr style=\"text-align: right;\">\n",
              "      <th></th>\n",
              "      <th>id</th>\n",
              "    </tr>\n",
              "  </thead>\n",
              "  <tbody>\n",
              "    <tr>\n",
              "      <th>0</th>\n",
              "      <td>10407</td>\n",
              "    </tr>\n",
              "    <tr>\n",
              "      <th>1</th>\n",
              "      <td>10408</td>\n",
              "    </tr>\n",
              "    <tr>\n",
              "      <th>2</th>\n",
              "      <td>10409</td>\n",
              "    </tr>\n",
              "    <tr>\n",
              "      <th>3</th>\n",
              "      <td>10410</td>\n",
              "    </tr>\n",
              "    <tr>\n",
              "      <th>4</th>\n",
              "      <td>10411</td>\n",
              "    </tr>\n",
              "  </tbody>\n",
              "</table>\n",
              "</div>\n",
              "    <div class=\"colab-df-buttons\">\n",
              "\n",
              "  <div class=\"colab-df-container\">\n",
              "    <button class=\"colab-df-convert\" onclick=\"convertToInteractive('df-80f551eb-20db-44e7-9a58-1d005406ba90')\"\n",
              "            title=\"Convert this dataframe to an interactive table.\"\n",
              "            style=\"display:none;\">\n",
              "\n",
              "  <svg xmlns=\"http://www.w3.org/2000/svg\" height=\"24px\" viewBox=\"0 -960 960 960\">\n",
              "    <path d=\"M120-120v-720h720v720H120Zm60-500h600v-160H180v160Zm220 220h160v-160H400v160Zm0 220h160v-160H400v160ZM180-400h160v-160H180v160Zm440 0h160v-160H620v160ZM180-180h160v-160H180v160Zm440 0h160v-160H620v160Z\"/>\n",
              "  </svg>\n",
              "    </button>\n",
              "\n",
              "  <style>\n",
              "    .colab-df-container {\n",
              "      display:flex;\n",
              "      gap: 12px;\n",
              "    }\n",
              "\n",
              "    .colab-df-convert {\n",
              "      background-color: #E8F0FE;\n",
              "      border: none;\n",
              "      border-radius: 50%;\n",
              "      cursor: pointer;\n",
              "      display: none;\n",
              "      fill: #1967D2;\n",
              "      height: 32px;\n",
              "      padding: 0 0 0 0;\n",
              "      width: 32px;\n",
              "    }\n",
              "\n",
              "    .colab-df-convert:hover {\n",
              "      background-color: #E2EBFA;\n",
              "      box-shadow: 0px 1px 2px rgba(60, 64, 67, 0.3), 0px 1px 3px 1px rgba(60, 64, 67, 0.15);\n",
              "      fill: #174EA6;\n",
              "    }\n",
              "\n",
              "    .colab-df-buttons div {\n",
              "      margin-bottom: 4px;\n",
              "    }\n",
              "\n",
              "    [theme=dark] .colab-df-convert {\n",
              "      background-color: #3B4455;\n",
              "      fill: #D2E3FC;\n",
              "    }\n",
              "\n",
              "    [theme=dark] .colab-df-convert:hover {\n",
              "      background-color: #434B5C;\n",
              "      box-shadow: 0px 1px 3px 1px rgba(0, 0, 0, 0.15);\n",
              "      filter: drop-shadow(0px 1px 2px rgba(0, 0, 0, 0.3));\n",
              "      fill: #FFFFFF;\n",
              "    }\n",
              "  </style>\n",
              "\n",
              "    <script>\n",
              "      const buttonEl =\n",
              "        document.querySelector('#df-80f551eb-20db-44e7-9a58-1d005406ba90 button.colab-df-convert');\n",
              "      buttonEl.style.display =\n",
              "        google.colab.kernel.accessAllowed ? 'block' : 'none';\n",
              "\n",
              "      async function convertToInteractive(key) {\n",
              "        const element = document.querySelector('#df-80f551eb-20db-44e7-9a58-1d005406ba90');\n",
              "        const dataTable =\n",
              "          await google.colab.kernel.invokeFunction('convertToInteractive',\n",
              "                                                    [key], {});\n",
              "        if (!dataTable) return;\n",
              "\n",
              "        const docLinkHtml = 'Like what you see? Visit the ' +\n",
              "          '<a target=\"_blank\" href=https://colab.research.google.com/notebooks/data_table.ipynb>data table notebook</a>'\n",
              "          + ' to learn more about interactive tables.';\n",
              "        element.innerHTML = '';\n",
              "        dataTable['output_type'] = 'display_data';\n",
              "        await google.colab.output.renderOutput(dataTable, element);\n",
              "        const docLink = document.createElement('div');\n",
              "        docLink.innerHTML = docLinkHtml;\n",
              "        element.appendChild(docLink);\n",
              "      }\n",
              "    </script>\n",
              "  </div>\n",
              "\n",
              "\n",
              "<div id=\"df-a061881b-c712-44f7-89c2-ed3f94fb809e\">\n",
              "  <button class=\"colab-df-quickchart\" onclick=\"quickchart('df-a061881b-c712-44f7-89c2-ed3f94fb809e')\"\n",
              "            title=\"Suggest charts\"\n",
              "            style=\"display:none;\">\n",
              "\n",
              "<svg xmlns=\"http://www.w3.org/2000/svg\" height=\"24px\"viewBox=\"0 0 24 24\"\n",
              "     width=\"24px\">\n",
              "    <g>\n",
              "        <path d=\"M19 3H5c-1.1 0-2 .9-2 2v14c0 1.1.9 2 2 2h14c1.1 0 2-.9 2-2V5c0-1.1-.9-2-2-2zM9 17H7v-7h2v7zm4 0h-2V7h2v10zm4 0h-2v-4h2v4z\"/>\n",
              "    </g>\n",
              "</svg>\n",
              "  </button>\n",
              "\n",
              "<style>\n",
              "  .colab-df-quickchart {\n",
              "      --bg-color: #E8F0FE;\n",
              "      --fill-color: #1967D2;\n",
              "      --hover-bg-color: #E2EBFA;\n",
              "      --hover-fill-color: #174EA6;\n",
              "      --disabled-fill-color: #AAA;\n",
              "      --disabled-bg-color: #DDD;\n",
              "  }\n",
              "\n",
              "  [theme=dark] .colab-df-quickchart {\n",
              "      --bg-color: #3B4455;\n",
              "      --fill-color: #D2E3FC;\n",
              "      --hover-bg-color: #434B5C;\n",
              "      --hover-fill-color: #FFFFFF;\n",
              "      --disabled-bg-color: #3B4455;\n",
              "      --disabled-fill-color: #666;\n",
              "  }\n",
              "\n",
              "  .colab-df-quickchart {\n",
              "    background-color: var(--bg-color);\n",
              "    border: none;\n",
              "    border-radius: 50%;\n",
              "    cursor: pointer;\n",
              "    display: none;\n",
              "    fill: var(--fill-color);\n",
              "    height: 32px;\n",
              "    padding: 0;\n",
              "    width: 32px;\n",
              "  }\n",
              "\n",
              "  .colab-df-quickchart:hover {\n",
              "    background-color: var(--hover-bg-color);\n",
              "    box-shadow: 0 1px 2px rgba(60, 64, 67, 0.3), 0 1px 3px 1px rgba(60, 64, 67, 0.15);\n",
              "    fill: var(--button-hover-fill-color);\n",
              "  }\n",
              "\n",
              "  .colab-df-quickchart-complete:disabled,\n",
              "  .colab-df-quickchart-complete:disabled:hover {\n",
              "    background-color: var(--disabled-bg-color);\n",
              "    fill: var(--disabled-fill-color);\n",
              "    box-shadow: none;\n",
              "  }\n",
              "\n",
              "  .colab-df-spinner {\n",
              "    border: 2px solid var(--fill-color);\n",
              "    border-color: transparent;\n",
              "    border-bottom-color: var(--fill-color);\n",
              "    animation:\n",
              "      spin 1s steps(1) infinite;\n",
              "  }\n",
              "\n",
              "  @keyframes spin {\n",
              "    0% {\n",
              "      border-color: transparent;\n",
              "      border-bottom-color: var(--fill-color);\n",
              "      border-left-color: var(--fill-color);\n",
              "    }\n",
              "    20% {\n",
              "      border-color: transparent;\n",
              "      border-left-color: var(--fill-color);\n",
              "      border-top-color: var(--fill-color);\n",
              "    }\n",
              "    30% {\n",
              "      border-color: transparent;\n",
              "      border-left-color: var(--fill-color);\n",
              "      border-top-color: var(--fill-color);\n",
              "      border-right-color: var(--fill-color);\n",
              "    }\n",
              "    40% {\n",
              "      border-color: transparent;\n",
              "      border-right-color: var(--fill-color);\n",
              "      border-top-color: var(--fill-color);\n",
              "    }\n",
              "    60% {\n",
              "      border-color: transparent;\n",
              "      border-right-color: var(--fill-color);\n",
              "    }\n",
              "    80% {\n",
              "      border-color: transparent;\n",
              "      border-right-color: var(--fill-color);\n",
              "      border-bottom-color: var(--fill-color);\n",
              "    }\n",
              "    90% {\n",
              "      border-color: transparent;\n",
              "      border-bottom-color: var(--fill-color);\n",
              "    }\n",
              "  }\n",
              "</style>\n",
              "\n",
              "  <script>\n",
              "    async function quickchart(key) {\n",
              "      const quickchartButtonEl =\n",
              "        document.querySelector('#' + key + ' button');\n",
              "      quickchartButtonEl.disabled = true;  // To prevent multiple clicks.\n",
              "      quickchartButtonEl.classList.add('colab-df-spinner');\n",
              "      try {\n",
              "        const charts = await google.colab.kernel.invokeFunction(\n",
              "            'suggestCharts', [key], {});\n",
              "      } catch (error) {\n",
              "        console.error('Error during call to suggestCharts:', error);\n",
              "      }\n",
              "      quickchartButtonEl.classList.remove('colab-df-spinner');\n",
              "      quickchartButtonEl.classList.add('colab-df-quickchart-complete');\n",
              "    }\n",
              "    (() => {\n",
              "      let quickchartButtonEl =\n",
              "        document.querySelector('#df-a061881b-c712-44f7-89c2-ed3f94fb809e button');\n",
              "      quickchartButtonEl.style.display =\n",
              "        google.colab.kernel.accessAllowed ? 'block' : 'none';\n",
              "    })();\n",
              "  </script>\n",
              "</div>\n",
              "    </div>\n",
              "  </div>\n"
            ]
          },
          "metadata": {},
          "execution_count": 51
        },
        {
          "output_type": "display_data",
          "data": {
            "text/plain": [
              "<google.colab._quickchart_helpers.SectionTitle at 0x7a54b5955210>"
            ],
            "text/html": [
              "<h4 class=\"colab-quickchart-section-title\">Distributions</h4>\n",
              "<style>\n",
              "  .colab-quickchart-section-title {\n",
              "      clear: both;\n",
              "  }\n",
              "</style>"
            ]
          },
          "metadata": {}
        },
        {
          "output_type": "display_data",
          "data": {
            "text/plain": [
              "from matplotlib import pyplot as plt\n",
              "_df_0['id'].plot(kind='hist', bins=20, title='id')\n",
              "plt.gca().spines[['top', 'right',]].set_visible(False)"
            ],
            "text/html": [
              "      <div class=\"colab-quickchart-chart-with-code\" id=\"chart-d1e58e7e-af4d-402d-9158-7013da5455bf\">\n",
              "        <img style=\"width: 180px;\" src=\"data:image/png;base64,iVBORw0KGgoAAAANSUhEUgAAAisAAAGrCAYAAAAB9tdtAAAAOXRFWHRTb2Z0d2FyZQBNYXRwbG90\n",
              "bGliIHZlcnNpb24zLjcuMSwgaHR0cHM6Ly9tYXRwbG90bGliLm9yZy/bCgiHAAAACXBIWXMAAA9h\n",
              "AAAPYQGoP6dpAAAgQ0lEQVR4nO3de3BU9d3H8c+S6NYqAQ2kxCRLCrnINSExSANTL4wj9kGwhOmo\n",
              "EwsqSVA72MFWikgFbA1txyptRwliY22mWiUoKd5GhCIKEoIXMCgQJGyEQChWlqpEsvk9f/BkH9Yk\n",
              "yIY92d+m79fMzrAnJ2e/P4/JvGf3ZNdljDECAACwVK9IDwAAAHA6xAoAALAasQIAAKxGrAAAAKsR\n",
              "KwAAwGrECgAAsBqxAgAArEasAAAAqxErAADAasQKAGtce+21euCBBzr82po1a+Ryubp5IgA2iI30\n",
              "AADQ5uWXX470CAAsxDMrAADAasQKAGtcccUVuu+++yRJW7du1WWXXaYLLrhAl156qbZt2xbh6QBE\n",
              "Ci8DAbCOz+fThAkTNHPmTL3xxhvas2ePJk2aFOmxAEQIz6wAsM4//vEP9erVSwsWLJDb7dbQoUN1\n",
              "1113RXosABFCrACwzieffKKUlBTFxMQEtn33u9+N4EQAIolYAWCd5ORkNTQ0yO/3B7bV19dHbiAA\n",
              "EUWsALDOxIkT5ff7tWjRIjU3N+ujjz7SkiVLIj0WgAghVgBYp0+fPnrppZf00ksvKT4+XoWFhbr9\n",
              "9tsjPRaACHEZY0ykhwAAAOgMz6wAAACrESsAAMBqxAoAALAasQIAAKxGrAAAAKsRKwAAwGrECgAA\n",
              "sFqPiBXe2RIAgJ6rR8TKvn37Ij0CAABwSI+IFQAA0HMRKwAAwGrECgAAsBqxAgAArEasAAAAqxEr\n",
              "AADAasQKAACwGrECAACsRqwAAACrESsAAMBqxAoAALAasQIAAKzmaKzMmjVLqampcrlceu+99zrd\n",
              "74knnlB6eroGDx6soqIinThxwsmxAABAFHE0VqZOnao333xTAwcO7HSfvXv3av78+dqwYYPq6up0\n",
              "6NAhLVu2zMmxAABAFHE0Vr7//e8rOTn5tPusWLFCkyZN0oABA+RyuTRz5kw9/fTTne7f3Nwsn88X\n",
              "dPP7/eEeHQAAWCI20gN4vd6gZ15SU1Pl9Xo73b+0tFQLFy4M2jZmzBhHZkv9xYuOHFeS6hf/j2PH\n",
              "xv/jHEY/p84h56/7cA67R0/+7xx1F9jOnTtXR48eDbqNHj060mMBAACHRPyZFY/Hoz179gTu19fX\n",
              "y+PxdLq/2+2W2+0O2hYTE+PYfAAAILIi/sxKQUGBqqqqdPDgQRljtHTpUt1www2RHgsAAFjC0Vgp\n",
              "KSlRcnKyPvnkE11zzTVKS0uTJM2YMUNVVVWSpEGDBmnhwoUaO3as0tLS1L9/f5WUlDg5FgAAiCKO\n",
              "vgxUVlbW4fbly5cH3S8qKlJRUZGTowAAgCgV8ZeBAAAATodYAQAAViNWAACA1YgVAABgNWIFAABY\n",
              "jVgBAABWI1YAAIDViBUAAGA1YgUAAFiNWAEAAFYjVgAAgNWIFQAAYDViBQAAWI1YAQAAViNWAACA\n",
              "1YgVAABgNWIFAABYjVgBAABWI1YAAIDViBUAAGA1YgUAAFiNWAEAAFYjVgAAgNWIFQAAYDViBQAA\n",
              "WI1YAQAAViNWAACA1YgVAABgNWIFAABYjVgBAABWI1YAAIDViBUAAGA1YgUAAFiNWAEAAFYjVgAA\n",
              "gNWIFQAAYDViBQAAWI1YAQAAViNWAACA1YgVAABgNWIFAABYjVgBAABWI1YAAIDViBUAAGA1YgUA\n",
              "AFiNWAEAAFYjVgAAgNWIFQAAYDViBQAAWI1YAQAAViNWAACA1YgVAABgNWIFAABYjVgBAABWI1YA\n",
              "AIDViBUAAGA1YgUAAFiNWAEAAFYjVgAAgNWIFQAAYDViBQAAWM3RWNm9e7fy8/OVkZGhvLw81dbW\n",
              "ttuntbVVs2fP1tChQzVy5EhdeeWVqqurc3IsAAAQRRyNlZKSEhUXF2vXrl2aM2eOpk+f3m6fqqoq\n",
              "vfXWW3r//fe1bds2jR8/Xvfee6+TYwEAgCjiWKw0NTWppqZGhYWFkqSCggI1NDS0e9bE5XKpublZ\n",
              "x48flzFGPp9PycnJTo0FAACiTKxTB25oaFBiYqJiY08+hMvlksfjkdfrVVpaWmC/6667TuvWrdOA\n",
              "AQPUu3dvJSUlaf369Z0et7m5Wc3NzUHb/H6/M4sAAAARF/ELbGtqavTBBx9o//79OnDggMaPH6+Z\n",
              "M2d2un9paan69OkTdKuuru7GiQEAQHdyLFZSUlLU2NiolpYWSZIxRl6vVx6PJ2i/p556SldddZX6\n",
              "9u2rXr16adq0aVq3bl2nx507d66OHj0adBs9erRTywAAABHmWKwkJCQoJydHFRUVkqTKykolJycH\n",
              "vQQkSYMGDdLatWv11VdfSZJWr16t4cOHd3pct9utuLi4oFtMTIxTywAAABHm2DUrklRWVqbp06fr\n",
              "wQcfVFxcnMrLyyVJM2bM0KRJkzRp0iTdeeed+vDDD5WVlaVzzjlHAwYM0NKlS50cCwAARBFHYyUz\n",
              "M1ObNm1qt3358uWBf7vdbj3++ONOjgEAAKJYxC+wBQAAOB1iBQAAWI1YAQAAViNWAACA1YgVAABg\n",
              "NWIFAABYjVgBAABWI1YAAIDViBUAAGA1YgUAAFiNWAEAAFYjVgAAgNWIFQAAYDViBQAAWI1YAQAA\n",
              "ViNWAACA1YgVAABgNWIFAABYjVgBAABWI1YAAIDViBUAAGA1YgUAAFiNWAEAAFYjVgAAgNWIFQAA\n",
              "YDViBQAAWI1YAQAAViNWAACA1YgVAABgNWIFAABYjVgBAABWI1YAAIDViBUAAGA1YgUAAFiNWAEA\n",
              "AFYjVgAAgNWIFQAAYDViBQAAWI1YAQAAViNWAACA1YgVAABgNWIFAABYjVgBAABWI1YAAIDViBUA\n",
              "AGA1YgUAAFiNWAEAAFYjVgAAgNWIFQAAYDViBQAAWI1YAQAAViNWAACA1YgVAABgNWIFAABYjVgB\n",
              "AABWI1YAAIDViBUAAGA1YgUAAFiNWAEAAFYjVgAAgNWIFQAAYDViBQAAWM3RWNm9e7fy8/OVkZGh\n",
              "vLw81dbWdrjf9u3bdcUVV2jIkCEaMmSIVq5c6eRYAAAgisQ6efCSkhIVFxdr+vTpWrFihaZPn64t\n",
              "W7YE7fPFF19o8uTJeuqppzRu3Dj5/X59+umnTo4FAACiiGPPrDQ1NammpkaFhYWSpIKCAjU0NKiu\n",
              "ri5ov7/97W8aM2aMxo0bJ0mKiYlR//79Oz1uc3OzfD5f0M3v9zu1DAAAEGGOxUpDQ4MSExMVG3vy\n",
              "yRuXyyWPxyOv1xu0344dO+R2uzVx4kRlZ2frxz/+sQ4fPtzpcUtLS9WnT5+gW3V1tVPLAAAAERZy\n",
              "rLz66qthHaClpUVr1qxRWVmZ3n33XSUlJen222/vdP+5c+fq6NGjQbfRo0eHdSYAAGCPkGNl0aJF\n",
              "yszM1JIlS+Tz+TrdLyUlRY2NjWppaZEkGWPk9Xrl8XiC9vN4PLryyiuVlJQkl8ulwsJCvf32250e\n",
              "1+12Ky4uLugWExMT6jIAAECUCDlW3nrrLT3zzDP64IMPlJGRoTvuuEM7duxot19CQoJycnJUUVEh\n",
              "SaqsrFRycrLS0tKC9vvRj36kLVu2BMLnpZdeUlZWVlfWAgAAeqAuXbMyatQoPf7443rllVe0evVq\n",
              "jRw5UldffbW2b98etF9ZWZnKysqUkZGhxYsXq7y8XJI0Y8YMVVVVSTr5zMq9996r/Px8jRw5UmvX\n",
              "rtXSpUvPclkAAKCn6NKfLq9Zs0Z//OMftX37dt1555267bbb9M9//lM//OEPg/7aJzMzU5s2bWr3\n",
              "/cuXLw+6f/PNN+vmm2/uyigAAKCHCzlWhgwZon79+mnWrFmaMmVK4HqRqVOn6oknngj7gAAA4L9b\n",
              "yLFSUVGh3NzcDr/28ssvn/VAAAAApwr5mpWtW7cGvcPskSNH9Pjjj4d1KAAAgDYhx8qjjz6qiy66\n",
              "KHA/Pj5ejz76aFiHAgAAaBNyrBhj2m3j7e4BAIBTQo6VxMREPfvss4H7f//735WYmBjWoQAAANqE\n",
              "fIHtI488osmTJ+uee+6RJH3729/WqlWrwj4YAACA1IVYueSSS7Rjxw7t3LlT0sn3UuHt7gEAgFO6\n",
              "9KZwLpdLffv2VUtLi/bv3y9J7T7zBwAAIBxCjpUnn3xSs2bN0jnnnKNevU5e8uJyudTU1BT24QAA\n",
              "AEKOlQceeEBbtmxRZmamE/MAAAAECfmvgfr160eoAACAbhNyrFx//fV65JFH1NTUJJ/PF7gBAAA4\n",
              "IeSXgebNmydJmj17tlwul4wxcrlcvDEcAABwRMix0tra6sQcAAAAHQr5ZSDp5IcZ/vWvf5UkffbZ\n",
              "Z2psbAzrUAAAAG269EGGt956qxYsWCDp5Kcu33TTTeGeCwAAQFIXYmXZsmV6++23FRcXJ0kaPHiw\n",
              "Dh8+HPbBAAAApC7Eitvt1nnnnRe0LTa2S2+ECwAA8I1CjpX+/ftr165dcrlckk6+oy1vtQ8AAJzS\n",
              "pU9dvvHGG/XRRx8pJSVFcXFxWr16tROzAQAAhB4raWlp2rx5s3bu3CljDJ+6DAAAHBVyrHi9XknS\n",
              "+eefL0l86jIAAHBUyLGSm5sbeOfa48eP64svvlB8fDyfugwAABwRcqx8/c+UV65cqffffz9sAwEA\n",
              "AJyqS+9ge6opU6boxRdfDMcsAAAA7YT8zMqpn7Ds9/u1efNmPnUZAAA4JuRY6du3b+CalZiYGKWn\n",
              "p+sPf/iDE7MBAADwqcsAAMBuZ33NCgAAgJNCfmalV69egbfaP5UxRi6XS36/PyyDAQAASF2IlUWL\n",
              "FunLL7/U7bffLklaunSpzjvvPP30pz8N92wAAAChx8rzzz+vrVu3Bu7/6le/Um5urubNmxfWwQAA\n",
              "AKQuXLNy7NixoHerbWpq0rFjx8I6FAAAQJuQn1m5++67lZWVpR/84AeSpFdeeUULFiwI91wAAACS\n",
              "uhArJSUlGjt2rNatWydJmj17toYNGxb2wQAAAKQuxIokxcfHa8SIEbriiivU0tKir776Sueee264\n",
              "ZwMAAAj9mpUVK1ZozJgxuuWWWyRJtbW1uv7668M9FwAAgKQuxEppaaneeecd9e3bV5KUlZWlffv2\n",
              "hXsuAAAASV2IlZiYGMXHxwdt4yUgAADglJBjpXfv3jp06FDgXWxff/11XXTRRWEfDAAAQOrCBba/\n",
              "+c1vdO211+rjjz/WuHHjtHfvXr344otOzAYAABBarLS2tsrv92vdunXauHGjjDHKz88PXL8CAAAQ\n",
              "biHFSq9evVRcXKz3339f1157rVMzAQAABIR8zUp6errq6uqcmAUAAKCdkK9Z+fTTT5Wdna38/Hxd\n",
              "cMEFge0rV64M62AAAABSCLFSXFysZcuWadq0aZo0aZIuvPBCJ+cCAACQFEKs1NTUSJKmTZumnJwc\n",
              "vfPOO44NBQAA0Cbka1YkyRgT7jkAAAA6dMbPrHz55Zfavn27jDE6fvx44N9tRo4c6ciAAADgv1tI\n",
              "sTJp0qTA/VP/7XK59PHHH4d3MgAAAIUQK/X19Q6OAQAA0LEuXbMCAADQXYgVAABgNWIFAABYjVgB\n",
              "AABWI1YAAIDViBUAAGA1YgUAAFiNWAEAAFYjVgAAgNUcjZXdu3crPz9fGRkZysvLU21tbaf7GmN0\n",
              "1VVXqW/fvk6OBAAAooyjsVJSUqLi4mLt2rVLc+bM0fTp0zvd9+GHH9bgwYOdHAcAAEQhx2KlqalJ\n",
              "NTU1KiwslCQVFBSooaFBdXV17fatra3VCy+8oF/84hffeNzm5mb5fL6gm9/vD/v8AADADo7FSkND\n",
              "gxITExUbe/KzEl0ulzwej7xeb9B+J06cUFFRkcrKyhQTE/ONxy0tLVWfPn2CbtXV1Y6sAQAARF7E\n",
              "L7BduHChpkyZoiFDhpzR/nPnztXRo0eDbqNHj3Z4SgAAECmxTh04JSVFjY2NamlpUWxsrIwx8nq9\n",
              "8ng8QfutX79eXq9Xf/rTn9TS0iKfz6fU1FRt2bJF/fv3b3dct9stt9sdtO1MnpEBAADRybFnVhIS\n",
              "EpSTk6OKigpJUmVlpZKTk5WWlha034YNG7Rv3z7V19frzTffVFxcnOrr6zsMFQAA8N/H0ZeBysrK\n",
              "VFZWpoyMDC1evFjl5eWSpBkzZqiqqsrJhwYAAD2EYy8DSVJmZqY2bdrUbvvy5cs73D81NVWfffaZ\n",
              "kyMBAIAoE/ELbAEAAE6HWAEAAFYjVgAAgNWIFQAAYDViBQAAWI1YAQAAViNWAACA1YgVAABgNWIF\n",
              "AABYjVgBAABWI1YAAIDViBUAAGA1YgUAAFiNWAEAAFYjVgAAgNWIFQAAYDViBQAAWI1YAQAAViNW\n",
              "AACA1YgVAABgNWIFAABYjVgBAABWI1YAAIDViBUAAGA1YgUAAFiNWAEAAFYjVgAAgNWIFQAAYDVi\n",
              "BQAAWI1YAQAAViNWAACA1YgVAABgNWIFAABYjVgBAABWI1YAAIDViBUAAGA1YgUAAFiNWAEAAFYj\n",
              "VgAAgNWIFQAAYDViBQAAWI1YAQAAViNWAACA1YgVAABgNWIFAABYjVgBAABWI1YAAIDViBUAAGA1\n",
              "YgUAAFiNWAEAAFYjVgAAgNWIFQAAYDViBQAAWI1YAQAAViNWAACA1YgVAABgNWIFAABYjVgBAABW\n",
              "I1YAAIDViBUAAGA1YgUAAFiNWAEAAFZzNFZ2796t/Px8ZWRkKC8vT7W1te32Wbt2rUaPHq2hQ4dq\n",
              "2LBhuueee9Ta2urkWAAAIIo4GislJSUqLi7Wrl27NGfOHE2fPr3dPhdeeKGeeeYZ7dixQ1u3btXG\n",
              "jRv11FNPOTkWAACIIo7FSlNTk2pqalRYWChJKigoUENDg+rq6oL2GzVqlAYNGiRJ+ta3vqXs7GzV\n",
              "19d3etzm5mb5fL6gm9/vd2oZAAAgwhyLlYaGBiUmJio2NlaS5HK55PF45PV6O/2egwcPasWKFZo4\n",
              "cWKn+5SWlqpPnz5Bt+rq6rDPDwAA7GDNBbY+n0/XXXed7rnnHl166aWd7jd37lwdPXo06DZ69Ohu\n",
              "nBQAAHSnWKcOnJKSosbGRrW0tCg2NlbGGHm9Xnk8nnb7Hjt2TBMmTNDkyZM1e/bs0x7X7XbL7XYH\n",
              "bYuJiQnr7AAAwB6OPbOSkJCgnJwcVVRUSJIqKyuVnJystLS0oP3+85//aMKECZowYYLuu+8+p8YB\n",
              "AABRytGXgcrKylRWVqaMjAwtXrxY5eXlkqQZM2aoqqpKkrRkyRJVV1dr5cqVys7OVnZ2tn796187\n",
              "ORYAAIgijr0MJEmZmZnatGlTu+3Lly8P/HvevHmaN2+ek2MAAIAoZs0FtgAAAB0hVgAAgNWIFQAA\n",
              "YDViBQAAWI1YAQAAViNWAACA1YgVAABgNWIFAABYjVgBAABWI1YAAIDViBUAAGA1YgUAAFiNWAEA\n",
              "AFYjVgAAgNWIFQAAYDViBQAAWI1YAQAAViNWAACA1YgVAABgNWIFAABYjVgBAABWI1YAAIDViBUA\n",
              "AGA1YgUAAFiNWAEAAFYjVgAAgNWIFQAAYDViBQAAWI1YAQAAViNWAACA1YgVAABgNWIFAABYjVgB\n",
              "AABWI1YAAIDViBUAAGA1YgUAAFiNWAEAAFYjVgAAgNWIFQAAYDViBQAAWI1YAQAAViNWAACA1YgV\n",
              "AABgNWIFAABYjVgBAABWI1YAAIDViBUAAGA1YgUAAFiNWAEAAFYjVgAAgNWIFQAAYDViBQAAWI1Y\n",
              "AQAAViNWAACA1YgVAABgNWIFAABYjVgBAABWI1YAAIDViBUAAGA1YgUAAFiNWAEAAFZzNFZ2796t\n",
              "/Px8ZWRkKC8vT7W1tR3u98QTTyg9PV2DBw9WUVGRTpw44eRYAAAgijgaKyUlJSouLtauXbs0Z84c\n",
              "TZ8+vd0+e/fu1fz587VhwwbV1dXp0KFDWrZsmZNjAQCAKOJYrDQ1NammpkaFhYWSpIKCAjU0NKiu\n",
              "ri5ovxUrVmjSpEkaMGCAXC6XZs6cqaeffrrT4zY3N8vn8wXd/H6/U8sAAAARFuvUgRsaGpSYmKjY\n",
              "2JMP4XK55PF45PV6lZaWFtjP6/Vq4MCBgfupqanyer2dHre0tFQLFy4M2nbJJZdo9uzZYZ3f7/cr\n",
              "sbpao0ePVkxMTFiPLUmzZ78e9mOGyu/3q9rBNUZaTz+HPf38Sc6ew0ifP4lzeLY4h8GmOHBMv9+v\n",
              "733vV46tb+DAgbrrrru+cT/HYsUpc+fObRcmbrdbbrc7rI/j8/nUp08fvfrqq4qLiwvrsW3R09fI\n",
              "+qJfT19jT1+f1PPXyPq6h2OxkpKSosbGRrW0tCg2NlbGGHm9Xnk8nqD9PB6P9uzZE7hfX1/fbp9T\n",
              "OREmAADAXo5ds5KQkKCcnBxVVFRIkiorK5WcnBz0EpB08lqWqqoqHTx4UMYYLV26VDfccINTYwEA\n",
              "gCjj6F8DlZWVqaysTBkZGVq8eLHKy8slSTNmzFBVVZUkadCgQVq4cKHGjh2rtLQ09e/fXyUlJU6O\n",
              "BQAAooij16xkZmZq06ZN7bYvX7486H5RUZGKioqcHCVkbrdb999/f49+yamnr5H1Rb+evsaevj6p\n",
              "56+R9XUPlzHGRHQCAACA0+Dt9gEAgNWIFQAAYDViBQAAWI1YAQAAVusxsTJr1iylpqbK5XLpvffe\n",
              "C2w/k09+Li8vl8vl0gsvvBDY1tTUpAkTJig9PV3Dhw/XG2+8EfjaZZddpuzsbGVnZ2v48OFyuVza\n",
              "tm1bh3Nt3rxZWVlZysjI0FVXXaX9+/f3qPW5XC6NGDEisP+GDRusX191dbXGjBmjUaNGaciQIfrt\n",
              "b3/b6VzhOn82rzEaz+GWLVs0duxYZWVlKTs7W2vXru10rmj8GQxlfeE6f06s8cEHH1RmZqZ69eoV\n",
              "tP2b1v91q1ev1iWXXKL09HRNmTJFPp+vx6yvvr5eMTExgfOXnZ0d9EapNq/xdF/7urM+h6aHWL9+\n",
              "vWloaDADBw407777bmD7lVdeacrLy40xxjz33HPm0ksvDfq+vXv3mu9973tmzJgx5vnnnw9sv+WW\n",
              "W8z9999vjDGmurraJCUlma+++qrd4z733HNm+PDhHc7k9/vN4MGDzdq1a40xxvzud78zU6dO7THr\n",
              "M8YYSebf//53l9Z0qu5cX1ZWllm1apUxxpgjR46Y/v37m9ra2nYzhfP82bpGY6LvHLa2tpqkpCTz\n",
              "2muvGWOM2blzp0lJSTFffPFFu5mi8WcwlPUZE77z58QaN2/ebPbs2WMuv/zyoO3GnPnvoGPHjpmE\n",
              "hATz4YcfGmOMufPOO83PfvazHrO+vXv3mj59+nRpPR3pzjWe7munCsc57DGx0ubUE3To0CHTu3dv\n",
              "c+LECWOMMa2treY73/mO2b17tzHm5C+y8ePHm5qamnb/sc8//3zT2NgYuJ+Xlxf45XGqCRMmmIcf\n",
              "frjDWaqrq01mZmbgvs/nM26323z55Zc9Yn3GhPcXpTHds77s7Gzzl7/8xRhjjNfrNUlJSUH7tnHi\n",
              "/Nm2RmOi7xwePnzYnHvuuUGPOWLECFNZWdlulmj8GQxlfcaE//wZE741tulo+5n+Dnr22WfNNddc\n",
              "E7hfW1trkpKSesz6wh0rbbpjjWfyNWPCcw57zMtAHTndJz9L0u9//3uNHTtWubm5Qd935MgRnThx\n",
              "QgMGDAhs6+jToBsaGrR+/XoVFhZ2+Phf/0Tp3r17Ky4uTgcOHOgR62szfvx4ZWVlafbs2fr888/D\n",
              "sbTA4zuxvvLycs2fP18ej0cZGRl68MEHg/Zt4/T5s2GNbaLpHPbr10+JiYl69tlnJZ18yWTnzp2q\n",
              "r69v9/jR+DMYyvraOHX+zmaNp3Omv4Ok9ucwNTU18Llz4RDp9UnS559/rry8POXk5GjRokXy+/1n\n",
              "saL2nFhjKMJxDnt0rJzOBx98oMrKSt13331dPsaTTz6piRMnql+/fmGcLDy6a3379u3T1q1btXHj\n",
              "Rh0+fFg///nPu/x4oTib9S1evFilpaXyer2qra3VvHnztGPHDgemPDvdtcZoPIerVq3Sn//8Z40a\n",
              "NUpLlizRuHHjAr+IbdFd64vU+ZPC83vGZt2xvsTERO3fv19btmzRmjVrtGHDBj300EOOPd7XRcs5\n",
              "7NGxcuonP0sK+uTnDRs2qL6+Xunp6UpNTdXbb7+t4uJiPfbYY4qPj1dsbKwOHjwYONbXPw3aGKPy\n",
              "8nLddtttnT6+x+PRvn37AvePHTumo0eP6uKLL+4R62tboySdf/75uuOOO87q4r7uWN+//vUvPf/8\n",
              "87rpppsknfxsqjFjxuitt97qcG1Onj8b1ti2Til6zqEkZWVl6ZVXXtG7776riooKHThwQMOGDetw\n",
              "bdH4M3im62tbo+TM+TubNZ7OmfwOavP1c1hfXx/0LEG0r8/tdishIUGSdNFFF+nWW2+NinMYirCc\n",
              "w5BeNIoCX7+o6PLLLw+6qCg3N7fD7/v6a27Tpk0Lujjq4osvDro4as2aNSYlJcX4/f5OZ/H7/WbQ\n",
              "oEFBF/cVFBR0bWH/x6b1ffrpp+bzzz83xpxc61133WVuvvnmri3s/zi9vpaWFnPhhRea119/3Rhj\n",
              "zOHDh01KSorZuHFju2M6cf5sW2M0nkNjjDlw4EBgv2XLlpnc3FzT2tra7pjR+jN4putz4vwZE741\n",
              "nm77N/0OauPz+Uz//v2DLs68++67Q17TqWxa36FDhwLbjx8/bqZOnWrmz58f8pq+rjvWeCZfMyY8\n",
              "57DHxEpxcbFJSkoyMTExJiEhwQwePNgYY8xHH31kxowZY9LT001ubq7Ztm1bh9//9f/YBw8eNFdf\n",
              "fbVJS0szQ4cODfyya3PjjTeaX/7yl+2O89hjjwX9j7Zx40YzYsQIk56ebi6//HLj9Xp7zPra1jZy\n",
              "5EgzdOhQU1hYaI4cOWL9+l577TWTk5NjRo4caYYMGWIeeuihDtd36hrP9vzZusZoPYcLFiww6enp\n",
              "Ji0tzVx33XVB56Un/Aye6frCef6cWOMDDzxgkpKSzLnnnmvi4+NNUlKSaWpq+sb1z58/3zz22GOB\n",
              "+6tWrTKZmZlm8ODBZvLkyeazzz7rMeurrKw0w4YNC5zDn/zkJ+b48eNdWl93r/F0Xwv3OeSDDAEA\n",
              "gNV69DUrAAAg+hErAADAasQKAACwGrECAACsRqwAAACrESsAAMBqxAoAALAasQIAAKxGrAAAAKsR\n",
              "KwAAwGr/Cxh5ZHNfW66WAAAAAElFTkSuQmCC\n",
              "\">\n",
              "      </div>\n",
              "      <script type=\"text/javascript\">\n",
              "        (() => {\n",
              "          const chartElement = document.getElementById(\"chart-d1e58e7e-af4d-402d-9158-7013da5455bf\");\n",
              "          async function getCodeForChartHandler(event) {\n",
              "            const chartCodeResponse =  await google.colab.kernel.invokeFunction(\n",
              "                'getCodeForChart', [\"chart-d1e58e7e-af4d-402d-9158-7013da5455bf\"], {});\n",
              "            const responseJson = chartCodeResponse.data['application/json'];\n",
              "            await google.colab.notebook.addCell(responseJson.code, 'code');\n",
              "          }\n",
              "          chartElement.onclick = getCodeForChartHandler;\n",
              "        })();\n",
              "      </script>\n",
              "      <style>\n",
              "        .colab-quickchart-chart-with-code  {\n",
              "            display: block;\n",
              "            float: left;\n",
              "            border: 1px solid transparent;\n",
              "        }\n",
              "\n",
              "        .colab-quickchart-chart-with-code:hover {\n",
              "            cursor: pointer;\n",
              "            border: 1px solid #aaa;\n",
              "        }\n",
              "      </style>"
            ]
          },
          "metadata": {}
        },
        {
          "output_type": "display_data",
          "data": {
            "text/plain": [
              "<google.colab._quickchart_helpers.SectionTitle at 0x7a54b59551e0>"
            ],
            "text/html": [
              "<h4 class=\"colab-quickchart-section-title\">Time series</h4>\n",
              "<style>\n",
              "  .colab-quickchart-section-title {\n",
              "      clear: both;\n",
              "  }\n",
              "</style>"
            ]
          },
          "metadata": {}
        },
        {
          "output_type": "display_data",
          "data": {
            "text/plain": [
              "from matplotlib import pyplot as plt\n",
              "import seaborn as sns\n",
              "def _plot_series(series, series_name, series_index=0):\n",
              "  from matplotlib import pyplot as plt\n",
              "  import seaborn as sns\n",
              "  palette = list(sns.palettes.mpl_palette('Dark2'))\n",
              "  counted = (series['id']\n",
              "                .value_counts()\n",
              "              .reset_index(name='counts')\n",
              "              .rename({'index': 'id'}, axis=1)\n",
              "              .sort_values('id', ascending=True))\n",
              "  xs = counted['id']\n",
              "  ys = counted['counts']\n",
              "  plt.plot(xs, ys, label=series_name, color=palette[series_index % len(palette)])\n",
              "\n",
              "fig, ax = plt.subplots(figsize=(10, 5.2), layout='constrained')\n",
              "df_sorted = _df_1.sort_values('id', ascending=True)\n",
              "_plot_series(df_sorted, '')\n",
              "sns.despine(fig=fig, ax=ax)\n",
              "plt.xlabel('id')\n",
              "_ = plt.ylabel('count()')"
            ],
            "text/html": [
              "      <div class=\"colab-quickchart-chart-with-code\" id=\"chart-a90561db-f3cc-4389-8549-1ff913c6907e\">\n",
              "        <img style=\"width: 180px;\" src=\"data:image/png;base64,iVBORw0KGgoAAAANSUhEUgAAA/MAAAITCAYAAABLz0yVAAAAOXRFWHRTb2Z0d2FyZQBNYXRwbG90\n",
              "bGliIHZlcnNpb24zLjcuMSwgaHR0cHM6Ly9tYXRwbG90bGliLm9yZy/bCgiHAAAACXBIWXMAAA9h\n",
              "AAAPYQGoP6dpAAAloElEQVR4nO3de5DV5X348c8BwiZSuTRcBZYtN5GLgFyq4kgSbcVWSBXamJSk\n",
              "JKI46shIDZZJNlEzBZtGjLVTLx1Kkzg1NaKRSTudidpahCaLAbQBb1DWBRFQiywhgnt5+oc/95eV\n",
              "BXZxD2cffL1mzkzOOd895/PN46P7Zs9+KaSUUgAAAADZ6FTqAQAAAIC2EfMAAACQGTEPAAAAmRHz\n",
              "AAAAkBkxDwAAAJkR8wAAAJAZMQ8AAACZEfMAAACQmVM+5u++++5SjwAAAADt6pSP+VdffbXUIwAA\n",
              "AEC7OuVjHgAAAE41Yh4AAAAyI+YBAAAgM2IeAAAAMiPmAQAAIDNiHgAAADIj5gEAACAzYh4AAAAy\n",
              "I+YBAAAgM2IeAAAAMiPmAQAAIDNiHgAAADIj5gEAACAzYh4AAAAyI+YBAAAgM2IeAAAAMiPmAQAA\n",
              "IDNiHgAAADIj5gEAACAzYh4AAAAyI+YBAAAgM2IeAAAAMiPmAQAAIDNiHgAAADIj5gEAACAzYh4A\n",
              "AAAyI+YBAAAgM2IeAAAAMiPmAQAAIDNiHgAAADIj5gEAACAzYh4AAAAyI+YBAAAgM2IeAAAAMiPm\n",
              "AQAAIDNiHgAAADIj5gEAACAzYh4AAAAyI+YBAAAgM2IeAAAAMiPmAQAAIDNiHgAAADIj5gEAACAz\n",
              "Yh4AAAAyI+YBAAAgM2IeAAAAMiPmAQAAIDNiHgAAADIj5gEAACAzYh4AAAAyI+YBAAAgM2IeAAAA\n",
              "MiPmAQAAIDNiHgAAADIj5gEAACAzYh4AAAAyI+YBAAAgM2IeAAAAMiPmAQAAIDNiHgAAADIj5gEA\n",
              "ACAzRY35G2+8MSoqKqJQKMSmTZuOetyKFStixIgRMWzYsLj66qujrq6u2fMppfjMZz4TPXv2LOa4\n",
              "AAAAkIWixvycOXPimWeeiSFDhhz1mO3bt0dlZWWsWbMmtm7dGnv27IkHHnig2TF33XVXDBs2rJij\n",
              "AgAAQDaKGvMXXnhhDBo06JjHPPLIIzFr1qzo379/FAqFuPbaa+Ohhx5qen7z5s3x4x//OP7iL/7i\n",
              "uO93+PDhqK2tbXZraGj40OcBAAAAHUnJf2e+pqam2U/uKyoqoqamJiIi6urq4uqrr477778/Onfu\n",
              "fNzXWrZsWfTo0aPZraqqqmizAwAAQCmUPOaP5bbbbosrrrgizjrrrFYdv2TJkti/f3+z29SpU4s8\n",
              "JQAAAJxcXUo9QHl5eWzbtq3pfnV1dZSXl0dExNNPPx01NTXxt3/7t1FfXx+1tbVRUVER69evjz59\n",
              "+hzxWmVlZVFWVtbssdb8RB8AAAByUvKfzM+ePTtWr14du3fvjpRS3HfffXHllVdGRMSaNWvi1Vdf\n",
              "jerq6njmmWeie/fuUV1d3WLIAwAAwEdFUWN+wYIFMWjQoNi5c2dccsklMXz48IiImD9/fqxevToi\n",
              "IoYOHRq33XZbTJs2LYYPHx59+vSJBQsWFHMsAAAAyFohpZRKPUQxLVq0KJYvX17qMQAAAKDdlPxj\n",
              "9gAAAEDbiHkAAADIjJgHAACAzIh5AAAAyIyYBwAAgMyIeQAAAMiMmAcAAIDMiHkAAADIjJgHAACA\n",
              "zIh5AAAAyIyYBwAAgMyIeQAAAMiMmAcAAIDMiHkAAADIjJgHAACAzIh5AAAAyIyYBwAAgMyIeQAA\n",
              "AMiMmAcAAIDMiHkAAADIjJgHAACAzIh5AAAAyIyYBwAAgMyIeQAAAMiMmAcAAIDMiHkAAADIjJgH\n",
              "AACAzIh5AAAAyIyYBwAAgMyIeQAAAMiMmAcAAIDMiHkAAADIjJgHAACAzIh5AAAAyIyYBwAAgMyI\n",
              "eQAAAMiMmAcAAIDMiHkAAADIjJgHAACAzIh5AAAAyIyYBwAAgMyIeQAAAMiMmAcAAIDMiHkAAADI\n",
              "jJgHAACAzIh5AAAAyIyYBwAAgMyIeQAAAMiMmAcAAIDMiHkAAADIjJgHAACAzIh5AAAAyIyYBwAA\n",
              "gMyIeQAAAMiMmAcAAIDMiHkAAADIjJgHAACAzIh5AAAAyIyYBwAAgMyIeQAAAMiMmAcAAIDMiHkA\n",
              "AADIjJgHAACAzIh5AAAAyIyYBwAAgMyIeQAAAMiMmAcAAIDMiHkAAADIjJgHAACAzIh5AAAAyIyY\n",
              "BwAAgMyIeQAAAMiMmAcAAIDMiHkAAADIjJgHAACAzIh5AAAAyIyYBwAAgMyIeQAAAMhMUWP+xhtv\n",
              "jIqKiigUCrFp06ajHrdixYoYMWJEDBs2LK6++uqoq6uLiIinnnoqpk6dGqNHj44xY8bE4sWLo7Gx\n",
              "sZgjAwAAQIdX1JifM2dOPPPMMzFkyJCjHrN9+/aorKyMNWvWxNatW2PPnj3xwAMPREREr1694oc/\n",
              "/GFs2bIlfvGLX8S6devi+9//fjFHBgAAgA6vqDF/4YUXxqBBg455zCOPPBKzZs2K/v37R6FQiGuv\n",
              "vTYeeuihiIiYOHFiDB06NCIiPv7xj8eECROiurr6qK91+PDhqK2tbXZraGhot/MBAACAjqDkvzNf\n",
              "U1PT7Cf3FRUVUVNTc8Rxu3fvjkceeSQuu+yyo77WsmXLokePHs1uVVVVRZkbAAAASqXkMd8atbW1\n",
              "MXPmzFi8eHFMnjz5qMctWbIk9u/f3+w2derUkzgpAAAAFF+XUg9QXl4e27Zta7pfXV0d5eXlTfcP\n",
              "HDgQM2bMiM9+9rOxaNGiY75WWVlZlJWVNXusc+fO7TswAAAAlFjJfzI/e/bsWL16dezevTtSSnHf\n",
              "fffFlVdeGRERv/rVr2LGjBkxY8aM+PrXv17iSQEAAKBjKGrML1iwIAYNGhQ7d+6MSy65JIYPHx4R\n",
              "EfPnz4/Vq1dHRMTQoUPjtttui2nTpsXw4cOjT58+sWDBgoiIuPvuu6OqqioeffTRmDBhQkyYMCH+\n",
              "8i//spgjAwAAQIdXSCmlUg9RTIsWLYrly5eXegwAAABoNyX/mD0AAADQNmIeAAAAMiPmAQAAIDNi\n",
              "HgAAADIj5gEAACAzYh4AAAAyI+YBAAAgM2IeAAAAMiPmAQAAIDNiHgAAADIj5gEAACAzYh4AAAAy\n",
              "I+YBAAAgM2IeAAAAMiPmAQAAIDNiHgAAADIj5gEAACAzYh4AAAAyI+YBAAAgM2IeAAAAMiPmAQAA\n",
              "IDNiHgAAADIj5gEAACAzYh4AAAAyI+YBAAAgM2IeAAAAMiPmAQAAIDNiHgAAADIj5gEAACAzYh4A\n",
              "AAAyI+YBAAAgM2IeAAAAMiPmAQAAIDNiHgAAADIj5gEAACAzYh4AAAAyI+YBAAAgM2IeAAAAMiPm\n",
              "AQAAIDNiHgAAADIj5gEAACAzYh4AAAAyI+YBAAAgM2IeAAAAMiPmAQAAIDNiHgAAADIj5gEAACAz\n",
              "Yh4AAAAyI+YBAAAgM2IeAAAAMiPmAQAAIDNiHgAAADIj5gEAACAzYh4AAAAyI+YBAAAgM2IeAAAA\n",
              "MiPmAQAAIDNiHgAAADIj5gEAACAzYh4AAAAyI+YBAAAgM2IeAAAAMiPmAQAAIDNiHgAAADLT5US+\n",
              "aMuWLbFz5874xCc+EePGjYuePXu281gAAADA0bQ65g8cOBDf+c534u///u/jtNNOi379+sWhQ4di\n",
              "27ZtMXXq1LjlllvioosuKuasAAAAQLQh5j/96U/Hl770pdi4cWP069ev6fHGxsZYs2ZN3HfffbF1\n",
              "69ZYsGBBUQYFAAAA3tPqmF+7dm2UlZUd8XinTp1i+vTpMX369Dh8+HC7DgcAAAAcqdUXwGsp5E/k\n",
              "GAAAAODDaXXMX3bZZbFu3boWn3v77bfjzjvvjPvvv7/dBgMAAABa1uqP2S9dujSWLFkSW7ZsiSlT\n",
              "pjRdAO/FF1+M1157La6//vr4yle+UsxZAQAAgGhDzJ999tnxL//yL7Fjx454+umnY+fOnXHaaafF\n",
              "n/7pn8YFF1wQXbqc0N9yBwAAALRRmwt83759MXfu3GaPPf/883H22We321AAAADA0bX6d+bfN2/e\n",
              "vFY9BgAAABRHq38yv3fv3ti9e3e888478d///d+RUoqIiP3798fBgweLNiAAAADQXKtj/qGHHorv\n",
              "fve7sWvXrpg1a1bT4z169IjFixcXZTgAAADgSK2O+YULF8bChQvjW9/6VlRWVhZzJgAAAOAY2nwB\n",
              "vMrKymhsbIzdu3dHfX190+Pl5eXtOhgAAADQsjZfAO973/te9OzZM8aNGxeTJk2KSZMmxeTJk1s8\n",
              "9sYbb4yKioooFAqxadOmo77mihUrYsSIETFs2LC4+uqro66urlXPAQAAwEdRm2P+9ttvj/Xr18db\n",
              "b70Vb7zxRrzxxhuxd+/eFo+dM2dOPPPMMzFkyJCjvt727dujsrIy1qxZE1u3bo09e/bEAw88cNzn\n",
              "AAAA4KOqzR+z7927d5x55pmtOvbCCy887jGPPPJIzJo1K/r37x8REddee20sXbo0rr/++mM+dypJ\n",
              "KcU79T5xAAAAUEyf6PKxKBQKpR6jXbQ55v/oj/4ovvvd78YXvvCF+PjHP970ePfu3U9ogJqammY/\n",
              "ua+oqIiamprjPteSw4cPx+HDh5s91tDQcEJznUzv1NfFyAe/UeoxAAAATmkvz709TvtY11KP0S7a\n",
              "/DH7r33ta7Fo0aLo379/9OrVK3r27Bm9evUqxmxttmzZsujRo0ezW1VVVanHAgAAgHbV5p/MNzY2\n",
              "tusA5eXlsW3btqb71dXVTVfGP9ZzLVmyZEksWrSo2WM5/DV6n+jysXh57u2lHgMAAOCU9okuHyv1\n",
              "CO2mzTHf3mbPnh0XXHBB3HrrrdGvX7+477774sorrzzucy0pKyuLsrKyZo917ty5qPO3h0KhcMp8\n",
              "1AMAAIDia/PH7Dt16hSdO3c+4taSBQsWxKBBg2Lnzp1xySWXxPDhwyMiYv78+bF69eqIiBg6dGjc\n",
              "dtttMW3atBg+fHj06dMnFixYcNznAAAA4KOqkFJKbfmCgwcPNv3vd955J77//e9HQ0NDfPWrX233\n",
              "4drDokWLYvny5aUeAwAAANpNm38y361bt6Zb7969Y9GiRfHII48UYzYAAACgBW2O+Q968cUX4803\n",
              "32yPWQAAAIBWaPMF8Hr16hWFQiEiIurr6yMi4p577mnfqQAAAICjanPMb9q06f9/cZcu0b9//yyu\n",
              "GA8AAACnijbH/JAhQ+LXv/51U9T36tUrTjvttPaeCwAAADiKNsf8unXrYvbs2dG/f/+IiNizZ0+s\n",
              "WrUqzjvvvHYfDgAAADhSm2P+/avXT5s2LSLei/ubbropfvazn7X7cAAAAMCR2nw1+3feeacp5CMi\n",
              "zj///Dh06FC7DgUAAAAcXZtj/rd+67fiiSeeaLr/5JNPRrdu3dp1KAAAAODo2vwx+7/5m7+JK664\n",
              "oukK9o2NjfHoo4+2+2AAAABAy9oc87t27Ypnn3029uzZExER/fr1i6qqqnYfDAAAAGhZmz9mX1lZ\n",
              "GX369ImxY8fG2LFjo3fv3lFZWVmM2QAAAIAWtDnmP6hQKERDQ0N7zAIAAAC0Qptj/vTTT49169Y1\n",
              "3V+7dm2cfvrp7ToUAAAAcHRt/p35b3/723H55ZfHqFGjIiLilVdeiccee6zdBwMAAABa1uaYP++8\n",
              "8+KFF16I//qv/4qI9/6e+Z49e7b3XAAAAMBRtDnmIyJ69eoVf/AHf9DeswAAAACt8KEvgAcAAACc\n",
              "XGIeAAAAMiPmAQAAIDNiHgAAADIj5gEAACAzYh4AAAAyI+YBAAAgM2IeAAAAMiPmAQAAIDNiHgAA\n",
              "ADIj5gEAACAzYh4AAAAyI+YBAAAgM2IeAAAAMiPmAQAAIDNiHgAAADIj5gEAACAzYh4AAAAyI+YB\n",
              "AAAgM2IeAAAAMiPmAQAAIDNiHgAAADIj5gEAACAzYh4AAAAyI+YBAAAgM2IeAAAAMiPmAQAAIDNi\n",
              "HgAAADIj5gEAACAzYh4AAAAyI+YBAAAgM2IeAAAAMiPmAQAAIDNiHgAAADIj5gEAACAzYh4AAAAy\n",
              "I+YBAAAgM2IeAAAAMiPmAQAAIDNiHgAAADIj5gEAACAzYh4AAAAyI+YBAAAgM2IeAAAAMiPmAQAA\n",
              "IDNiHgAAADIj5gEAACAzYh4AAAAyI+YBAAAgM2IeAAAAMiPmAQAAIDNiHgAAADIj5gEAACAzYh4A\n",
              "AAAyI+YBAAAgM2IeAAAAMiPmAQAAIDNiHgAAADIj5gEAACAzYh4AAAAyI+YBAAAgM2IeAAAAMlPU\n",
              "mH/llVfi/PPPj5EjR8aUKVNi8+bNRxzT2NgYN998c4wdOzZGjRoVV111Vbz77rtNz//VX/1VjB49\n",
              "OiZMmBDnnntuVFVVFXNkAAAA6PCKGvMLFiyIa665Jl5++eW45ZZbYt68eUccs2LFitiwYUNs2LAh\n",
              "XnjhhejUqVPcfffdERGxadOm+Lu/+7uoqqqKTZs2xQ033BA33HBDMUcGAACADq9oMb9379549tln\n",
              "Y+7cuRERMXv27NixY0ds3bq12XHPPfdcXHzxxdG1a9coFApx6aWXxg9+8IOIiCgUClFXVxcHDx6M\n",
              "iIi33347Bg0adNT3PHz4cNTW1ja7NTQ0FOkMAQAAoDSKFvM7duyIAQMGRJcuXSLivTAvLy+Pmpqa\n",
              "ZsdNmjQpVq9eHbW1tVFXVxcPP/xwVFdXR0TE+PHj46abborf+Z3fiUGDBsVdd90V99xzz1Hfc9my\n",
              "ZdGjR49mNx/LBwAA4FRT8gvgzZs3L2bMmBHTp0+P6dOnx8iRI5v+AGD79u3x6KOPxtatW2Pnzp1x\n",
              "0003xec+97mjvtaSJUti//79zW5Tp049WacCAAAAJ0XRYn7w4MHx+uuvR319fUREpJSipqYmysvL\n",
              "mx1XKBTi1ltvjY0bN8a6deti9OjRMWbMmIiIWLVqVYwbNy7OOOOMiIj48pe/HGvXrm12gbzfVFZW\n",
              "Ft27d29269y5c7FOEQAAAEqiaDHft2/fOOecc+LBBx+MiPfCfNCgQTF8+PBmxx06dCj27dsXERFv\n",
              "vvlm3HHHHbF48eKIiBg6dGisXbs2fvWrX0VExE9+8pMYOXJkdO3atVhjAwAAQIfXpZgvfv/998e8\n",
              "efNi6dKl0b1791i5cmVERMyfPz9mzZoVs2bNiv3798enPvWp6NSpUzQ2NsbChQtj5syZERFx+eWX\n",
              "x/r162Py5MlRVlYW3bp1i3/6p38q5sgAAADQ4RVSSqnUQxTTokWLYvny5aUeAwAAANpNyS+ABwAA\n",
              "ALSNmAcAAIDMiHkAAADIjJgHAACAzIh5AAAAyIyYBwAAgMyIeQAAAMiMmAcAAIDMiHkAAADIjJgH\n",
              "AACAzIh5AAAAyIyYBwAAgMyIeQAAAMiMmAcAAIDMiHkAAADIjJgHAACAzIh5AAAAyIyYBwAAgMyI\n",
              "eQAAAMiMmAcAAIDMiHkAAADIjJgHAACAzIh5AAAAyIyYBwAAgMyIeQAAAMiMmAcAAIDMiHkAAADI\n",
              "jJgHAACAzIh5AAAAyIyYBwAAgMyIeQAAAMiMmAcAAIDMiHkAAADIjJgHAACAzIh5AAAAyIyYBwAA\n",
              "gMyIeQAAAMiMmAcAAIDMiHkAAADIjJgHAACAzIh5AAAAyIyYBwAAgMyIeQAAAMiMmAcAAIDMiHkA\n",
              "AADIjJgHAACAzIh5AAAAyIyYBwAAgMyIeQAAAMiMmAcAAIDMiHkAAADIjJgHAACAzIh5AAAAyIyY\n",
              "BwAAgMyIeQAAAMiMmAcAAIDMiHkAAADIjJgHAACAzIh5AAAAyIyYBwAAgMyIeQAAAMiMmAcAAIDM\n",
              "iHkAAADIjJgHAACAzIh5AAAAyIyYBwAAgMyIeQAAAMiMmAcAAIDMiHkAAADIjJgHAACAzIh5AAAA\n",
              "yIyYBwAAgMyIeQAAAMiMmAcAAIDMiHkAAADIjJgHAACAzIh5AAAAyIyYBwAAgMwUNeZfeeWVOP/8\n",
              "82PkyJExZcqU2Lx58xHHNDY2xs033xxjx46NUaNGxVVXXRXvvvtu0/M1NTUxc+bMOPPMM2P06NFx\n",
              "zz33FHNkAAAA6PCKGvMLFiyIa665Jl5++eW45ZZbYt68eUccs2LFitiwYUNs2LAhXnjhhejUqVPc\n",
              "fffdERGRUorLL788vvSlL8VLL70UW7ZsiT/5kz8p5sgAAADQ4RUt5vfu3RvPPvtszJ07NyIiZs+e\n",
              "HTt27IitW7c2O+65556Liy++OLp27RqFQiEuvfTS+MEPfhAREU8++WSUlZXFH//xHzcd369fv6O+\n",
              "5+HDh6O2trbZraGhoQhnBwAAAKVTtJjfsWNHDBgwILp06RIREYVCIcrLy6OmpqbZcZMmTYrVq1dH\n",
              "bW1t1NXVxcMPPxzV1dUREbFly5bo06dPXHnllTFx4sS4/PLL43/+53+O+p7Lli2LHj16NLtVVVUV\n",
              "6xQBAACgJEp+Abx58+bFjBkzYvr06TF9+vQYOXJk0x8A1NfXx1NPPRWVlZWxcePGuOSSS475Mfsl\n",
              "S5bE/v37m92mTp16sk4FAAAAToqixfzgwYPj9ddfj/r6+oh47/ffa2pqory8vNlxhUIhbr311ti4\n",
              "cWOsW7cuRo8eHWPGjImIiPLy8pg4cWLT/S9+8YuxYcOGqKura/E9y8rKonv37s1unTt3LtYpAgAA\n",
              "QEkULeb79u0b55xzTjz44IMREbFq1aoYNGhQDB8+vNlxhw4din379kVExJtvvhl33HFHLF68OCIi\n",
              "Lr300ti5c2e89tprERHxr//6r3HWWWfFxz72sWKNDQAAAB1el2K++P333x/z5s2LpUuXRvfu3WPl\n",
              "ypURETF//vyYNWtWzJo1K/bv3x+f+tSnolOnTtHY2BgLFy6MmTNnRkREt27d4r777os//MM/jJRS\n",
              "9OjRI374wx8Wc2QAAADo8AoppVTqIYpp0aJFsXz58lKPAQAAAO2m5BfAAwAAANpGzAMAAEBmxDwA\n",
              "AABkRswDAABAZsQ8AAAAZEbMAwAAQGbEPAAAAGRGzAMAAEBmxDwAAABkRswDAABAZsQ8AAAAZEbM\n",
              "AwAAQGbEPAAAAGRGzAMAAEBmxDwAAABkRswDAABAZsQ8AAAAZEbMAwAAQGbEPAAAAGRGzAMAAEBm\n",
              "xDwAAABkRswDAABAZsQ8AAAAZEbMAwAAQGbEPAAAAGRGzAMAAEBmxDwAAABkRswDAABAZsQ8AAAA\n",
              "ZEbMAwAAQGbEPAAAAGRGzAMAAEBmxDwAAABkRswDAABAZsQ8AAAAZEbMAwAAQGbEPAAAAGRGzAMA\n",
              "AEBmxDwAAABkRswDAABAZsQ8AAAAZEbMAwAAQGbEPAAAAGRGzAMAAEBmxDwAAABkRswDAABAZsQ8\n",
              "AAAAZEbMAwAAQGbEPAAAAGRGzAMAAEBmxDwAAABkRswDAABAZsQ8AAAAZEbMAwAAQGbEPAAAAGRG\n",
              "zAMAAEBmxDwAAABkRswDAABAZsQ8AAAAZEbMAwAAQGYKKaVU6iGK6YorroiKiopSj3FcDQ0NUVVV\n",
              "FVOnTo3OnTuXehyOwVrlxXrlw1rlxXrlw1rlxXrlw1rlJbf1GjJkSCxcuPCYx5zyMZ+L2tra6NGj\n",
              "R+zfvz+6d+9e6nE4BmuVF+uVD2uVF+uVD2uVF+uVD2uVl1NxvXzMHgAAADIj5gEAACAzYh4AAAAy\n",
              "I+Y7iLKysvjmN78ZZWVlpR6F47BWebFe+bBWebFe+bBWebFe+bBWeTkV18sF8AAAACAzfjIPAAAA\n",
              "mRHzAAAAkBkxDwAAAJkR8yfgxhtvjIqKiigUCrFp06amx1955ZU4//zzY+TIkTFlypTYvHnzEV+7\n",
              "cuXKKBQK8eMf/7jpsb1798aMGTNixIgRMXbs2PjP//zPpud+93d/NyZMmBATJkyIsWPHRqFQiOef\n",
              "f77FuX7+85/H+PHjY+TIkfGZz3wmXnvttXY755x11PUqFAoxbty4puPXrFnTbuecq5O5VlVVVXHu\n",
              "uefGxIkT46yzzopvf/vbR53L3mpZR10ve+tIJ3Ot1q9fH9OmTYvx48fHhAkT4qmnnjrqXPZWyzrq\n",
              "etlbR2rvtVq6dGmceeaZ0alTp2aPRxx7HT/oJz/5SYwaNSpGjBgRV1xxRdTW1n7YUz0ldMT1qq6u\n",
              "js6dOzftqwkTJsS2bdva43SzdjLX6ljPfVCH21uJNnv66afTjh070pAhQ9LGjRubHv/0pz+dVq5c\n",
              "mVJK6Uc/+lGaPHlys6/bvn17Ou+889K5556bHnvssabHv/zlL6dvfvObKaWUqqqq0sCBA9O77757\n",
              "xPv+6Ec/SmPHjm1xpoaGhjRs2LD01FNPpZRS+uu//us0Z86cEz/JU0hHXK+UUoqItG/fvhM9rVPS\n",
              "yVyr8ePHp8cffzyllNJbb72V+vTpkzZv3nzETPbW0XXE9UrJ3mrJyVqrxsbGNHDgwPTTn/40pZTS\n",
              "Sy+9lAYPHpx+/etfHzGTvXV0HXG9UrK3WtLea/Xzn/88bdu2LU2fPr3Z4ym1/vuPAwcOpL59+6YX\n",
              "XnghpZTS9ddfn26++eYPfa6ngo64Xtu3b089evRoh7M7tZzMtTrWc7+pI+4tMf8h/OY/XHv27Emn\n",
              "n356qqurSyml1NjYmPr165deeeWVlNJ737RcdNFF6dlnnz3iH5Ru3bql119/ven+lClTmv7D+ptm\n",
              "zJiR7rrrrhZnqaqqSmeeeWbT/dra2lRWVpbeeeedD3mWp46OtF4p+aboWE7GWk2YMCF973vfSyml\n",
              "VFNTkwYOHNjs2PfZW8fXkdYrJXvrWIq9Vm+88Ubq2rVrs/ccN25cWrVq1RGz2FvH15HWKyV761ja\n",
              "a63e19Ljrf3+4+GHH06XXHJJ0/3NmzengQMHfsgzPLV0pPUS88d2MtaqNc+l1DH3lo/Zt5MdO3bE\n",
              "gAEDokuXLhHx3kfRysvLo6amJiIili9fHtOmTYtJkyY1+7q33nor6urqon///k2PVVRUNH3db77+\n",
              "008/HXPnzm3x/WtqamLIkCFN908//fTo3r177Nq1q13O71RT6vV630UXXRTjx4+PRYsWxcGDB9vj\n",
              "1E45xVqrlStXRmVlZZSXl8fIkSNj6dKlzY59n73VNqVer/fZW8dXjLXq3bt3DBgwIB5++OGIeO8j\n",
              "3C+99FJUV1cf8f72VtuUer3eZ28d34mu1bG09vuPiCP3VkVFRbz++utRX19/oqd0Siv1ekVEHDx4\n",
              "MKZMmRLnnHNO3H777dHQ0PAhzujUVYy1aouOuLfE/Enwy1/+MlatWhVf//rXT/g1/vEf/zEuu+yy\n",
              "6N27dztORktO1nq9+uqr8Ytf/CLWrVsXb7zxRnz1q1894ff7qPowa3XHHXfEsmXLoqamJjZv3hxf\n",
              "+9rXYsuWLUWYkvedrPWytz68D7NWjz/+ePzDP/xDTJw4Me6+++644IILmr7xojhO1nrZWx9ee3yP\n",
              "wclzMtZrwIAB8dprr8X69evjiSeeiDVr1sSdd95ZtPc7VX1U95aYbyeDBw9u9iczKaWoqamJ8vLy\n",
              "WLNmTVRXV8eIESOioqIifvazn8U111wT9957b3zyk5+MLl26xO7du5teq7q6OsrLy5vup5Ri5cqV\n",
              "cdVVVx31/cvLy+PVV19tun/gwIHYv39/nHHGGUU42/yVer0ioulrunXrFtddd50LCR1FMdbqzTff\n",
              "jMceeyy+8IUvRETE0KFD49xzz421a9ce8f72VtuUer0i7K3WKta/B8ePHx//9m//Fhs3bowHH3ww\n",
              "du3aFWPGjDni/e2ttin1ekXYW611omt1LK35/uN9H9xb1dXVzX6aSXOlXq+ysrLo27dvRET89m//\n",
              "dnzlK1+xt46iGGvVFh1yb5Xo4/2nhA9ekGH69OnNLsgwadKkFr/ug7+P8Wd/9mfNLpBxxhlnNLtA\n",
              "xhNPPJEGDx6cGhoajjpLQ0NDGjp0aLMLCc2ePfvETuwU1ZHW63//93/TwYMHU0rvrd3ChQvTF7/4\n",
              "xRM7sVNQsdeqvr4+9erVKz355JMppZTeeOONNHjw4LRu3bojXtPeOr6OtF721rGdjH8P7tq1q+m4\n",
              "Bx54IE2aNCk1NjYe8Zr21vF1pPWyt46tvdbqWI8f7/uP99XW1qY+ffo0u0jXn//5n7f5nE5lHWm9\n",
              "9uzZ0/T4oUOH0pw5c1JlZWWbz+lUdTLWqjXPpdQx95aYPwHXXHNNGjhwYOrcuXPq27dvGjZsWEop\n",
              "pRdffDGde+65acSIEWnSpEnp+eefb/HrP/gPyu7du9Pv/d7vpeHDh6fRo0c3fWPzvs9//vPpG9/4\n",
              "xhGvc++99zbb7OvWrUvjxo1LI0aMSNOnT081NTXtcLb564jr9f5anX322Wn06NFp7ty56a233mqn\n",
              "M87XyVyrn/70p+mcc85JZ599djrrrLPSnXfe2fScvdU6HXG97K2Wncy1uvXWW9OIESPS8OHD08yZ\n",
              "M5vtF3urdTrietlbLWvvtfrWt76VBg4cmLp27Zo++clPpoEDB6a9e/emlI69jpWVlenee+9tuv/4\n",
              "44+nM888Mw0bNix99rOfTW+//XYRzj4/HXG9Vq1alcaMGdO0t2644YZ06NChIv0/kI+TuVbHeq6j\n",
              "761CSimV7nMBAAAAQFv5nXkAAADIjJgHAACAzIh5AAAAyIyYBwBaZcKECXHgwIEWn5s8eXL8x3/8\n",
              "x8kdCAA+wvyFkwBAq2zatKnUIwAA/4+YBwBapVAoxL59+6Jnz56xbt26uO6666K+vj6mTJkS9fX1\n",
              "pR4PAD5SfMweAGiTd999Nz73uc/Fd77znfjlL38Zn//85+O5554r9VgA8JEi5gGANnnxxRejS5cu\n",
              "cfHFF0dExO///u/H0KFDSzwVAHy0iHkA4EMrFAqlHgEAPlLEPADQJqNGjYr6+vr493//94iIeOKJ\n",
              "J2Lbtm0lngoAPlpcAA8AaJOuXbvGP//zP8d1110XDQ0NMWXKlBg/fnypxwKAj5RCSimVeggAAACg\n",
              "9XzMHgAAADIj5gEAACAzYh4AAAAyI+YBAAAgM2IeAAAAMiPmAQAAIDNiHgAAADIj5gEAACAzYh4A\n",
              "AAAyI+YBAAAgM/8HA3qVS73K5ocAAAAASUVORK5CYII=\n",
              "\">\n",
              "      </div>\n",
              "      <script type=\"text/javascript\">\n",
              "        (() => {\n",
              "          const chartElement = document.getElementById(\"chart-a90561db-f3cc-4389-8549-1ff913c6907e\");\n",
              "          async function getCodeForChartHandler(event) {\n",
              "            const chartCodeResponse =  await google.colab.kernel.invokeFunction(\n",
              "                'getCodeForChart', [\"chart-a90561db-f3cc-4389-8549-1ff913c6907e\"], {});\n",
              "            const responseJson = chartCodeResponse.data['application/json'];\n",
              "            await google.colab.notebook.addCell(responseJson.code, 'code');\n",
              "          }\n",
              "          chartElement.onclick = getCodeForChartHandler;\n",
              "        })();\n",
              "      </script>\n",
              "      <style>\n",
              "        .colab-quickchart-chart-with-code  {\n",
              "            display: block;\n",
              "            float: left;\n",
              "            border: 1px solid transparent;\n",
              "        }\n",
              "\n",
              "        .colab-quickchart-chart-with-code:hover {\n",
              "            cursor: pointer;\n",
              "            border: 1px solid #aaa;\n",
              "        }\n",
              "      </style>"
            ]
          },
          "metadata": {}
        },
        {
          "output_type": "display_data",
          "data": {
            "text/plain": [
              "<google.colab._quickchart_helpers.SectionTitle at 0x7a54b5954af0>"
            ],
            "text/html": [
              "<h4 class=\"colab-quickchart-section-title\">Values</h4>\n",
              "<style>\n",
              "  .colab-quickchart-section-title {\n",
              "      clear: both;\n",
              "  }\n",
              "</style>"
            ]
          },
          "metadata": {}
        },
        {
          "output_type": "display_data",
          "data": {
            "text/plain": [
              "from matplotlib import pyplot as plt\n",
              "_df_2['id'].plot(kind='line', figsize=(8, 4), title='id')\n",
              "plt.gca().spines[['top', 'right']].set_visible(False)"
            ],
            "text/html": [
              "      <div class=\"colab-quickchart-chart-with-code\" id=\"chart-947bccb4-15d8-4ff1-ba08-52f985faf0e8\">\n",
              "        <img style=\"width: 180px;\" src=\"data:image/png;base64,iVBORw0KGgoAAAANSUhEUgAAArcAAAFuCAYAAACbRDANAAAAOXRFWHRTb2Z0d2FyZQBNYXRwbG90\n",
              "bGliIHZlcnNpb24zLjcuMSwgaHR0cHM6Ly9tYXRwbG90bGliLm9yZy/bCgiHAAAACXBIWXMAAA9h\n",
              "AAAPYQGoP6dpAABNhElEQVR4nO39e1zUdf7//9+Go0rgmQRhRJwhT3lAMRLzBK1u79osrW077Jst\n",
              "AykTf+6W9dl131l70W3f7ze/RVtFrehA2+ZG2ZbZO8UTdjC0zLTMGWEY5BCK5wPI4fX9Y2yKPCyk\n",
              "MjDcr5cLl0s+5/V6zWNeO423ffUCTIZhGIiIiIiIeAEfTw8gIiIiInK5KG5FRERExGsobkVERETE\n",
              "ayhuRURERMRrKG5FRERExGsobkVERETEayhuRURERMRrKG5FRERExGsobkVERETEayhuRUS8wM9/\n",
              "/nOefvrp8z62bt06TCZTC08kIuIZfp4eQERELt2aNWs8PYKISKugK7ciIiIi4jUUtyIiXmD8+PH8\n",
              "4Q9/AGD79u1cd911XHXVVYwcOZKdO3d6eDoRkZaj2xJERLzIsWPHmDx5MjNmzGDz5s3s27ePX/zi\n",
              "F54eS0SkxejKrYiIF3nnnXfw8fHhySefJDAwkIEDB5Kenu7psUREWoziVkTEi+zfv5/IyEh8fX3d\n",
              "a3379vXgRCIiLUtxKyLiRSIiIigpKaG+vt695nA4PDeQiEgLU9yKiHiRm2++mfr6ep566ilqamrY\n",
              "s2cPmZmZnh5LRKTFKG5FRLxI586dee+993jvvffo3r079957L2lpaZ4eS0SkxZgMwzA8PYSIiIiI\n",
              "yOWgK7ciIiIi4jUUtyIiIiLiNRS3IiIiIuI1FLciIiIi4jUUtyIiIiLiNRS3IiIiIuI1FLciIiIi\n",
              "4jUUt2fpN/iIiIiItH2K27OKi4s9PYKIiIiIXCLFrYiIiIh4DcWtiIiIiHgNxa2IiIiIeA3FrYiI\n",
              "iIh4DcWtiIiIiHgNxa2IiIiIeA3FrYiIiIh4DcWtiIiIiHiNZsXtrFmziIqKwmQysWPHDve6zWZj\n",
              "9OjRxMTEEBcXx+7du8/ZNzs7G5PJxKpVq9xrCxYs4JprrsHHx6fR+r977Mfeffdd+vfvj9Vq5fbb\n",
              "b+fYsWPNeVkiIiIi4iWaFbfTpk1jy5Yt9OnTp9F6amoqKSkp7N27l7lz55KcnNzocYfDwYoVK4iP\n",
              "j2+0npSUxJo1axg7duw5z3Wxx37oxIkTPPDAA6xatQqbzUZ4eDhPP/10c16WiIiIiHiJZsXt2LFj\n",
              "iYiIaLRWWVnJtm3buPfeewGYOnUqJSUl2O12ABoaGpg+fTqLFy8mMDCw0b6jRo0iOjr6vM91scd+\n",
              "aM2aNQwfPpz+/fsD8NBDD/Haa68152WJiIiISDPV1jd4eoTzuuR7bktKSggLC8PPzw8Ak8mE2WzG\n",
              "6XQCkJGRQUJCAiNGjLjUpzovp9PZ6EpyVFQU5eXl1NXVXXCfmpoajh071uirvr7+iswnIiIi4k2q\n",
              "a+t5YUsRY55Zz67So54e5xx+V/Lgu3btIjc3l82bN1/Jp2m2hQsXMn/+/EZrP75lQkRERES+d/pM\n",
              "Pa9uLWbZ5kIOHK8B4JWPi3lm2hAPT9bYJcdtZGSk+0qpn58fhmHgdDoxm82sXbsWh8OB1WoFoKKi\n",
              "gpSUFMrLy0lLS7vk4QH383zH4XA0upJ8Pk888QRz5sxptDZv3rzLMo+IiIiIN/kuarM2FXLwhCtq\n",
              "e3fpyMMTLEwbEfFv9m55lxy3oaGhxMbGkpOTQ3JyMrm5uURERGCxWLBYLI0idvz48cyePZspU6Zc\n",
              "6tO6TZ48mYcffpg9e/bQv39/lixZwl133XXRfQIDA8+5/9fX1/eyzSQiIiLS1p06U0fOJ8Us31zI\n",
              "wRNnAIjo2pGZEyzcHhtBgF/r/ImyzZoqNTWViIgI9u/fz6RJk7BYLAAsW7aMZcuWERMTw5///Gey\n",
              "s7ObdLw//elPRERE8PHHHzN9+nQiIiI4cODAv33sj3/8I1lZWQAEBwfz3HPPMWXKFCwWC/v379dV\n",
              "WBEREZGf6GRNHVmb9nHDMxtY8N4eDp44Q2S3jvxl6hA2/G48d40yt9qwBTAZhmF4eojWYM6cOWRk\n",
              "ZHh6DBERERGPOFlTx8sfF7Miv5BDJ11Xavt078TDEyzcNrw3/r6tN2h/6Ip+Q5mIiIiItG4naup4\n",
              "6SMHz+UXcvhULQBR3Tsxc6KVKcPC8WsjUfsdxa2IiIhIO3S8utYVtVuKOHI2avv2COKRiRZ+MbTt\n",
              "Re13FLciIiIi7cix6lpe+tAVtUdPu6I2uqcram8Z0naj9juKWxEREZF24Fh1LdlbHDy/pZBj1a5f\n",
              "dtWvZxCzEq3cPCQcXx+Thye8PBS3IiIiIl7s6OlaXthSxAsfFnH8bNRaQq9iVqKV/7g2zGui9juK\n",
              "WxEREREvdPRULc9/WET2D6I25uqreGSilZu8MGq/o7gVERER8SJHTp3h+S1FvPihg+M1rqi95upg\n",
              "ZiVa+fngXvh4adR+R3ErIiIi4gUOnzwbtR85OHE2avv3CiY90cqkQd4ftd9R3IqIiIi0YYdOnuG5\n",
              "/EJe+sjByTP1AAwICyE90cLPBrafqP2O4lZERESkDao6UcOK/CJe/tjBqbNROzAshPQkKzcOuLrd\n",
              "Re13FLciIiIibUjViRqW5xfyysfF7qgdFB7C7KQYkgaEYjK1z6j9juJWREREpA04eKKG5ZtdUXu6\n",
              "1hW11/buTHqilURFrZviVkRERKQVqzxezfJNheRsLaa6tgGAoRGdSU+yMuEaRe2PKW5FREREWqHK\n",
              "Y9VkbSrk1a3F1NSdjdrILsxOsjI+pqei9gIUtyIiIiKtSOWxapZu2sfftzrdUTvc3IX0RCvjFLX/\n",
              "luJWREREpBWoOFpN1qZ9/P1TJ2fORu2IPl1JT7Ryg7WHoraJFLciIiIiHlR+9DRLN+7jHwUl7qgd\n",
              "2acrs5NiSLB0V9Q2k+JWRERExAPKjrii9vWCEs7Uu6J2VFQ30pOsjO6nqP2pFLciIiIiLaj0yGmW\n",
              "bLDzz2373VF7XV9X1F4frai9VIpbERERkRaw//Aplmzcxz+3lVBbbwAQH92N9MQYru/X3cPTeQ/F\n",
              "rYiIiMgVVHLoFEs22nlj+3531I7u1530RCvXRStqLzfFrYiIiMgV4Kw6xd822Mn9bD91Da6oTbB0\n",
              "Jz0xhlF9u3l4Ou+luBURERG5jJxVp3h2g43cz0qpPxu1N1h7kJ5oZWSUovZKU9yKiIiIXAaOgyd5\n",
              "doOdtz7/PmrHxvQkPdHKiD5dPTxd+6G4FREREbkERQdPsni9jbd3lLmjdlxMT9KTrMSaFbUtTXEr\n",
              "IiIi8hMUHjjBs+vtrNpRytmmZcI1PUlPimFYZBePztae+TRn41mzZhEVFYXJZGLHjh3udZvNxujR\n",
              "o4mJiSEuLo7du3efs292djYmk4lVq1a51xYsWMA111yDj49Po3WAyspKJk+ejNVqZfDgwWzevPm8\n",
              "MzkcDnx9fRk2bJj7a9++fc15WSIiIiJNZq88wex/fE5Sxibe/NwVton9Q3n74QSyfzNKYethzbpy\n",
              "O23aNB577DHGjBnTaD01NZWUlBSSk5N54403SE5OpqCgwP24w+FgxYoVxMfHN9ovKSmJu+66i/vv\n",
              "v/+c53r88ceJj4/n/fffp6CggNtuu42ioiL8/f3P2TY4OLhRbIuIiIhcbvbK4yzKs/POzjKMs1dq\n",
              "kwaEMivRypCILh6dTb7XrLgdO3bsOWuVlZVs27aNDz74AICpU6cyc+ZM7HY7FouFhoYGpk+fzuLF\n",
              "i/ntb3/baN9Ro0Zd8LlWrlyJ3W4HIC4ujvDwcDZt2kRSUlJzRhYRERG5JLZvj7NovZ13fxC1Nw68\n",
              "mvREK4N7d/bscHKOS77ntqSkhLCwMPz8XIcymUyYzWacTicWi4WMjAwSEhIYMWJEk49ZVVVFbW0t\n",
              "vXr1cq9FRUXhdDrPu/3JkyeJi4ujvr6eKVOm8Pvf/x5fX98LHr+mpoaamppGa/X19U2eT0RERLzf\n",
              "NxXHWbTexntflrujdtKgq5mVaGVQuKK2tbqi31C2a9cucnNzL3i/7OUQFhZGaWkpoaGhHDp0iF/+\n",
              "8pf87//+L4899tgF91m4cCHz589vtPbjWyZERESkfdpTcYxFeTbe+7LCvTZ5UC9mJVoZGB7iwcmk\n",
              "KZr1DWXnExkZSXl5OXV1dQAYhoHT6cRsNpOfn4/D4cBqtRIVFcUnn3xCSkoKS5cuvegxu3fvjp+f\n",
              "HxUV37+pHA4HZrP5nG0DAwMJDQ0FoFu3btx///3k5+df9PhPPPEER48ebfR1sVskRERExPt9XX6M\n",
              "tJztTP5rvjtsb7q2F2vSbyDrvhEK2zbikq/choaGEhsbS05ODsnJyeTm5hIREYHFYsFisZCWlube\n",
              "dvz48cyePZspU6b82+PecccdZGVl8eSTT1JQUEBpaSnjxo07Z7vKykq6du2Kv78/NTU1vPnmmwwf\n",
              "Pvyixw4MDCQwMLDR2sVuYxARERHvtbvsKIvybPzf7m8BMJngpmvDmDXRyjW9gj08nTRXs+I2NTWV\n",
              "1atXU1FRwaRJkwgODsZut7Ns2TKSk5NZsGABISEhZGdnN+l4f/rTn8jKyuLAgQPs2rWLmTNn8vnn\n",
              "n9OzZ0+eeeYZ7rvvPqxWKwEBAeTk5Lh/UsIf//hHwsPDmTFjBlu2bOGPf/wjvr6+1NXVMXHiRH7/\n",
              "+983/0yIiIhIu7Kr9CiZeTbWfvV91P7HtWHMSrQSc7Witq0yGcZ3t0i3b3PmzCEjI8PTY4iIiMgV\n",
              "9uV+V9Su+/r7qL1lSDiPTLRgVdS2efoNZSIiItIu7Nx/hMx1NvL2VALgY4JfDA1n5kQrltCrPDyd\n",
              "XC6KWxEREfFqO0qOkLluLxu+OQC4ovbWYb2ZOdFCv56KWm+juBURERGv9LnzMJl5Njb+IGqnDO/N\n",
              "zAkWohW1XktxKyIiIl5le7ErajfvdUWtr4+J285GbVSPIA9PJ1ea4lZERES8wjbHITLzbOTbDgKu\n",
              "qL19uOv2gz7dFbXtheJWRERE2rQCxyEy19nYYndFrZ+PiamxETw8wYK5eycPTyctTXErIiIibdLW\n",
              "wioy82x8tK8KcEXtHSMjeGi8hchuitr2SnErIiIibcrH+6rIzNvLJ4WHAPD3NTFtRCQPje+nqBXF\n",
              "rYiIiLR+hmHwcWEVmetsbC36PmrvHBlJ2vh+RHRV1IqL4lZERERaLcMw+GifK2o/dbiiNsDXh1/G\n",
              "uaI2vEtHD08orY3iVkRERFodwzD40F7FX9ftZVvxYcAVtXeNckVtWGdFrZyf4lZERERaDcMwyLcd\n",
              "JDPPxvbvotbPh7tHmZkxrh+9Onfw8ITS2iluRURExOMMw2DT3gNk5tn43HkEgEA/H341ykza+H5c\n",
              "HaKolaZR3IqIiIjHGIbBxr0HyFxnY0fJEcAVtfdc14cZ46IJVdRKMyluRUREpMUZhsGGbyrJXGfj\n",
              "i/1HAejg78O91/UhZVw0ocGKWvlpFLciIiLSYgzDIO/rShatt7HzB1F7X3wfUsb2o2dwoIcnlLZO\n",
              "cSsiIiJXnGEYrPu6ksy8vewqPQZAR39ffn19Hx4cG02PqxS1cnkobkVEROSKMQyDD776lkV5NnaX\n",
              "uaK2U4Avv74+igdv6Et3Ra1cZopbERERuewaGgw++KqCzDw7X5e7ojYowJdfj47iwRui6RYU4OEJ\n",
              "xVspbkVEROSyaWgw+L/dFWTm2dhTcRxwRW1yQhTTx0TTVVErV5jiVkRERC5ZQ4PBml0VLMqz8c23\n",
              "rqi9KtCP3yRE8cCYvnTppKiVlqG4FRERkZ+svsHgvS/LWbzext5vTwAQfDZq71fUigcobkVERKTZ\n",
              "6hsMVn9ZzqI8G/bKs1HbwY/7E/pyf0JfOnfy9/CE0l4pbkVERKTJ6hsM3t1ZxqI8G/sOnAQgpIMf\n",
              "94/py28S+tK5o6JWPEtxKyIiIv9WXX0D7+wsY/F6O4Vno7ZzR38eGNOX5IQoQjooaqV1UNyKiIjI\n",
              "BdXVN/CvL1xRW3TQFbVdOvkzfUxf/nN0FMGKWmllfJqz8axZs4iKisJkMrFjxw73us1mY/To0cTE\n",
              "xBAXF8fu3bvP2Tc7OxuTycSqVavcawsWLOCaa67Bx8en0TpAZWUlkydPxmq1MnjwYDZv3nzBud59\n",
              "91369++P1Wrl9ttv59ixY815WSIiIvIjdfUNvLF9P0kZm5iz8guKDp6kSyd/Hp10DfmPTWDmRKvC\n",
              "VlqlZsXttGnT2LJlC3369Gm0npqaSkpKCnv37mXu3LkkJyc3etzhcLBixQri4+MbrSclJbFmzRrG\n",
              "jh17znM9/vjjxMfHY7PZyM7O5u6776a2tvac7U6cOMEDDzzAqlWrsNlshIeH8/TTTzfnZYmIiMhZ\n",
              "tfUNrNxWQmLGJn73zy9wVJ2iayd/Hpt8DVvmTuThCRZFrbRqzYrbsWPHEhER0WitsrKSbdu2ce+9\n",
              "9wIwdepUSkpKsNvtADQ0NDB9+nQWL15MYGDjX7E3atQooqOjz/tcK1euZMaMGQDExcURHh7Opk2b\n",
              "ztluzZo1DB8+nP79+wPw0EMP8dprrzXnZYmIiLR7tfUNrCwoIfF/N/HYGzsprjpFt6AAHv95f7bM\n",
              "nchD4y1cFai7GaX1u+R3aUlJCWFhYfj5uQ5lMpkwm804nU4sFgsZGRkkJCQwYsSIJh+zqqqK2tpa\n",
              "evXq5V6LiorC6XSes63T6Wx0JTkqKory8nLq6urcM/1YTU0NNTU1jdbq6+ubPJ+IiIi3OFPXwJuf\n",
              "7edvG+2UHDoNQPegAFLGRnNvfB+CFLTSxlzRd+yuXbvIzc296P2ynrBw4ULmz5/faO3Ht0yIiIh4\n",
              "szN1rntq/7bBTukRV9T2uCqA1LH9uCfeTKcARa20TZf8zo2MjGx0pdQwDJxOJ2azmbVr1+JwOLBa\n",
              "rQBUVFSQkpJCeXk5aWlpFzxm9+7d8fPzo6Kiwn311uFwYDabz9n2u+f5jsPhaHQl+XyeeOIJ5syZ\n",
              "02ht3rx5zXrdIiIibdGZugb+ub2EJRv2/SBqA5kxLpp7rutDxwBfD08ocmmadc/t+YSGhhIbG0tO\n",
              "Tg4Aubm5REREYLFYSEtLo7y8HIfDgcPhID4+nuXLl180bL9zxx13kJWVBUBBQQGlpaWMGzfunO0m\n",
              "T57MZ599xp49ewBYsmQJd91110WPHRgYSEhISKMvX1/9yywiIt6rpq6eVz4pZvx/b+D3b+2i9Mhp\n",
              "egYHMu/mgeQ/NoHpN0QrbMUrNOvKbWpqKqtXr6aiooJJkyYRHByM3W5n2bJlJCcns2DBAkJCQsjO\n",
              "zm7S8f70pz+RlZXFgQMH2LVrFzNnzuTzzz+nZ8+ePPPMM9x3331YrVYCAgLIycnB39/13Zl//OMf\n",
              "CQ8PZ8aMGQQHB/Pcc88xZcoU6urqGDx4MC+99FLzz4SIiIgXqq6tZ+W2EpZu3Ef50WoAQoMDSRvf\n",
              "j1+NMtPBX0Er3sVkGIbh6SFagzlz5pCRkeHpMURERC6L6tp6Xi9wRW3FMVfU9grpQNr4fvwyLlJR\n",
              "K15Ld4uLiIh4kerael771EnWpn18e8z1k4F6hXTgoQn9uHOkola8n+JWRETEC1TX1vPqVlfUHjju\n",
              "itrwzh1Im2DhzpERBPopaqV9UNyKiIi0YafP1PPq1mKWbS50R23vLh15aEI/po1Q1Er7o7gVERFp\n",
              "g06dqePVT5ws21zIwRPfR+3DEyxMGxFBgN8l/0AkkTZJcSsiItKGnDpTxysfF7N8cyFVJ88AENG1\n",
              "IzMnWLg9VlErorgVERFpA07W1PHKJ8Ws+EHURnbryCMTrNwW2xt/X0WtCChuRUREWrUTNXW8/LGD\n",
              "5/KLOHQ2avt078TDEyzcNlxRK/JjilsREZFW6Hh1LS9/XMyK/EKOnKoFIKp7J2ZOtDJlWDh+ilqR\n",
              "81LcioiItCLHq2t56SMHz20pckdt3x5BPDLRwi+GKmpF/h3FrYiISCtwrLqWFz908PyWIo6edkVt\n",
              "dI8gHkm0cMsQRa1IUyluRUREPOjo6VqyPyzihS1FHKuuA6BfzyBmJVq5eUg4vj4mD08o0rYobkVE\n",
              "RDzg6OlaXthSxAsfFnH8bNRaQq9iVqKV/7g2TFEr8hMpbkVERFrQkVNneGFLEdkfOjhe44pa69mo\n",
              "vUlRK3LJFLciIiIt4MipMzyXX8SLHzk4cTZqY66+ivTEGH4+uBc+ilqRy0JxKyIicgUdPnmG57YU\n",
              "8tJHxe6o7d8rmFmJViYPUtSKXG6KWxERkSvg0MkzrMgv5OWPHJw8Uw/AgLAQ0hMt/GygolbkSlHc\n",
              "ioiIXEZVJ2pYnl/IKx8Xc+ps1A4MCyE9ycqNA65W1IpcYYpbERGRy+DgiRpWbC7k5Y+LOV3ritpB\n",
              "4SGkJ1q5ceDVmEyKWpGWoLgVERG5BAeO17B88z5yPnG6o/ba3p1JT7SSOCBUUSvSwhS3IiIiP0Hl\n",
              "8WqWbSrk1a3FVNc2ADAkojOzk6xMuEZRK+IpilsREZFmqDxWTdbZqK2pc0Xt0MguzE60Mv6anopa\n",
              "EQ9T3IqIiDTBt8eqWbpxH6996nRH7XBzF9ITrYyLUdSKtBaKWxERkYuoOFrN0o12Xiso4czZqI01\n",
              "d2F2Ugw3WHsoakVaGcWtiIjIeZQfPc3Sjfv4x6clnKl3Re3IPl1JT7IyxqKoFWmtFLciIiI/UHbk\n",
              "NEs22llZsN8dtaOiupGeZGV0v+6KWpFWTnErIiIClB45zZINdlZuK6G23gBgVN9uzE6ycn20olak\n",
              "rfBpzsazZs0iKioKk8nEjh073Os2m43Ro0cTExNDXFwcu3fvPmff7OxsTCYTq1atcq9VVlYyefJk\n",
              "rFYrgwcPZvPmze7HCgoKSEhIYOjQoQwbNoz169dfcC6TycS1117LsGHDGDZsGPn5+c15WSIi0o7t\n",
              "P3yKJ978kvH/vYFXtzqprTeIj+7Gaw/GszL1ekb30y0IIm1Js67cTps2jccee4wxY8Y0Wk9NTSUl\n",
              "JYXk5GTeeOMNkpOTKSgocD/ucDhYsWIF8fHxjfZ7/PHHiY+P5/3336egoIDbbruNoqIi/Pz8uO22\n",
              "23jxxRdJSkpi7969JCUl8c0339CxY8fzzpafn0+XLl2a83JERKQdKzl0ir9tsPPG9v3UNbiu1I7u\n",
              "1530RCvXRXf38HQi8lM168rt2LFjiYiIaLRWWVnJtm3buPfeewGYOnUqJSUl2O12ABoaGpg+fTqL\n",
              "Fy8mMDCw0b4rV65kxowZAMTFxREeHs6mTZuoqqriwIEDJCUlARATE0OXLl1Ys2bNT3uVIiIiZzmr\n",
              "TjH3jZ1M+J+N/KOghLoGgwRLd1amXs/fH4xX2Iq0cZd8z21JSQlhYWH4+bkOZTKZMJvNOJ1OLBYL\n",
              "GRkZJCQkMGLEiEb7VVVVUVtbS69evdxrUVFROJ1OkpKSCAsLY+XKldx5550UFBTwzTff4HA4LjhH\n",
              "YmIidXV1JCYm8vTTTxMUFHTBbWtqaqipqWm0Vl9f/xNevYiItBXFVSd5dr2dNz8vpf7sldobrD1I\n",
              "T7QyMqqbh6cTkcvlin5D2a5du8jNzW10L21Tvf3228ydO5eFCxcyaNAgxowZ4w7oHysuLsZsNnPy\n",
              "5ElmzJjBo48+ypIlSy547IULFzJ//vxGaz++ZUJERLyD4+BJFq+3s2pH46idnWRlRB9FrYi3ueS4\n",
              "jYyMpLy8nLq6Ovz8/DAMA6fTidlsZu3atTgcDqxWKwAVFRWkpKRQXl5OWloafn5+VFRUuK/eOhwO\n",
              "zGYzAEOHDuX99993P8+AAQMYNGjQeWf4bp+goCAeeughUlJSLjrzE088wZw5cxqtzZs376edABER\n",
              "aZWKDp5k8Xobqz4v5WzTMi6mJ+lJVmLNXT07nIhcMZcct6GhocTGxpKTk0NycjK5ublERERgsViw\n",
              "WCykpaW5tx0/fjyzZ89mypQpANxxxx1kZWXx5JNPUlBQQGlpKePGjQOgvLycsLAwAFasWEFQUBAT\n",
              "J0485/kPHz5MYGAgnTp1oqGhgddff53hw4dfdObAwMBz7v/19fW9lNMgIiKtxL4DJ3h2vZ23d3wf\n",
              "tROu6cmsRCvDFbUiXq9ZcZuamsrq1aupqKhg0qRJBAcHY7fbWbZsGcnJySxYsICQkBCys7ObdLxn\n",
              "nnmG++67D6vVSkBAADk5Ofj7+wOwfPlyXn31VQzDYMCAAbz11lvuH8WSlZVFWVkZTz31FHv27CE1\n",
              "NRWTyURdXR2xsbFkZmY28zSIiEhbZ688wbPrbfzrizJ31E7sH8qsRCvDIrt4dDYRaTkmwzAMTw/R\n",
              "GsyZM4eMjAxPjyEiIs1krzzOojw77+ws47u/0ZIGuKJ2SEQXj84mIi1Pv6FMRETapL3fHmdRno3V\n",
              "X5a7o/bGgVeTnmhlcO/Onh1ORDxGcSsiIm3KNxXHWbTexns/iNqfDbyaWYpaEUFxKyIibcSeimMs\n",
              "yrPx3pcV7rXJg3oxK9HKwPAQD04mIq2J4lZERFq1r8pcUfv+7u+j9qZre/HIRCsDwhS1ItKY4lZE\n",
              "RFql3WVHWZRn4/92fwuAyQQ3DQ7jkUQL/XspakXk/BS3IiLSquwqPUpmno21X30ftf9xbRizEq3E\n",
              "XB3s4elEpLVT3IqISKvw5f6jZObtZd3XlYAram8ZEs4jEy1YFbUi0kSKWxER8aid+4+Quc5G3h5X\n",
              "1PqY4Jahrqi1hCpqRaR5FLciIuIRO0qOkLluLxu+OQC4ovbWYb2ZOdFCv55XeXg6EWmrFLciItKi\n",
              "PnMeJnOdjU17v4/aKcN7M3OChWhFrYhcIsWtiIi0iO3Fh8nMs7H5bNT6+piYcvZKbd8eQR6eTkS8\n",
              "heJWRESuqG2OQ2Tm2ci3HQRcUXv7cFfU9umuqBWRy0txKyIiV8SnRYfIzNvLh/YqAPx8TEyNjeDh\n",
              "CRbM3Tt5eDoR8VaKWxERuay2FlaRmWfjo33fR+20Ea6ojeymqBWRK0txKyIil8XH+6rIzNvLJ4WH\n",
              "APD3NTFtRCQPje+nqBWRFqO4FRGRn8wwDD4urOKv62x8WvR91N45MpK08f2I6KqoFZGWpbgVEZFm\n",
              "MwyDj/ZVkbnOxqcOV9QG+PpwZ1wEaeMt9O7S0cMTikh7pbgVEZEmMwyDLfaDZK6zsa34MOCK2rtG\n",
              "RTJjXD/CFbUi4mGKWxER+bcMwyDfdpC/rtvLZ84jAAT4+fCruEhmjO9HWGdFrYi0DopbERG5IMMw\n",
              "2LT3AJl5Nj7/QdTePcpM2vh+XB3SwbMDioj8iOJWRETOYRgGG79xRe2OkiMABPr5cM91fZgxLppQ\n",
              "Ra2ItFKKWxERcTMMgw3fVJK5zsYX+48C0MHfFbWp46IJDVbUikjrprgVEREMwyDv60oWrbex8wdR\n",
              "e198H1LG9qNncKCHJxQRaRrFrYhIO2YYBmu/+pZF623sKj0GQEd/X359fR8eHBtNj6sUtSLStihu\n",
              "RUTaIcMw+OCrb8lcZ+OrclfUdgrw5b7r+5ByQzTdFbUi0kYpbkVE2pGGBoMPvqogM8/O12ejNijA\n",
              "l1+PjuLBG6LpFhTg4QlFRC6NT3M2njVrFlFRUZhMJnbs2OFet9lsjB49mpiYGOLi4ti9e/c5+2Zn\n",
              "Z2MymVi1apV7rbKyksmTJ2O1Whk8eDCbN292P1ZQUEBCQgJDhw5l2LBhrF+//oJzbd26laFDhxIT\n",
              "E8PEiRMpLS1tzssSEfF6DQ0G731Zzk2L8pmR8xlflx8jKMCXhyf0I3/uROZO7q+wFRGv0Ky4nTZt\n",
              "Glu2bKFPnz6N1lNTU0lJSWHv3r3MnTuX5OTkRo87HA5WrFhBfHx8o/XHH3+c+Ph4bDYb2dnZ3H33\n",
              "3dTW1mIYBrfddhvz58/niy++YOXKlSQnJ3P69OlzZmpoaOCee+7hr3/9K3v37uWmm25i9uzZzXlZ\n",
              "IiJeq6HBYPXOcn6emc9Dr37GnorjXBXox8wJFrbMncijkxS1IuJdmhW3Y8eOJSIiotFaZWUl27Zt\n",
              "49577wVg6tSplJSUYLfbAVd8Tp8+ncWLFxMY2PgerpUrVzJjxgwA4uLiCA8PZ9OmTVRVVXHgwAGS\n",
              "kpIAiImJoUuXLqxZs+acmbZv346fnx8TJkwAXKH9zjvvUF1d3ZyXJiLiVeobDN75oozJmZt5+O+f\n",
              "8c23xwkO9GPWRAtb5k7gd5OuoauiVkS80CXfc1tSUkJYWBh+fq5DmUwmzGYzTqcTi8VCRkYGCQkJ\n",
              "jBgxotF+VVVV1NbW0qtXL/daVFQUTqeTpKQkwsLCWLlyJXfeeScFBQV88803OByOc57f6XQ2upIc\n",
              "HBxMSEgIZWVlREdHn3fmmpoaampqGq3V19f/1FMgItJq1DcYvLuzjGfX27FVngAguIMfv0noywMJ\n",
              "fencyd/DE4qIXFlX9BvKdu3aRW5ubqN7aZvq7bffZu7cuSxcuJBBgwYxZswYd0BfqoULFzJ//vxG\n",
              "az++ZUJEpC35LmoX5dnYd+AkACEd/Lh/TF9+k9CXzh0VtSLSPlxyLUZGRlJeXk5dXR1+fn4YhoHT\n",
              "6cRsNrN27VocDgdWqxWAiooKUlJSKC8vJy0tDT8/PyoqKtxXbx0OB2azGYChQ4fy/vvvu59nwIAB\n",
              "DBo06JznN5vNFBcXu/98/Phxjh49Snh4+AVnfuKJJ5gzZ06jtXnz5v30kyAi4iF19Q28s7OMxevt\n",
              "FP4gaqffEE1yQhQhHRS1ItK+NOue2/MJDQ0lNjaWnJwcAHJzc4mIiMBisZCWlkZ5eTkOhwOHw0F8\n",
              "fDzLly8nLS0NgDvuuIOsrCzA9dMRSktLGTduHADl5eXu51ixYgVBQUFMnDjxnOcfMWIEtbW1bNiw\n",
              "AYBly5Zxyy230KHDhX9FZGBgICEhIY2+fH19L/VUiIi0mLr6BnK37+fG//9m/n+vf0HhgZN07ujP\n",
              "b2+MYcvjE5mVaFXYiki71Kwrt6mpqaxevZqKigomTZpEcHAwdrudZcuWkZyczIIFCwgJCSE7O7tJ\n",
              "x3vmmWe47777sFqtBAQEkJOTg7+/68N4+fLlvPrqqxiGwYABA3jrrbcwmUwAZGVlUVZWxlNPPYWP\n",
              "jw85OTmkpqZSXV1NeHg4r7zySjNPg4hI21BX38CqHWU8u96Go+oUAF06+fPgDdH8+vo+BCtoRaSd\n",
              "MxmGYXh6iNZgzpw5ZGRkeHoMEZHzqq1v4K3PS/nbBjvFZ6O2ayd/Hhwbza+vj+KqQP1OHhER0G8o\n",
              "ExFp1WrrG3jzs/38bcM+nIdcUdstKMB9pTZIUSsi0og+FUVEWqEzda6ofXaDnf2HXb/ApntQAClj\n",
              "o7k3XlErInIh+nQUEWlFztQ18Mb2/fxtg53SI66o7XFVAKlj+3FPvJlOAfrYFhG5GH1Kioi0AjV1\n",
              "9fxz236Wbtz3g6gNZMa4aO65rg8dA/QTXUREmkJxKyLiQTV19azctp+lG+yUHXX92vCewYHMGNeP\n",
              "u0eZFbUiIs2kuBUR8YDq2npWbith6cZ9lJ+N2tDgQNLG9+NXo8x08FfUioj8FIpbEZEWVF1bz+sF\n",
              "rqitOOaK2qtDAkkb14+7FLUiIpdMcSsi0gKqa+t57VMnWZv28e2xGgB6hXTgoQn9uHNkpKJWROQy\n",
              "UdyKiFxB1bX1vLrVFbUHjruiNqxzBx6aYOHOkREE+ilqRUQuJ8WtiMgVcPpMPa9uLWbZ5kJ31Iaf\n",
              "jdo7FLUiIleM4lZE5DI6daaOVz9xsmxzIQdPuKK2d5eOPDzBwrQREQT4+Xh4QhER76a4FRG5DE6d\n",
              "qeOVj4tZvrmQqpNnAIjo2pGZEyzcHquoFRFpKYpbEZFLcLKmjlc+KWbFD6I2stv3Uevvq6gVEWlJ\n",
              "ilsRkZ/gRE0dL3/s4Ln8Ig6djdo+3Tvx8AQLtw3vragVEfEQxa2ISDMcr67l5Y+LWZFfyJFTtYAr\n",
              "ah+ZaGXKsHD8FLUiIh6luBURaYLj1bW89JGD57YUuaO2b48gZk6wcKuiVkSk1VDciohcxLHqWl78\n",
              "0MHzW4o4etoVtdE9gngk0cItQxS1IiKtjeJWROQ8jp6uJfvDIl7YUsSx6joAonsGkZ5o5eYh4fj6\n",
              "mDw8oYiInI/iVkTkB46eruWFLUW88GERx89GrSX0Kh6ZaFHUioi0AYpbERHgyKkzvLCliOwPHRyv\n",
              "cUWtNfQqZiVauenaMEWtiEgbobgVkXbtyKkzPJdfxIsfOThxNmpjrr6K9MQYfj64Fz6KWhGRNkVx\n",
              "KyLt0uGTZ3huSyEvfVTsjtr+vYKZlWhl8iBFrYhIW6W4FZF25dDJM6zIL+TljxycPFMPwICwENIT\n",
              "LfxsoKJWRKStU9yKSLtQdaKGFflFvPyxg1Nno3ZgWAjpSVZuHHC1olZExEsobkXEqx08UcOKzYW8\n",
              "/HExp2tdUTsoPIT0RCs3Drwak0lRKyLiTRS3IuKVDhyvYfnmfeR84nRH7bW9O5OeaCVxQKiiVkTE\n",
              "SzXrV+vMmjWLqKgoTCYTO3bscK/bbDZGjx5NTEwMcXFx7N69+5x9s7OzMZlMrFq1yr1WWVnJ5MmT\n",
              "sVqtDB48mM2bN7sf+/TTT4mPj2f48OEMGDCAv/zlLxecy2Qyce211zJs2DCGDRtGfn5+c16WiHiR\n",
              "yuPV/Ondr7jhL+tZkV/E6dp6hkR05oXkkfxrZgJJulorIuLVmnXldtq0aTz22GOMGTOm0Xpqaiop\n",
              "KSkkJyfzxhtvkJycTEFBgftxh8PBihUriI+Pb7Tf448/Tnx8PO+//z4FBQXcdtttFBUV4e/vT0pK\n",
              "Ck899RS/+MUvOHToEP379+fmm29m4MCB550tPz+fLl26NOfliIgXqTxWTdamQl7dWkxNXQMAQyO7\n",
              "MDvRyvhreipoRUTaiWbF7dixY89Zq6ysZNu2bXzwwQcATJ06lZkzZ2K327FYLDQ0NDB9+nQWL17M\n",
              "b3/720b7rly5ErvdDkBcXBzh4eFs2rSJpKQkTCYTR44cAeDkyZMEBATQrVu3n/IaRcSLfXusmqUb\n",
              "9/Hap0531A43dyE90cq4GEWtiEh7c8n33JaUlBAWFoafn+tQJpMJs9mM0+nEYrGQkZFBQkICI0aM\n",
              "aLRfVVUVtbW19OrVy70WFRWF0+kEXLcx3HrrrfzhD3/gwIEDLFu2rNG2P5aYmEhdXR2JiYk8/fTT\n",
              "BAUFXXDbmpoaampqGq3V19c3+7WLiOdUHK0ma9M+/v6pkzNnozbW3IXZSTHcYO2hqBURaaeu6DeU\n",
              "7dq1i9zc3Eb30jbVn//8ZxYuXMjdd99NYWEh48aNY+TIkee9LaG4uBiz2czJkyeZMWMGjz76KEuW\n",
              "LLngsRcuXMj8+fMbrf34lgkRaZ3Kj55m6cZ9/OPTEs7Uu6J2ZJ+upCdZGWNR1IqItHeXHLeRkZGU\n",
              "l5dTV1eHn58fhmHgdDoxm82sXbsWh8OB1WoFoKKigpSUFMrLy0lLS8PPz4+Kigr3FVmHw4HZbObg\n",
              "wYO89dZb/OMf/wAgOjqa+Ph4Pvzww/PGrdlsBiAoKIiHHnqIlJSUi878xBNPMGfOnEZr8+bNu9RT\n",
              "ISJXUNmR0yzZaGdlwX531I6K6kZ6kpXR/borakVEBGjmT0s4n9DQUGJjY8nJyQEgNzeXiIgILBYL\n",
              "aWlplJeX43A4cDgcxMfHs3z5ctLS0gC44447yMrKAqCgoIDS0lLGjRtH165dCQoKYv369QAcPHiQ\n",
              "rVu3Mnjw4HOe//Dhw5w6dQqAhoYGXn/9dYYPH37RmQMDAwkJCWn05evre6mnQkSugNIjp/n9W18y\n",
              "7r83kPOJkzP1DYzq242/P3gdr6fGk6CrtSIi8gPNunKbmprK6tWrqaioYNKkSQQHB2O321m2bBnJ\n",
              "ycksWLCAkJAQsrOzm3S8Z555hvvuuw+r1UpAQAA5OTn4+/sDrm82e/TRR6mrq6O2tpbZs2dz/fXX\n",
              "A5CVlUVZWRlPPfUUe/bsITU1FZPJRF1dHbGxsWRmZjbzNIhIa7P/8Cn+tmEfb2wvobbeACA+uhvp\n",
              "iTFc36+7h6cTEZHWymQYhuHpIVqDOXPmkJGR4ekxRNq9kkOnWLLRzj+37aeuwfXxdH10d9KTrMRH\n",
              "K2pFROTi9BvKRKRVcFad4m8b7OR+9n3UJli6k54Yw6i++jGAIiLSNIpbEfGo4qqTPLvezpufl1J/\n",
              "NmpvsPYgPdHKyChFrYiINI/iVkQ8wnHwJM9usPPWj6J2dpKVEX0UtSIi8tMobkWkRRUdPMni9Tbe\n",
              "3lHmjtpxMT1JT7ISa+7q4elERKStU9yKSIvYd+AEz6638/aOUs42LROu6cmsRCvDFbUiInKZKG5F\n",
              "5IqyV57g2fU2/vVFmTtqJ/YPZVailWGRXTw6m4iIeB/FrYhcEfbK4yzKs/POzjK++4GDSQNcUTsk\n",
              "ootHZxMREe+luBWRy2rvt8dZlGdj9Zfl7qi9ceDVpCdaGdy7s2eHExERr6e4FZHL4puK4yxab+O9\n",
              "H0TtzwZezSxFrYiItCDFrYhckj0Vx1iUZ+O9Lyvca5MH9WJWopWB4SEenExERNojxa2I/CRflbmi\n",
              "9v3d30ftTdf24pGJVgaEKWpFRMQzFLci0iy7y46yKM/G/+3+FgCTCW4aHMYjiRb691LUioiIZylu\n",
              "RaRJdpUeJTPPxtqvvo/a/7g2jFmJVmKuDvbwdCIiIi6KWxG5qC/3HyUzby/rvq4EXFF7y5BwHplo\n",
              "waqoFRGRVkZxKyLntXP/ETLX2cjb44paHxPcMtQVtZZQRa2IiLROilsRaWRHyREy1+1lwzcHAFfU\n",
              "3jqsNzMnWujX8yoPTyciInJxilsRAeAz52Ey19nYtPf7qJ0yvDczJ1iIVtSKiEgbobgVaee2Fx8m\n",
              "M8/G5rNR6+tjYsrZK7V9ewR5eDoREZHmUdyKtFPbHIfIzLORbzsIuKL29uGuqO3TXVErIiJtk+JW\n",
              "pJ35tOgQmXl7+dBeBYCfj4mpsRE8PMGCuXsnD08nIiJyaRS3Iu3E1sIqMvNsfLTv+6idNsIVtZHd\n",
              "FLUiIuIdFLciXu7jfVVk5u3lk8JDAPj7mpg2IpKHxvdT1IqIiNdR3Ip4IcMw+Liwisx1NrYWfR+1\n",
              "d46MJG18PyK6KmpFRMQ7KW5FvIhhGHy0zxW1nzpcURvg68OdcRGkjbfQu0tHD08oIiJyZSluRbyA\n",
              "YRh8aK/ir+v2sq34MOCK2rtGua7UhnVW1IqISPuguBVpwwzDIN92kMw8G9u/i1o/H34VF8kMRa2I\n",
              "iLRDPs3ZeNasWURFRWEymdixY4d73WazMXr0aGJiYoiLi2P37t3n7JudnY3JZGLVqlXutcrKSiZP\n",
              "nozVamXw4MFs3rzZ/dinn35KfHw8w4cPZ8CAAfzlL3+54Fxbt25l6NChxMTEMHHiREpLS5vzskTa\n",
              "HMMw2PhNJbcv/Yhfv/Ap24sPE+jnQ/LoKPIfm8D8WwcrbEVEpF1qVtxOmzaNLVu20KdPn0brqamp\n",
              "pKSksHfvXubOnUtycnKjxx0OBytWrCA+Pr7R+uOPP058fDw2m43s7GzuvvtuamtrAUhJSeH//b//\n",
              "x+eff86HH37I//zP//DVV1+dM1NDQwP33HMPf/3rX9m7dy833XQTs2fPbs7LEmkzDMNgwzeV3Lbk\n",
              "I5KzC/jceYRAPx/uT+hL/mMTePIXg7g6pIOnxxQREfGYZsXt2LFjiYiIaLRWWVnJtm3buPfeewGY\n",
              "OnUqJSUl2O12wBWf06dPZ/HixQQGBjbad+XKlcyYMQOAuLg4wsPD2bRpEwAmk4kjR44AcPLkSQIC\n",
              "AujWrds5M23fvh0/Pz8mTJgAuEL7nXfeobq6ujkvTaRVMwyD9Xu+ZcrfPuQ32QXsKDlCB38fHhjT\n",
              "l/y5E/jjLQMJVdSKiIhc+j23JSUlhIWF4efnOpTJZMJsNuN0OrFYLGRkZJCQkMCIESMa7VdVVUVt\n",
              "bS29evVyr0VFReF0OgHXbQy33norf/jDHzhw4ADLli1rtO13nE5noyvJwcHBhISEUFZWRnR09Hln\n",
              "rqmpoaamptFafX39TzsBIleQYRjkfV3JovU2du4/CkAHfx/ui+9Dyth+9AwO/DdHEBERaV+u6DeU\n",
              "7dq1i9zc3Eb30jbVn//8ZxYuXMjdd99NYWEh48aNY+TIkQwcOPCS51q4cCHz589vtPbjWyZEPMkw\n",
              "DNZ9XUlm3l52lR4DoKO/L7++vg8Pjo2mx1WKWhERkfO55LiNjIykvLycuro6/Pz8MAwDp9OJ2Wxm\n",
              "7dq1OBwOrFYrABUVFaSkpFBeXk5aWhp+fn5UVFS4r8g6HA7MZjMHDx7krbfe4h//+AcA0dHRxMfH\n",
              "8+GHH54Tt2azmeLiYvefjx8/ztGjRwkPD7/gzE888QRz5sxptDZv3rxLPRUil8wwDD746lsW5dnY\n",
              "XeaK2k4Bvtx3fR8evEFRKyIi8u80657b8wkNDSU2NpacnBwAcnNziYiIwGKxkJaWRnl5OQ6HA4fD\n",
              "QXx8PMuXLyctLQ2AO+64g6ysLAAKCgooLS1l3LhxdO3alaCgINavXw/AwYMH2bp1K4MHDz7n+UeM\n",
              "GEFtbS0bNmwAYNmyZdxyyy106HDh+w8DAwMJCQlp9OXr63upp0LkJ2toMHh/Vzk3LdpC6ivb2V12\n",
              "jKAAX9LG92PL3Ik88fMBClsREZEmaNaV29TUVFavXk1FRQWTJk0iODgYu93OsmXLSE5OZsGCBYSE\n",
              "hJCdnd2k4z3zzDPcd999WK1WAgICyMnJwd/fH3B9s9mjjz5KXV0dtbW1zJ49m+uvvx6ArKwsysrK\n",
              "eOqpp/Dx8SEnJ4fU1FSqq6sJDw/nlVdeaeZpEPGMhgaD/9tdQWaejT0VxwEICvAlOSGKB8ZE0y0o\n",
              "wMMTioiItC0mwzAMTw/RGsyZM4eMjAxPjyHtREODwZpdFSzKs/HNt66ovSrQj+TRUTwwpi9dFbUi\n",
              "IiI/iX5DmUgLqm8weO/Lchavt7H32xMABAf68ZuEKO4f05cunRS1IiIil0JxK9IC6hsMVn9ZzqI8\n",
              "G/bKs1HbwY/7E/pyf0JfOnfy9/CEIiIi3kFxK3IF1TcYvLuzjEV5NvYdOAlASAc/7h/Tl98k9KVz\n",
              "R0WtiIjI5aS4FbkC6uobeGdnGYvX2yn8QdROvyGa5IQoQjooakVERK4Exa3IZVRX38C/vnBFbdFB\n",
              "V9R27ujP9DF9+U9FrYiIyBWnuBW5DOrqG1i1o4xn19twVJ0CoEsnfx68IZpfX9+HYEWtiIhIi1Dc\n",
              "ilyC2voG3vq8lL9tsFN8Nmq7dvLnwbHR/Pr6KK4K1L9iIiIiLUl/84r8BLX1Dbz1WSnPbrDjPOSK\n",
              "2m5BAe4rtUGKWhEREY/Q38AizVBb30Du9v38baOdkkOnAegeFEDK2GjujVfUioiIeJr+JhZpgjN1\n",
              "DeR+tp9n19spPeKK2h5XBZA6th/3xJvpFKB/lURERFoD/Y0schFn6hr45/YSlmzY94OoDWTGuGju\n",
              "ua4PHQN8PTyhiIiI/JDiVuQ8aurqWbltP0s32Ck7Wg1Az+BAZozrx92jzIpaERGRVkpxK/IDNXX1\n",
              "rCwoYcnGfZSfjdrQ4EDSxvfjV6PMdPBX1IqIiLRmilsRoLq2ntcLSli6cR8Vx1xRe3VIIGnj+nGX\n",
              "olZERKTNUNxKu1ZdW89rnzrJ2rSPb4/VANArpAMPTejHnSMjFbUiIiJtjOJW2qXq2nr+vtUVtZXH\n",
              "XVEb1rkDD02wcOfICAL9FLUiIiJtkeJW2pXTZ+p5dWsxyzYXcuBs1Pbu0pG08f24Q1ErIiLS5ilu\n",
              "pV04daaOVz9xsmxzIQdPfB+1D0+wMG1EBAF+Ph6eUERERC4Hxa14tVNn6sj5pJjlmws5eOIMABFd\n",
              "OzJzgoXbYxW1IiIi3kZxK17pZE0dr3xSzIrNhVSddEVtZLfvo9bfV1ErIiLijRS34lVO1NTx8scO\n",
              "nssv4tDZqO3TvRMPT7Bw2/DeiloREREvp7gVr3Cipo6XPnLwXH4hh0/VAq6ofWSilSnDwvFT1IqI\n",
              "iLQLiltp045X17qidksRR85Gbd8eQcycYOFWRa2IiEi7o7iVNulYdS0vfujg+S1FHD3titroHkE8\n",
              "kmjhliGKWhERkfZKcSttytHT30VtIceq6wCI7hlEeqKVm4eE4+tj8vCEIiIi4kmKW2kTjp6u5YUt\n",
              "RbzwYRHHz0atJfQqHploUdSKiIiIW7P+2+2sWbOIiorCZDKxY8cO97rNZmP06NHExMQQFxfH7t27\n",
              "z9k3Ozsbk8nEqlWr3GuVlZVMnjwZq9XK4MGD2bx5s/ux6667jmHDhjFs2DAGDx6MyWRi586d553L\n",
              "ZDJx7bXXurfPz89vzsuSVuzoqVoyPviGMX9eT2aejePVdVhDr2Lxr4bzf7PHcuuw3gpbERERcWvW\n",
              "ldtp06bx2GOPMWbMmEbrqamppKSkkJyczBtvvEFycjIFBQXuxx0OBytWrCA+Pr7Rfo8//jjx8fG8\n",
              "//77FBQUcNttt1FUVIS/vz9bt251b/fGG28wf/58hgwZcsHZ8vPz6dKlS3NejrRiR06d4fktRbz4\n",
              "oYPjNa4rtTFXX0V6Ygw/H9wLHwWtiIiInEez4nbs2LHnrFVWVrJt2zY++OADAKZOncrMmTOx2+1Y\n",
              "LBYaGhqYPn06ixcv5re//W2jfVeuXIndbgcgLi6O8PBwNm3aRFJSUqPtnn/+eR544IFmvTBpmw6f\n",
              "PMNzWwp56aNiTpyN2v69gpmVaGXyIEWtiIiIXNwl33NbUlJCWFgYfn6uQ5lMJsxmM06nE4vFQkZG\n",
              "BgkJCYwYMaLRflVVVdTW1tKrVy/3WlRUFE6n85zjb9q0iVdeeeWicyQmJlJXV0diYiJPP/00QUFB\n",
              "F9y2pqaGmpqaRmv19fVNer1yZRw6eYYV+YW8/JGDk2dc/1sMCAshPdHCzwYqakVERKRprug3lO3a\n",
              "tYvc3NxG99I214svvsjNN99Mjx49LrhNcXExZrOZkydPMmPGDB599FGWLFlywe0XLlzI/PnzG639\n",
              "+JYJaRlVJ2pYkV/Eyx87OHU2ageGhZCeZOXGAVcrakVERKRZLjluIyMjKS8vp66uDj8/PwzDwOl0\n",
              "YjabWbt2LQ6HA6vVCkBFRQUpKSmUl5eTlpaGn58fFRUV7qu3DocDs9nsPrZhGGRnZ7N06dKLzvDd\n",
              "PkFBQTz00EOkpKRcdPsnnniCOXPmNFqbN29es1+7/HQHT9SwYnMhr3xS7I7aQeEhpCdauXHg1ZhM\n",
              "iloRERFpvkuO29DQUGJjY8nJySE5OZnc3FwiIiKwWCxYLBbS0tLc244fP57Zs2czZcoUAO644w6y\n",
              "srJ48sknKSgooLS0lHHjxrm3X79+PXV1ddx4440XfP7Dhw8TGBhIp06daGho4PXXX2f48OEXnTkw\n",
              "MJDAwMBGa76+vj/h1UtzHThew/LN+8j5xMnpWlfUXtu7M+mJVhIHhCpqRURE5JI0K25TU1NZvXo1\n",
              "FRUVTJo0ieDgYOx2O8uWLSM5OZkFCxYQEhJCdnZ2k473zDPPcN9992G1WgkICCAnJwd/f3/3488/\n",
              "/zy/+c1v8PFp/BPLsrKyKCsr46mnnmLPnj2kpqZiMpmoq6sjNjaWzMzM5rwsaQGVx6tZvqmQnK3F\n",
              "VNc2ADAkojOzk6xMuEZRKyIiIpeHyTAMw9NDtAZz5swhIyPD02N4ncpj1WRtKuTVrcXU1Lmidmhk\n",
              "F2YnWhl/TU9FrYiIiFxW+g1lckV8e6yapRv38dqnTnfUDjd3IT3RyrgYRa2IiIhcGYpbuawqjlaT\n",
              "tWkff//UyZmzURtr7sLspBhusPZQ1IqIiMgVpbiVy6L86GmWbtzHPwpK3FE7sk9X0pOsjLEoakVE\n",
              "RKRlKG7lkpQdcUXt6wUlnKl3Re2oqG6kJ1kZ3a+7olZERERalOJWfpLSI6dZssHOym0l1Na7vidx\n",
              "VN9uzE6ycn20olZEREQ8Q3ErzbL/8CmWbNzHP38QtfHR3UhPjOH6ft09PJ2IiIi0d4pbaZKSQ6dY\n",
              "stHOG9v3u6P2+ujupCdZiY9W1IqIiEjroLiVi3JWneJvG+zkfrafugZX1CZYupOeGMOovt08PJ2I\n",
              "iIhIY4pbOS9n1Sme3WAj97NS6s9G7Q3WHqQnWhkZpagVERGR1klxK404Dp7k2Q123vq8cdTOTrIy\n",
              "oo+iVkRERFo3xa0AUHTwJIvX23h7R5k7asfF9CQ9yUqsuauHpxMRERFpGsVtO1d44ATPrrezakcp\n",
              "Z5uWCdf0ZFaileGKWhEREWljFLftlL3yBM+ut/GvL8rcUTuxfyizEq0Mi+zi0dlEREREfirFbTtj\n",
              "rzzOojw77+wswzgbtUkDXFE7JKKLR2cTERERuVSK23bC9u1xFq238+4PovbGgVeTnmhlcO/Onh1O\n",
              "RERE5DJR3Hq5byqOs2i9jfe+LHdH7c8GXs0sRa2IiIh4IcWtl9pTcYxFeTbe+7LCvTZ5UC8eSbQw\n",
              "KFxRKyIiIt5Jcetlvi53Re2aXd9H7U3X9uKRiVYGhIV4cDIRERGRK09x6yV2lx1lUZ6N/9v9LQAm\n",
              "E9w0OIxHEi3076WoFRERkfZBcdvG7So9SmaejbVffR+1/3FtGLMSrcRcHezh6URERERaluK2jfpy\n",
              "vytq1339fdTeMiScRyZasCpqRUREpJ1S3LYxO/cfIXOdjbw9lQD4mOCWoa6otYQqakVERKR9U9y2\n",
              "ETtKjpC5bi8bvjkAuKL21mG9mTnRQr+eV3l4OhEREZHWQXHbyn3uPExmno2NP4jaKcN7M3OChWhF\n",
              "rYiIiEgjittWanuxK2o373VFra+PiSlnr9T27RHk4elEREREWifFbSuzzXGIzDwb+baDgCtqbx/e\n",
              "m4cnWIhS1IqIiIhclE9zNp41axZRUVGYTCZ27NjhXrfZbIwePZqYmBji4uLYvXv3OftmZ2djMplY\n",
              "tWqVe62yspLJkydjtVoZPHgwmzdvdj923XXXMWzYMIYNG8bgwYMxmUzs3LnzvHNt3bqVoUOHEhMT\n",
              "w8SJEyktLW3Oy2oVChyHuPe5rUzL+ph820H8fEz8cmQkG347nv++Y6jCVkRERKQJmhW306ZNY8uW\n",
              "LfTp06fRempqKikpKezdu5e5c+eSnJzc6HGHw8GKFSuIj49vtP74448THx+PzWYjOzubu+++m9ra\n",
              "WsAVrDt27GDHjh08+eSTDB48mCFDhpwzU0NDA/fccw9//etf2bt3LzfddBOzZ89uzsvyqK2FVdy9\n",
              "4hPuyPqYLXZX1N4VF8mG343nmWlDMHfv5OkRRURERNqMZsXt2LFjiYiIaLRWWVnJtm3buPfeewGY\n",
              "OnUqJSUl2O12wBWf06dPZ/HixQQGBjbad+XKlcyYMQOAuLg4wsPD2bRp0znP+/zzz/PAAw+cd6bt\n",
              "27fj5+fHhAkTAFdov/POO1RXVzfnpbW4j/dVcdfyj/nl8k/4aF8V/r4mfjXKzIbfjefPU4cQ2U1R\n",
              "KyIiItJcl3zPbUlJCWFhYfj5uQ5lMpkwm804nU4sFgsZGRkkJCQwYsSIRvtVVVVRW1tLr1693GtR\n",
              "UVE4nc5zjr9p0yZeeeWV8z6/0+lsdCU5ODiYkJAQysrKiI6OPu8+NTU11NTUNFqrr69v+ou+BF+U\n",
              "HGHBe1+ztegQAP6+Ju4cGUna+H5EdFXQioiIiFyKK/oNZbt27SI3N7fRvbTN9eKLL3LzzTfTo0eP\n",
              "yzbXwoULmT9/fqO1H98ycaUcOV3L1qJDBPj6cGdcBGnjLfTu0rFFnltERETE211y3EZGRlJeXk5d\n",
              "XR1+fn4YhoHT6cRsNrN27VocDgdWqxWAiooKUlJSKC8vJy0tDT8/PyoqKtxXbx0OB2az2X1swzDI\n",
              "zs5m6dKlF3x+s9lMcXGx+8/Hjx/n6NGjhIeHX3CfJ554gjlz5jRamzdv3k96/c011tqDuZP7c+uw\n",
              "cMIVtSIiIiKXVbPuuT2f0NBQYmNjycnJASA3N5eIiAgsFgtpaWmUl5fjcDhwOBzEx8ezfPly0tLS\n",
              "ALjjjjvIysoCoKCggNLSUsaNG+c+9vr166mrq+PGG2+84POPGDGC2tpaNmzYAMCyZcu45ZZb6NCh\n",
              "wwX3CQwMJCQkpNGXr6/vpZ6KJjGZTKSN76ewFREREbkCmnXlNjU1ldWrV1NRUcGkSZMIDg7Gbrez\n",
              "bNkykpOTWbBgASEhIWRnZzfpeM888wz33XcfVquVgIAAcnJy8Pf3dz/+/PPP85vf/AYfn8YNnpWV\n",
              "RVlZGU899RQ+Pj7k5OSQmppKdXU14eHhF7w/V0RERES8m8kwDMPTQ7QGc+bMISMjw9NjiIiIiMgl\n",
              "uOTbEkREREREWgvFrYiIiIh4DcWtiIiIiHgNxa2IiIiIeA3FrYiIiIh4DcWtiIiIiHgNxa2IiIiI\n",
              "eA3FrYiIiIh4DcWtiIiIiHgN/Yays26//XaioqJa5Lnq6+v59NNPGTVqFL6+vi3ynG2BzsuF6dyc\n",
              "n87LhencnJ/Oy4Xp3Jyfzsv5eeq89OnTh/T09Ituo7j1gGPHjtG5c2eOHj1KSEiIp8dpNXReLkzn\n",
              "5vx0Xi5M5+b8dF4uTOfm/HRezq81nxfdliAiIiIiXkNxKyIiIiJeQ3ErIiIiIl5DcesBgYGB/Nd/\n",
              "/ReBgYGeHqVV0Xm5MJ2b89N5uTCdm/PTebkwnZvz03k5v9Z8XvQNZSIiIiLiNXTlVkRERES8huJW\n",
              "RERERLyG4lZEREREvIbi9gqy2WyMHj2amJgY4uLi2L1793m3e/7557FarfTr148HH3yQ2traFp60\n",
              "ZTXlvGzcuJGOHTsybNgw99fp06c9MG3LmTVrFlFRUZhMJnbs2HHB7drb+wWadm7a43umurqaKVOm\n",
              "EBMTw9ChQ7nxxhux2+3n3fbdd9+lf//+WK1Wbr/9do4dO9bC07acpp4Xh8OBr69vo/fMvn37PDBx\n",
              "y/rZz37GkCFDGDZsGDfccAOff/75ebdrb581TTkv7fFz5jvZ2dmYTCZWrVp13sdb1WeMIVfMhAkT\n",
              "jOzsbMMwDOOf//ynMXLkyHO2KSwsNMLCwozy8nKjoaHBuOWWW4xnn322hSdtWU05Lxs2bDCGDh3a\n",
              "soN52KZNm4ySkhKjT58+xueff37ebdrj+8UwmnZu2uN75vTp08bq1auNhoYGwzAMY/Hixca4cePO\n",
              "2e748eNGaGio8fXXXxuGYRgPP/yw8bvf/a4lR21RTT0vRUVFRufOnVt2uFbg8OHD7n9+8803jSFD\n",
              "hpyzTXv8rGnKeWmPnzOG4fp35frrrzfi4+ONt95665zHW9tnjK7cXiGVlZVs27aNe++9F4CpU6dS\n",
              "UlJyztWDN954g1/84hf06tULk8nEjBkzeO211zwxcoto6nlpj8aOHUtERMRFt2lv75fvNOXctEcd\n",
              "OnTgpptuwmQyARAfH4/D4ThnuzVr1jB8+HD69+8PwEMPPeTV75umnpf2qkuXLu5/Pnr0qPs8/VB7\n",
              "/KxpynlpjxoaGpg+fTqLFy++4I/9am2fMYrbK6SkpISwsDD8/PwAMJlMmM1mnE5no+2cTid9+vRx\n",
              "/zkqKuqcbbxJU88LwL59+4iNjSUuLo4lS5a09KitUnt7vzRXe3/PZGZmcuutt56zfr73TXl5OXV1\n",
              "dS05nsdc6LwAnDx5kri4OGJjY3nqqaeor69v4ek849e//jWRkZHMmzePV1555ZzH2+tnzb87L9D+\n",
              "PmcyMjJISEhgxIgRF9ymtX3G+HnkWUX+jdjYWPbv30/nzp3Zv38/N910Ez169ODOO+/09GjSSrX3\n",
              "98yCBQuw2+3k5eV5epRW5WLnJSwsjNLSUkJDQzl06BC//OUv+d///V8ee+wxD0zasl5++WUAXnrp\n",
              "JebOnct7773n4Ylah393Xtrb58yuXbvIzc1l8+bNnh6lWXTl9gqJjIxs9P9aDMPA6XRiNpsbbWc2\n",
              "mykuLnb/2eFwnLONN2nqeQkJCaFz584ARERE8Ktf/Yr8/PwWn7e1aW/vl+Zoz++Z//mf/+HNN99k\n",
              "zZo1dOrU6ZzHz/e++eF/QfFW/+68BAYGEhoaCkC3bt24//7728175jv/+Z//yYYNG6iqqmq03t4/\n",
              "ay50Xtrb50x+fj4OhwOr1UpUVBSffPIJKSkpLF26tNF2re0zRnF7hYSGhhIbG0tOTg4Aubm5RERE\n",
              "YLFYGm03depU/vWvf1FRUYFhGGRlZXHXXXd5YuQW0dTzUl5eTkNDAwDHjx/n3XffZfjw4S0+b2vT\n",
              "3t4vzdFe3zMZGRm89tprrF27ttE9gz80efJkPvvsM/bs2QPAkiVLvP5905TzUllZ6f4JADU1Nbz5\n",
              "5pte/545cuQIZWVl7j+vWrWK7t27061bt0bbtbfPmqael/b2OZOWlkZ5eTkOhwOHw0F8fDzLly8n\n",
              "LS2t0Xat7jPGY9/K1g7s2bPHiI+PN6xWqzFixAhj586dhmEYxgMPPGC8/fbb7u2WL19uREdHG9HR\n",
              "0cb9999vnDlzxlMjt4imnJfFixcbAwcONIYMGWIMHDjQ+K//+i/3dz57q5SUFKN3796Gr6+vERoa\n",
              "avTr188wDL1fDKNp56Y9vmdKSkoMwIiOjjaGDh1qDB061Bg1apRhGIYxb948Y+nSpe5t3377beOa\n",
              "a64x+vXrZ9x6663GkSNHPDX2FdfU85Kbm2sMGjTI/Z6ZOXOmUV1d7cnRrziHw2HExcUZgwcPNoYM\n",
              "GWIkJia6fwJJe/6saep5aY+fMz80btw4909LaM2fMSbDMAzPpbWIiIiIyOWj2xJERERExGsobkVE\n",
              "RETEayhuRURERMRrKG5FRERExGsobkVERETEayhuRURERMRrKG5FRERExGsobkVERETEayhuRURE\n",
              "RMRrKG5FRERExGsobkVERETEa/x/ZqAkg52er2YAAAAASUVORK5CYII=\n",
              "\">\n",
              "      </div>\n",
              "      <script type=\"text/javascript\">\n",
              "        (() => {\n",
              "          const chartElement = document.getElementById(\"chart-947bccb4-15d8-4ff1-ba08-52f985faf0e8\");\n",
              "          async function getCodeForChartHandler(event) {\n",
              "            const chartCodeResponse =  await google.colab.kernel.invokeFunction(\n",
              "                'getCodeForChart', [\"chart-947bccb4-15d8-4ff1-ba08-52f985faf0e8\"], {});\n",
              "            const responseJson = chartCodeResponse.data['application/json'];\n",
              "            await google.colab.notebook.addCell(responseJson.code, 'code');\n",
              "          }\n",
              "          chartElement.onclick = getCodeForChartHandler;\n",
              "        })();\n",
              "      </script>\n",
              "      <style>\n",
              "        .colab-quickchart-chart-with-code  {\n",
              "            display: block;\n",
              "            float: left;\n",
              "            border: 1px solid transparent;\n",
              "        }\n",
              "\n",
              "        .colab-quickchart-chart-with-code:hover {\n",
              "            cursor: pointer;\n",
              "            border: 1px solid #aaa;\n",
              "        }\n",
              "      </style>"
            ]
          },
          "metadata": {}
        }
      ]
    },
    {
      "cell_type": "code",
      "source": [
        "submisson.to_csv(\"submisson2.csv\" , index = False)"
      ],
      "metadata": {
        "id": "xYLdUQXqexdL"
      },
      "execution_count": 52,
      "outputs": []
    },
    {
      "cell_type": "code",
      "source": [],
      "metadata": {
        "id": "UaXmnJbwhPyG"
      },
      "execution_count": null,
      "outputs": []
    }
  ]
}